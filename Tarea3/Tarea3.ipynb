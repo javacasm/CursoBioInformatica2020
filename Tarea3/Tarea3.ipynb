{
 "cells": [
  {
   "cell_type": "code",
   "execution_count": 2,
   "metadata": {},
   "outputs": [
    {
     "name": "stdout",
     "output_type": "stream",
     "text": [
      "Múltiplos de 5:  [5, 10, 15, 20, 25, 30, 35, 40, 45, 50, 55, 60, 65, 70, 75, 80, 85, 90, 95, 100, 105, 110, 115, 120, 125, 130, 135, 140, 145, 150, 155, 160, 165, 170, 175, 180, 185, 190, 195, 200, 205, 210, 215, 220, 225, 230, 235, 240, 245, 250, 255, 260, 265, 270, 275, 280, 285, 290, 295, 300, 305, 310, 315, 320, 325, 330, 335, 340, 345, 350, 355, 360, 365, 370, 375, 380, 385, 390, 395, 400, 405, 410, 415, 420, 425, 430, 435, 440, 445, 450, 455, 460, 465, 470, 475, 480, 485, 490, 495, 500, 505, 510, 515, 520, 525, 530, 535, 540, 545, 550, 555, 560, 565, 570, 575, 580, 585, 590, 595, 600, 605, 610, 615, 620, 625, 630, 635, 640, 645, 650, 655, 660, 665, 670, 675, 680, 685, 690, 695, 700, 705, 710, 715, 720, 725, 730, 735, 740, 745, 750, 755, 760, 765, 770, 775, 780, 785, 790, 795, 800, 805, 810, 815, 820, 825, 830, 835, 840, 845, 850, 855, 860, 865, 870, 875, 880, 885, 890, 895, 900, 905, 910, 915, 920, 925, 930, 935, 940, 945, 950, 955, 960, 965, 970, 975, 980, 985, 990, 995, 1000]\n",
      "Múltiplos de 7  [7, 14, 21, 28, 35, 42, 49, 56, 63, 70, 77, 84, 91, 98, 105, 112, 119, 126, 133, 140, 147, 154, 161, 168, 175, 182, 189, 196, 203, 210, 217, 224, 231, 238, 245, 252, 259, 266, 273, 280, 287, 294, 301, 308, 315, 322, 329, 336, 343, 350, 357, 364, 371, 378, 385, 392, 399, 406, 413, 420, 427, 434, 441, 448, 455, 462, 469, 476, 483, 490, 497, 504, 511, 518, 525, 532, 539, 546, 553, 560, 567, 574, 581, 588, 595, 602, 609, 616, 623, 630, 637, 644, 651, 658, 665, 672, 679, 686, 693, 700, 707, 714, 721, 728, 735, 742, 749, 756, 763, 770, 777, 784, 791, 798, 805, 812, 819, 826, 833, 840, 847, 854, 861, 868, 875, 882, 889, 896, 903, 910, 917, 924, 931, 938, 945, 952, 959, 966, 973, 980, 987, 994]\n",
      "Múltiplos de 5 y 7 [35, 70, 105, 140, 175, 210, 245, 280, 315, 350, 385, 420, 455, 490, 525, 560, 595, 630, 665, 700, 735, 770, 805, 840, 875, 910, 945, 980]\n",
      "Múltiplos de 5 o 7 [5, 7, 10, 14, 15, 20, 21, 25, 28, 30, 35, 40, 42, 45, 49, 50, 55, 56, 60, 63, 65, 70, 75, 77, 80, 84, 85, 90, 91, 95, 98, 100, 105, 110, 112, 115, 119, 120, 125, 126, 130, 133, 135, 140, 145, 147, 150, 154, 155, 160, 161, 165, 168, 170, 175, 180, 182, 185, 189, 190, 195, 196, 200, 203, 205, 210, 215, 217, 220, 224, 225, 230, 231, 235, 238, 240, 245, 250, 252, 255, 259, 260, 265, 266, 270, 273, 275, 280, 285, 287, 290, 294, 295, 300, 301, 305, 308, 310, 315, 320, 322, 325, 329, 330, 335, 336, 340, 343, 345, 350, 355, 357, 360, 364, 365, 370, 371, 375, 378, 380, 385, 390, 392, 395, 399, 400, 405, 406, 410, 413, 415, 420, 425, 427, 430, 434, 435, 440, 441, 445, 448, 450, 455, 460, 462, 465, 469, 470, 475, 476, 480, 483, 485, 490, 495, 497, 500, 504, 505, 510, 511, 515, 518, 520, 525, 530, 532, 535, 539, 540, 545, 546, 550, 553, 555, 560, 565, 567, 570, 574, 575, 580, 581, 585, 588, 590, 595, 600, 602, 605, 609, 610, 615, 616, 620, 623, 625, 630, 635, 637, 640, 644, 645, 650, 651, 655, 658, 660, 665, 670, 672, 675, 679, 680, 685, 686, 690, 693, 695, 700, 705, 707, 710, 714, 715, 720, 721, 725, 728, 730, 735, 740, 742, 745, 749, 750, 755, 756, 760, 763, 765, 770, 775, 777, 780, 784, 785, 790, 791, 795, 798, 800, 805, 810, 812, 815, 819, 820, 825, 826, 830, 833, 835, 840, 845, 847, 850, 854, 855, 860, 861, 865, 868, 870, 875, 880, 882, 885, 889, 890, 895, 896, 900, 903, 905, 910, 915, 917, 920, 924, 925, 930, 931, 935, 938, 940, 945, 950, 952, 955, 959, 960, 965, 966, 970, 973, 975, 980, 985, 987, 990, 994, 995, 1000]\n"
     ]
    }
   ],
   "source": [
    "# Tarea 3\n",
    "\"\"\"\n",
    " cálculo de multiplos de 5 y/o 7 entre 1 y 1000 usando bucle for\n",
    "\n",
    " License CC by SA\n",
    " by @javacasm\n",
    "\n",
    " 6/4/2020\n",
    "\n",
    "\"\"\"\n",
    "\n",
    "multiplos5 = []\n",
    "multiplos7 = []\n",
    "multiplos5y7 = []\n",
    "multiplos5o7 = []\n",
    "\n",
    "for numero in range(1, 1001):\n",
    "    bMultiplo5 = numero % 5 == 0  # comprobamos si es múltiplo de 5\n",
    "    bMultiplo7 = numero % 7 == 0  # comprobamos si es múltiplo de 7\n",
    "    if bMultiplo5 and bMultiplo7 :\n",
    "        # print(numero , ' es múltiplo de 5 y de 7')\n",
    "        multiplos5.append(numero)\n",
    "        multiplos7.append(numero)\n",
    "        multiplos5y7.append(numero)\n",
    "        multiplos5o7.append(numero)\n",
    "    elif bMultiplo5 :\n",
    "        # print(numero , ' es múltiplo de 5')\n",
    "        multiplos5.append(numero)\n",
    "        multiplos5o7.append(numero)\n",
    "    elif bMultiplo7 :\n",
    "        # print(numero , ' es múltiplo de 5 y de 7')\n",
    "        multiplos7.append(numero)\n",
    "        multiplos5o7.append(numero)\n",
    "\n",
    "\n",
    "print('Múltiplos de 5: ', multiplos5)\n",
    "print('Múltiplos de 7 ', multiplos7)\n",
    "print('Múltiplos de 5 y 7', multiplos5y7)\n",
    "print('Múltiplos de 5 o 7', multiplos5o7)\n"
   ]
  },
  {
   "cell_type": "code",
   "execution_count": 6,
   "metadata": {},
   "outputs": [
    {
     "name": "stdout",
     "output_type": "stream",
     "text": [
      "La suma de los números hasta 10000000 es  50000005000000\n",
      "Sabiendo algo de álgebra:  50000005000000\n"
     ]
    }
   ],
   "source": [
    "\"\"\"\n",
    " Tarea 3\n",
    " Suma de los números hasta N\n",
    "\n",
    "\n",
    " License CC by SA\n",
    " by @javacasm\n",
    "\n",
    " 9/4/2020\n",
    "\n",
    "\n",
    "\"\"\"\n",
    "N = 10000000\n",
    "\n",
    "numero = 1\n",
    "suma = 0\n",
    "while numero <= N:\n",
    "    suma += numero\n",
    "    numero += 1\n",
    "\n",
    "print('La suma de los números hasta %d es ' % N, suma)\n",
    "\n",
    "print('Sabiendo algo de álgebra: ', (1+N)*N//2)\n"
   ]
  },
  {
   "cell_type": "code",
   "execution_count": 4,
   "metadata": {},
   "outputs": [
    {
     "name": "stdout",
     "output_type": "stream",
     "text": [
      "Cálculo de número primos hasta el 1000 usando el método de la criba de Eratóstenes\n",
      "múltiplos de  2  (499)\n",
      "criba (500): \n",
      "múltiplos de  3  (332)\n",
      "criba (334): \n",
      "múltiplos de  5  (199)\n",
      "criba (268): \n",
      "múltiplos de  7  (141)\n",
      "criba (231): \n",
      "múltiplos de  11  (89)\n",
      "criba (211): \n",
      "múltiplos de  13  (75)\n",
      "criba (195): \n",
      "múltiplos de  17  (57)\n",
      "criba (185): \n",
      "múltiplos de  19  (51)\n",
      "criba (177): \n",
      "múltiplos de  23  (42)\n",
      "criba (171): \n",
      "múltiplos de  29  (33)\n",
      "criba (169): \n",
      "múltiplos de  31  (31)\n",
      "criba (168): \n",
      "Hemos  terminado\n",
      "criba (168):  [2, 3, 5, 7, 11, 13, 17, 19, 23, 29, 31, 37, 41, 43, 47, 53, 59, 61, 67, 71, 73, 79, 83, 89, 97, 101, 103, 107, 109, 113, 127, 131, 137, 139, 149, 151, 157, 163, 167, 173, 179, 181, 191, 193, 197, 199, 211, 223, 227, 229, 233, 239, 241, 251, 257, 263, 269, 271, 277, 281, 283, 293, 307, 311, 313, 317, 331, 337, 347, 349, 353, 359, 367, 373, 379, 383, 389, 397, 401, 409, 419, 421, 431, 433, 439, 443, 449, 457, 461, 463, 467, 479, 487, 491, 499, 503, 509, 521, 523, 541, 547, 557, 563, 569, 571, 577, 587, 593, 599, 601, 607, 613, 617, 619, 631, 641, 643, 647, 653, 659, 661, 673, 677, 683, 691, 701, 709, 719, 727, 733, 739, 743, 751, 757, 761, 769, 773, 787, 797, 809, 811, 821, 823, 827, 829, 839, 853, 857, 859, 863, 877, 881, 883, 887, 907, 911, 919, 929, 937, 941, 947, 953, 967, 971, 977, 983, 991, 997]\n"
     ]
    }
   ],
   "source": [
    "\"\"\"\n",
    " Tarea 3\n",
    " Criba de Eratóstenes\n",
    "\n",
    " Se van retirando la lista todos los múltiplos conocidos de cada número\n",
    "\n",
    " License CC by SA\n",
    " by @javacasm\n",
    "\n",
    " 9/4/2020\n",
    "\n",
    "\"\"\"\n",
    "\n",
    "N = 1000  # Hasta donde haremos la criba\n",
    "\n",
    "# empezamos con todos los números\n",
    "# criba = [x for x in range(2, N + 1)]\n",
    "\n",
    "print('Cálculo de número primos hasta el %d usando el método de la criba de Eratóstenes' %N)\n",
    "\n",
    "criba = list(range(2, N + 1))\n",
    "\n",
    "posicion = 0\n",
    "\n",
    "def retiraMultiplos():\n",
    "    global posicion, criba, N\n",
    "\n",
    "    elemento = criba[posicion]\n",
    "\n",
    "    if elemento*elemento > N:\n",
    "        print('Hemos  terminado')\n",
    "        print('criba (%d): ' % len(criba), criba)\n",
    "        return 0\n",
    "\n",
    "    multiplos = [elemento * x for x in range(2, N//elemento + 1)]\n",
    "    print('múltiplos de ', elemento, ' (%d)' % len(multiplos))\n",
    "    # print('múltiplos de ', elemento, ':', multiplos)\n",
    "\n",
    "    for multiplo in multiplos:\n",
    "        if criba.count(multiplo):   # numero está en criba\n",
    "            criba.remove(multiplo)  # lo quitamos\n",
    "    posicion += 1\n",
    "    print('criba (%d): ' % len(criba))\n",
    "    # print('criba (%d): ' % len(criba), criba)\n",
    "    return len(criba)\n",
    "\n",
    "while retiraMultiplos() > 0:\n",
    "    pass\n"
   ]
  }
 ],
 "metadata": {
  "kernelspec": {
   "display_name": "Python 3",
   "language": "python",
   "name": "python3"
  },
  "language_info": {
   "codemirror_mode": {
    "name": "ipython",
    "version": 3
   },
   "file_extension": ".py",
   "mimetype": "text/x-python",
   "name": "python",
   "nbconvert_exporter": "python",
   "pygments_lexer": "ipython3",
   "version": "3.6.9"
  }
 },
 "nbformat": 4,
 "nbformat_minor": 4
}
