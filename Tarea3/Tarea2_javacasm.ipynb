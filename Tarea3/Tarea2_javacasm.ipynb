{
 "cells": [
  {
   "cell_type": "code",
   "execution_count": 1,
   "metadata": {},
   "outputs": [
    {
     "name": "stdin",
     "output_type": "stream",
     "text": [
      "Alumno 1 (ENTER para terminar)  pp\n",
      "Alumno 2 (ENTER para terminar)  juan\n",
      "Alumno 3 (ENTER para terminar)  \n",
      "Asignatura 1 (ENTER para terminar)  mates\n",
      "Asignatura 2 (ENTER para terminar)  lengua\n",
      "Asignatura 3 (ENTER para terminar)  \n",
      "mates de pp  3\n",
      "mates de juan  2\n",
      "lengua de pp  6\n",
      "lengua de juan  2\n"
     ]
    },
    {
     "name": "stdout",
     "output_type": "stream",
     "text": [
      "pp mates:3.0 lengua:6.0\n",
      "juan mates:2.0 lengua:2.0\n",
      "pp tiene una media de 4.5\n",
      "juan tiene una media de 2.0\n",
      "En la asignatura mates la media es 2.5\n",
      "En la asignatura lengua la media es 4.0\n"
     ]
    }
   ],
   "source": [
    "# Tarea 2/3\n",
    "\"\"\"\n",
    " Ejemplo de uso de listas, entrada de datos del usuario\n",
    " Codigo para gestión de las notas de un cole\n",
    " Se piden primero los nombres de los alumnos (nombre vacío para terminar)\n",
    " Se piden después las asignaturas (asignatura vacía para terminar)\n",
    " Después se piden las notas\n",
    "\n",
    " License CC by SA\n",
    " by @javacasm\n",
    "\n",
    " 6/4/2020\n",
    "\n",
    "\"\"\"\n",
    "\n",
    "def cargaLista(categoria):\n",
    "    lista = []\n",
    "\n",
    "    while True:\n",
    "        valor = input(categoria + ' ' + str(len(lista) + 1) + ' (ENTER para terminar) ')\n",
    "        if valor != '':\n",
    "            lista.append(valor)\n",
    "        else:\n",
    "            break\n",
    "    return lista\n",
    "\n",
    "# Vamos a pedir los nombres de los alumnos\n",
    "alumnos = cargaLista('Alumno')\n",
    "\n",
    "# Vamos a pedir los nombres de las asignaturas\n",
    "asignaturas = cargaLista('Asignatura')\n",
    "notas = []\n",
    "\n",
    "# Vamos a pedir las notas\n",
    "for asignatura in asignaturas:\n",
    "    notasAsignatura = []\n",
    "    for alumno in alumnos:\n",
    "        notasAsignatura.append(float(input(asignatura + ' de ' + alumno + ' ')))\n",
    "    notas.append(notasAsignatura)\n",
    "\n",
    "# print('Las notas son: ',notas)\n",
    "\n",
    "# Mostrar todas las notas\n",
    "for j in range(0, len(alumnos)):\n",
    "    alumno = alumnos[j]\n",
    "    mensaje = alumno\n",
    "    for i in range(0, len(asignaturas)):\n",
    "        asignatura = asignaturas[i]\n",
    "        mensaje += ' ' + asignatura + ':' + str(notas[i][j])\n",
    "    print(mensaje)\n",
    "\n",
    "# Medias por alumno\n",
    "for j in range(0, len(alumnos)):\n",
    "    alumno = alumnos[j]\n",
    "    mensaje = alumno\n",
    "    suma = 0\n",
    "    for i in range(0, len(asignaturas)):\n",
    "        suma += notas[i][j]\n",
    "    media = suma / len(asignaturas)\n",
    "    mensaje += ' tiene una media de ' + str(round(media * 100)/100) # Para redondear a 2 decimales\n",
    "    print(mensaje)\n",
    "\n",
    "# Medias por asignatura\n",
    "for i in range(0, len(asignaturas)):\n",
    "    asignatura = asignaturas[i]\n",
    "    mensaje = 'En la asignatura ' + asignatura\n",
    "    suma = 0\n",
    "    for j in range(0, len(alumnos)):\n",
    "        suma += notas[i][j]\n",
    "    media = suma / len(alumnos)\n",
    "    mensaje += ' la media es ' + str(round(media * 100)/100) # Para redondear a 2 decimales\n",
    "    print(mensaje)\n"
   ]
  }
 ],
 "metadata": {
  "kernelspec": {
   "display_name": "Python 3",
   "language": "python",
   "name": "python3"
  },
  "language_info": {
   "codemirror_mode": {
    "name": "ipython",
    "version": 3
   },
   "file_extension": ".py",
   "mimetype": "text/x-python",
   "name": "python",
   "nbconvert_exporter": "python",
   "pygments_lexer": "ipython3",
   "version": "3.6.9"
  }
 },
 "nbformat": 4,
 "nbformat_minor": 4
}
