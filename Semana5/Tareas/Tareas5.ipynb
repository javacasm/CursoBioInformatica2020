{
 "cells": [
  {
   "cell_type": "markdown",
   "metadata": {
    "colab_type": "text",
    "id": "wWVXFQojW0mT"
   },
   "source": [
    "# Ejerccios de diccionarios y conjuntos\n",
    "\n",
    "License CC by SA by @javacasm\n",
    "\n",
    "20-23 Abril 2020\n",
    "\n",
    "## [Ejercicios de diccionarios](#Ejercicios_diccionarios)\n",
    "## [Ejercicios_de conjuntos](#Ejercicios_conjuntos)\n",
    "## [Recuento de palabras](#Recuento_palabras)\n",
    "## [17 fórmulas...](#17_formulas)"
   ]
  },
  {
   "cell_type": "code",
   "execution_count": 99,
   "metadata": {
    "colab": {},
    "colab_type": "code",
    "id": "BryyMJ6BW0mb"
   },
   "outputs": [],
   "source": [
    "# Ejercicios Nivel Básico:\n",
    "# De las webs de ejercicios anteriores hacer los restantes ejercicios de cada web"
   ]
  },
  {
   "cell_type": "markdown",
   "metadata": {},
   "source": [
    "#  Ejercicios de Diccionarios <a id='Ejercicios_diccionarios'></a>\n",
    "Ejercicios de [esta web](https://pynative.com/python-dictionary-exercise-with-solutions/)"
   ]
  },
  {
   "cell_type": "markdown",
   "metadata": {},
   "source": [
    "## dictionary exercise 1: Below are the two lists convert it into the dictionary"
   ]
  },
  {
   "cell_type": "code",
   "execution_count": 77,
   "metadata": {},
   "outputs": [
    {
     "name": "stdout",
     "output_type": "stream",
     "text": [
      "{'Ten': 10, 'Twenty': 20, 'Thirty': 30}\n"
     ]
    }
   ],
   "source": [
    "# Ejercio 1\n",
    "\n",
    "keys = ['Ten', 'Twenty', 'Thirty']\n",
    "values = [10, 20, 30]\n",
    "\n",
    "diccionario = {}\n",
    "for contador in range(0, len(keys)):\n",
    "    diccionario[keys[contador]] = values[contador]\n",
    "\n",
    "print(diccionario)"
   ]
  },
  {
   "cell_type": "code",
   "execution_count": 78,
   "metadata": {},
   "outputs": [
    {
     "name": "stdout",
     "output_type": "stream",
     "text": [
      "{'Ten': 10, 'Twenty': 20, 'Thirty': 30}\n"
     ]
    }
   ],
   "source": [
    "# Ejercicio 1 otra forma\n",
    "\n",
    "keys = ['Ten', 'Twenty', 'Thirty']\n",
    "values = [10, 20, 30]\n",
    "\n",
    "diccionario = {}\n",
    "contador = 0\n",
    "for key in keys:\n",
    "    diccionario[key] = values[contador]\n",
    "    contador += 1\n",
    "    \n",
    "print(diccionario)"
   ]
  },
  {
   "cell_type": "code",
   "execution_count": 79,
   "metadata": {},
   "outputs": [
    {
     "name": "stdout",
     "output_type": "stream",
     "text": [
      "{'Ten': 10, 'Twenty': 20, 'Thirty': 30}\n"
     ]
    }
   ],
   "source": [
    "keys = ['Ten', 'Twenty', 'Thirty']\n",
    "values = [10, 20, 30]\n",
    "\n",
    "sampleDict = dict(zip(keys, values)) # Buscar ZIP!!!\n",
    "print(sampleDict)"
   ]
  },
  {
   "cell_type": "markdown",
   "metadata": {},
   "source": [
    "### dictionary exercise 2: Merge following two Python dictionaries into one"
   ]
  },
  {
   "cell_type": "code",
   "execution_count": 80,
   "metadata": {},
   "outputs": [
    {
     "name": "stdout",
     "output_type": "stream",
     "text": [
      "{'Ten': 10, 'Twenty': 20, 'Thirty': 30}\n"
     ]
    }
   ],
   "source": [
    "dict1 = {'Ten': 10, 'Twenty': 20, 'Thirty': 30}\n",
    "dict2 = {'Thirty': 30, 'Fourty': 40, 'Fifty': 50}\n",
    "\n",
    "dict3 = dict1.copy()  # Creamos un nuevo diccionario\n",
    "dict3.update(dict2)\n",
    "print(dict1)"
   ]
  },
  {
   "cell_type": "markdown",
   "metadata": {},
   "source": [
    "### dictionary exercise 3: Access the value of key ‘history’"
   ]
  },
  {
   "cell_type": "code",
   "execution_count": 81,
   "metadata": {},
   "outputs": [
    {
     "data": {
      "text/plain": [
       "80"
      ]
     },
     "execution_count": 81,
     "metadata": {},
     "output_type": "execute_result"
    }
   ],
   "source": [
    "sampleDict = { \n",
    "   \"class\":{ \n",
    "      \"student\":{ \n",
    "         \"name\":\"Mike\",\n",
    "         \"marks\":{ \n",
    "            \"physics\":70,\n",
    "            \"history\":80\n",
    "         }\n",
    "      }\n",
    "   }\n",
    "}\n",
    "\n",
    "sampleDict[\"class\"]['student']['marks']['history']"
   ]
  },
  {
   "cell_type": "markdown",
   "metadata": {},
   "source": [
    "### dictionary exercise 4: Initialize dictionary with default values"
   ]
  },
  {
   "cell_type": "code",
   "execution_count": 110,
   "metadata": {},
   "outputs": [
    {
     "name": "stdout",
     "output_type": "stream",
     "text": [
      "{'Kelly': {'designation': 'Application Developer', 'salary': 8000}, 'Emma': {'designation': 'Application Developer', 'salary': 8000}, 'John': {'designation': 'Application Developer', 'salary': 8000}}\n"
     ]
    }
   ],
   "source": [
    "employees = ['Kelly', 'Emma', 'John']\n",
    "defaults = {\"designation\": 'Application Developer', \"salary\": 8000}\n",
    "\n",
    "company = {}\n",
    "\n",
    "for employee in employees:\n",
    "    company[employee] = defaults\n",
    "    \n",
    "print(company)"
   ]
  },
  {
   "cell_type": "markdown",
   "metadata": {},
   "source": [
    "### dictionary exercise 5: Create a new dictionary by extracting the following keys from a given dictionary"
   ]
  },
  {
   "cell_type": "code",
   "execution_count": null,
   "metadata": {},
   "outputs": [],
   "source": [
    "sampleDict = {\n",
    "  \"name\": \"Kelly\",\n",
    "  \"age\":25,\n",
    "  \"salary\": 8000,\n",
    "  \"city\": \"New york\"\n",
    "  \n",
    "}\n",
    "# Keys to extract\n",
    "\n",
    "keys = [\"name\", \"salary\"]\n",
    "\n",
    "importantElements = {}\n",
    "\n",
    "for key in keys:\n",
    "    importantElements[key] = sampleDict[key]\n",
    "\n",
    "    \n",
    "print(importantElements)"
   ]
  },
  {
   "cell_type": "code",
   "execution_count": null,
   "metadata": {},
   "outputs": [],
   "source": [
    "# Pro way\n",
    "\n",
    "importantElements = {k: sampleDict[k] for k in keys}\n",
    "\n",
    "print(importantElements)"
   ]
  },
  {
   "cell_type": "markdown",
   "metadata": {},
   "source": [
    "### dictionary exercise 6: Delete set of keys from Python Dictionary"
   ]
  },
  {
   "cell_type": "code",
   "execution_count": null,
   "metadata": {},
   "outputs": [],
   "source": [
    "sampleDict = {\n",
    "  \"name\": \"Kelly\",\n",
    "  \"age\":25,\n",
    "  \"salary\": 8000,\n",
    "  \"city\": \"New york\"\n",
    "  \n",
    "}\n",
    "\n",
    "keysToRemove = [\"name\", \"salary\"]\n",
    "\n",
    "rests = {}\n",
    "\n",
    "for key in sampleDict:\n",
    "    if key not in keysToRemove:\n",
    "        rests[key] = sampleDict[key]\n",
    "\n",
    "print(rests)"
   ]
  },
  {
   "cell_type": "code",
   "execution_count": null,
   "metadata": {},
   "outputs": [],
   "source": [
    "# Pro way\n",
    "\n",
    "sampleDict = {\n",
    "  \"name\": \"Kelly\",\n",
    "  \"age\":25,\n",
    "  \"salary\": 8000,\n",
    "  \"city\": \"New york\"\n",
    "  \n",
    "}\n",
    "\n",
    "keysToRemove = [\"name\", \"salary\"]\n",
    "\n",
    "rests = {k: sampleDict[k] for k in sampleDict.keys() - keysToRemove}\n",
    "\n",
    "print(rests)"
   ]
  },
  {
   "cell_type": "markdown",
   "metadata": {},
   "source": [
    "### dictionary exercise 7: Check if a value 200 exists in a dictionary"
   ]
  },
  {
   "cell_type": "code",
   "execution_count": null,
   "metadata": {},
   "outputs": [],
   "source": [
    "sampleDict = {'a': 100, 'b': 200, 'c': 300}\n",
    "\n",
    "def isValueinDict(dictio,value2Check):\n",
    "    for value in dictio.values():\n",
    "        if value == value2Check:\n",
    "            print('% is in el dictionary'%value2Check)\n",
    "            return True\n",
    "\n",
    "isValueinDict(sampleDict,200)"
   ]
  },
  {
   "cell_type": "code",
   "execution_count": 83,
   "metadata": {},
   "outputs": [
    {
     "data": {
      "text/plain": [
       "True"
      ]
     },
     "execution_count": 83,
     "metadata": {},
     "output_type": "execute_result"
    }
   ],
   "source": [
    "# Pro way\n",
    "sampleDict = {'a': 100, 'b': 200, 'c': 300}\n",
    "\n",
    "200 in sampleDict.values()"
   ]
  },
  {
   "cell_type": "markdown",
   "metadata": {},
   "source": [
    "### dictionary exercise 8: Rename key city to location in the following dictionary "
   ]
  },
  {
   "cell_type": "code",
   "execution_count": 84,
   "metadata": {},
   "outputs": [
    {
     "ename": "IndentationError",
     "evalue": "expected an indented block (<ipython-input-84-173e3f3df239>, line 11)",
     "output_type": "error",
     "traceback": [
      "\u001b[0;36m  File \u001b[0;32m\"<ipython-input-84-173e3f3df239>\"\u001b[0;36m, line \u001b[0;32m11\u001b[0m\n\u001b[0;31m    for key in sampleDict.keys():\u001b[0m\n\u001b[0m      ^\u001b[0m\n\u001b[0;31mIndentationError\u001b[0m\u001b[0;31m:\u001b[0m expected an indented block\n"
     ]
    }
   ],
   "source": [
    "# One way\n",
    "sampleDict = {\n",
    "  \"name\": \"Kelly\",\n",
    "  \"age\":25,\n",
    "  \"salary\": 8000,\n",
    "  \"city\": \"New york\"\n",
    "}\n",
    "\n",
    "newDict = {}\n",
    "for key in sampleDict.keys():\n",
    "for key in sampleDict.keys():\n",
    "    if key == 'city':\n",
    "        newDict['location'] = sampleDict['city']\n",
    "    else:\n",
    "        newDict[key] = sampleDict[key]\n",
    "sampleDict = newDict\n",
    "print(sampleDict)"
   ]
  },
  {
   "cell_type": "code",
   "execution_count": null,
   "metadata": {},
   "outputs": [],
   "source": [
    "# Another way\n",
    "sampleDict = {\n",
    "  \"name\": \"Kelly\",\n",
    "  \"age\":25,\n",
    "  \"salary\": 8000,\n",
    "  \"city\": \"New york\"\n",
    "}\n",
    "\n",
    "sampleDict['location'] = sampleDict['city']\n",
    "del sampleDict['city']\n",
    "print(sampleDict)"
   ]
  },
  {
   "cell_type": "code",
   "execution_count": null,
   "metadata": {},
   "outputs": [],
   "source": [
    "# Pro way\n",
    "sampleDict = {\n",
    "  \"name\": \"Kelly\",\n",
    "  \"age\":25,\n",
    "  \"salary\": 8000,\n",
    "  \"city\": \"New york\"\n",
    "}\n",
    "\n",
    "sampleDict['location'] = sampleDict.pop('city')\n",
    "print(sampleDict)"
   ]
  },
  {
   "cell_type": "markdown",
   "metadata": {},
   "source": [
    "### dictionary exercise 9: Get the key corresponding to the minimum value from the following dictionary"
   ]
  },
  {
   "cell_type": "code",
   "execution_count": null,
   "metadata": {},
   "outputs": [],
   "source": [
    "sampleDict = {\n",
    "  'Physics': 82,\n",
    "  'Math': 65,\n",
    "  'history': 75\n",
    "}\n",
    "\n",
    "minValue = 10e1000\n",
    "minKey = 'PotterHead'\n",
    "for key, value in sampleDict.items():\n",
    "    if minValue > value:\n",
    "        minValue = value\n",
    "        minKey = key\n",
    "\n",
    "print('Min value {} is at {}'.format(minValue, minKey))\n",
    "    "
   ]
  },
  {
   "cell_type": "code",
   "execution_count": null,
   "metadata": {},
   "outputs": [],
   "source": [
    "# MegaPro way\n",
    "\n",
    "sampleDict = {\n",
    "  'Physics': 82,\n",
    "  'Math': 65,\n",
    "  'history': 75\n",
    "}\n",
    "\n",
    "print(min(sampleDict, key=sampleDict.get))"
   ]
  },
  {
   "cell_type": "markdown",
   "metadata": {},
   "source": [
    "### dictionary exercise 10: Given a Python dictionary, Change Brad’s salary to 8500"
   ]
  },
  {
   "cell_type": "code",
   "execution_count": null,
   "metadata": {},
   "outputs": [],
   "source": [
    "sampleDict = {\n",
    "     'emp1': {'name': 'Jhon', 'salary': 7500},\n",
    "     'emp2': {'name': 'Emma', 'salary': 8000},\n",
    "     'emp3': {'name': 'Brad', 'salary': 6500}\n",
    "}\n",
    "\n",
    "sampleDict['emp3']['salary'] = 8500\n",
    "print(sampleDict)"
   ]
  },
  {
   "cell_type": "code",
   "execution_count": null,
   "metadata": {},
   "outputs": [],
   "source": [
    "sampleDict = {\n",
    "     'emp1': {'name': 'Jhon', 'salary': 7500},\n",
    "     'emp2': {'name': 'Emma', 'salary': 8000},\n",
    "     'emp3': {'name': 'Brad', 'salary': 6500}\n",
    "}\n",
    "\n",
    "for key,value in sampleDict.items():\n",
    "    if value['name'] == 'Brad':\n",
    "        value['salary'] = 8500\n",
    "\n",
    "print(sampleDict)"
   ]
  },
  {
   "cell_type": "markdown",
   "metadata": {},
   "source": [
    "## Ejercicios de Conjuntos <a id='Ejercicios_conjuntos'></a>\n",
    "### Ejercicios de esta [web](https://pynative.com/python-set-exercise-with-solutions/)"
   ]
  },
  {
   "cell_type": "markdown",
   "metadata": {},
   "source": [
    "### Exercise Question 1: Add a list of elements to a given set"
   ]
  },
  {
   "cell_type": "code",
   "execution_count": null,
   "metadata": {},
   "outputs": [],
   "source": [
    "sampleSet = {\"Yellow\", \"Orange\", \"Black\"}\n",
    "sampleListtoAdd = [\"Blue\", \"Green\", \"Red\"]\n",
    "\n",
    "for item in sampleListtoAdd:\n",
    "    sampleSet.add(item)\n",
    "    \n",
    "print (sampleSet)"
   ]
  },
  {
   "cell_type": "code",
   "execution_count": null,
   "metadata": {},
   "outputs": [],
   "source": [
    "# Pro version\n",
    "sampleSet = {\"Yellow\", \"Orange\", \"Black\"}\n",
    "sampleListtoAdd = [\"Blue\", \"Green\", \"Red\"]\n",
    "\n",
    "sampleSet.update(sampleListtoAdd)\n",
    "print (sampleSet)"
   ]
  },
  {
   "cell_type": "markdown",
   "metadata": {},
   "source": [
    "### Exercise Question 2: Return a set of identical items from a given two Python set"
   ]
  },
  {
   "cell_type": "code",
   "execution_count": null,
   "metadata": {},
   "outputs": [],
   "source": [
    "set1 = {10, 20, 30, 40, 50}\n",
    "set2 = {30, 40, 50, 60, 70}\n",
    "\n",
    "common = set1 & set2  # operador AND\n",
    "print(common)"
   ]
  },
  {
   "cell_type": "code",
   "execution_count": null,
   "metadata": {},
   "outputs": [],
   "source": [
    "# Pro version\n",
    "\n",
    "set1 = {10, 20, 30, 40, 50}\n",
    "set2 = {30, 40, 50, 60, 70}\n",
    "\n",
    "common = set1.intersection(set2)\n",
    "print(common)"
   ]
  },
  {
   "cell_type": "markdown",
   "metadata": {},
   "source": [
    "### Exercise Question 3: Returns a new set with all items from both sets by removing duplicates"
   ]
  },
  {
   "cell_type": "code",
   "execution_count": null,
   "metadata": {},
   "outputs": [],
   "source": [
    "set1 = {10, 20, 30, 40, 50}\n",
    "set2 = {30, 40, 50, 60, 70}\n",
    "\n",
    "all = set1 | set2 # operador OR\n",
    "print(all)"
   ]
  },
  {
   "cell_type": "code",
   "execution_count": 85,
   "metadata": {},
   "outputs": [
    {
     "name": "stdout",
     "output_type": "stream",
     "text": [
      "{70, 40, 10, 50, 20, 60, 30}\n"
     ]
    }
   ],
   "source": [
    "# Pro version\n",
    "set1 = {10, 20, 30, 40, 50}\n",
    "set2 = {30, 40, 50, 60, 70}\n",
    "\n",
    "all = set1.union(set2)\n",
    "print(all)"
   ]
  },
  {
   "cell_type": "markdown",
   "metadata": {},
   "source": [
    "### Exercise Question 4: Given two Python sets, update first set with items that exist only in the first set and not in the second set."
   ]
  },
  {
   "cell_type": "code",
   "execution_count": 86,
   "metadata": {},
   "outputs": [
    {
     "name": "stdout",
     "output_type": "stream",
     "text": [
      "{10, 30}\n"
     ]
    }
   ],
   "source": [
    "# Iterative way\n",
    "set1 = {10, 20, 30}\n",
    "set2 = {20, 40, 50}\n",
    "\n",
    "set3 = set()\n",
    "for value in set1:\n",
    "    if value not in set2:\n",
    "        set3.add(value)\n",
    "print(set3)"
   ]
  },
  {
   "cell_type": "code",
   "execution_count": 87,
   "metadata": {},
   "outputs": [
    {
     "name": "stdout",
     "output_type": "stream",
     "text": [
      "{10, 30}\n"
     ]
    }
   ],
   "source": [
    "# Pro & algebraic way\n",
    "set1 = {10, 20, 30}\n",
    "set2 = {20, 40, 50}\n",
    "\n",
    "set3 = set1 - set2\n",
    "print(set3)"
   ]
  },
  {
   "cell_type": "markdown",
   "metadata": {},
   "source": [
    "### Exercise Question 5: Remove 10, 20, 30 elements from a following set at once"
   ]
  },
  {
   "cell_type": "code",
   "execution_count": 88,
   "metadata": {},
   "outputs": [
    {
     "name": "stdout",
     "output_type": "stream",
     "text": [
      "{40, 50}\n"
     ]
    }
   ],
   "source": [
    "set1 = {10, 20, 30, 40, 50}\n",
    "\n",
    "set1 = set1 - {10, 20, 30}\n",
    "print(set1)"
   ]
  },
  {
   "cell_type": "code",
   "execution_count": 89,
   "metadata": {},
   "outputs": [
    {
     "name": "stdout",
     "output_type": "stream",
     "text": [
      "{40, 50}\n"
     ]
    }
   ],
   "source": [
    "# Pro way\n",
    "\n",
    "set1 = {10, 20, 30, 40, 50}\n",
    "\n",
    "set1.difference_update({10, 20, 30})\n",
    "print(set1)"
   ]
  },
  {
   "cell_type": "markdown",
   "metadata": {},
   "source": [
    "### Exercise Question 6: Return a set of all elements in either A or B, but not both"
   ]
  },
  {
   "cell_type": "code",
   "execution_count": 90,
   "metadata": {},
   "outputs": [
    {
     "name": "stdout",
     "output_type": "stream",
     "text": [
      "{10, 20, 70, 60}\n"
     ]
    }
   ],
   "source": [
    "set1 = {10, 20, 30, 40, 50}\n",
    "set2 = {30, 40, 50, 60, 70}\n",
    "\n",
    "setUnion = set1&set2\n",
    "# print(setUnion)\n",
    "setAll = (set1|set2) - setUnion\n",
    "print(setAll)"
   ]
  },
  {
   "cell_type": "code",
   "execution_count": 91,
   "metadata": {},
   "outputs": [
    {
     "name": "stdout",
     "output_type": "stream",
     "text": [
      "{20, 70, 10, 60}\n"
     ]
    }
   ],
   "source": [
    "# Pro way\n",
    "set1 = {10, 20, 30, 40, 50}\n",
    "set2 = {30, 40, 50, 60, 70}\n",
    "\n",
    "print(set1.symmetric_difference(set2))"
   ]
  },
  {
   "cell_type": "markdown",
   "metadata": {},
   "source": [
    "### Exercise Question 7: Determines whether or not the following two sets have any elements in common. If yes display the common elements"
   ]
  },
  {
   "cell_type": "code",
   "execution_count": 92,
   "metadata": {},
   "outputs": [
    {
     "name": "stdout",
     "output_type": "stream",
     "text": [
      "Two sets have items in common\n",
      "{10}\n"
     ]
    }
   ],
   "source": [
    "set1 = {10, 20, 30, 40, 50}\n",
    "set2 = {60, 70, 80, 90, 10}\n",
    "\n",
    "common = set1 & set2\n",
    "if len(common) > 0:\n",
    "    print('Two sets have items in common')\n",
    "    print(common)"
   ]
  },
  {
   "cell_type": "code",
   "execution_count": 93,
   "metadata": {},
   "outputs": [
    {
     "name": "stdout",
     "output_type": "stream",
     "text": [
      "Two sets have items in common\n",
      "{10}\n"
     ]
    }
   ],
   "source": [
    "# Pro version\n",
    "\n",
    "set1 = {10, 20, 30, 40, 50}\n",
    "set2 = {60, 70, 80, 90, 10}\n",
    "\n",
    "if set1.isdisjoint(set2):\n",
    "  print(\"Two sets have no items in common\")\n",
    "else:\n",
    "  print(\"Two sets have items in common\")\n",
    "  print(set1.intersection(set2))"
   ]
  },
  {
   "cell_type": "markdown",
   "metadata": {},
   "source": [
    "### Exercise Question 8: Update set1 by adding items from set2, except common items"
   ]
  },
  {
   "cell_type": "code",
   "execution_count": 94,
   "metadata": {},
   "outputs": [
    {
     "name": "stdout",
     "output_type": "stream",
     "text": [
      "{70, 40, 10, 50, 20, 60, 30}\n"
     ]
    }
   ],
   "source": [
    "set1 = {10, 20, 30, 40, 50}\n",
    "set2 = {30, 40, 50, 60, 70}\n",
    "\n",
    "for value in set2:\n",
    "    if value not in set1:\n",
    "        set1.add(value)\n",
    "print(set1)"
   ]
  },
  {
   "cell_type": "code",
   "execution_count": 95,
   "metadata": {},
   "outputs": [
    {
     "name": "stdout",
     "output_type": "stream",
     "text": [
      "{70, 10, 20, 60}\n"
     ]
    }
   ],
   "source": [
    "# Pro way\n",
    "\n",
    "set1 = {10, 20, 30, 40, 50}\n",
    "set2 = {30, 40, 50, 60, 70}\n",
    "\n",
    "set1.symmetric_difference_update(set2)\n",
    "print(set1)"
   ]
  },
  {
   "cell_type": "markdown",
   "metadata": {},
   "source": [
    "### Exercise Question 9: Remove items from set1 that are not common to both set1 and set2"
   ]
  },
  {
   "cell_type": "code",
   "execution_count": 96,
   "metadata": {},
   "outputs": [
    {
     "name": "stdout",
     "output_type": "stream",
     "text": [
      "{40, 50, 30}\n"
     ]
    }
   ],
   "source": [
    "# Clever\n",
    "set1 = {10, 20, 30, 40, 50}\n",
    "set2 = {30, 40, 50, 60, 70}\n",
    "\n",
    "result = set2 & set1\n",
    "\n",
    "print(result)"
   ]
  },
  {
   "cell_type": "code",
   "execution_count": 97,
   "metadata": {},
   "outputs": [
    {
     "name": "stdout",
     "output_type": "stream",
     "text": [
      "{40, 50, 30}\n"
     ]
    }
   ],
   "source": [
    "set1 = {10, 20, 30, 40, 50}\n",
    "set2 = {30, 40, 50, 60, 70}\n",
    "\n",
    "commons = set2 & set1\n",
    "notCommons = set1-commons\n",
    "set1NotCommons = set1 - notCommons\n",
    "print(set1NotCommons)\n"
   ]
  },
  {
   "cell_type": "code",
   "execution_count": 98,
   "metadata": {},
   "outputs": [
    {
     "name": "stdout",
     "output_type": "stream",
     "text": [
      "{40, 50, 30}\n"
     ]
    }
   ],
   "source": [
    "#Pro way\n",
    "set1 = {10, 20, 30, 40, 50}\n",
    "set2 = {30, 40, 50, 60, 70}\n",
    "\n",
    "set1.intersection_update(set2)\n",
    "print(set1)"
   ]
  },
  {
   "cell_type": "markdown",
   "metadata": {
    "colab_type": "text",
    "id": "ZyWhg5f4W0mZ"
   },
   "source": [
    "### Recuento de palabaras <a id='Recuento_palabras'></a>"
   ]
  },
  {
   "cell_type": "code",
   "execution_count": 100,
   "metadata": {
    "colab": {},
    "colab_type": "code",
    "id": "N5mrY8LdW0mk"
   },
   "outputs": [],
   "source": [
    "# Ejercicio Nivel Intermedio: \n",
    "# Contador de la Frencuencia de las palabras en un texto (version1)\n",
    "# Hacer una función a la que le demos un texto y devuelva un diccionario con las frecuencias de aparicion \n",
    "# de las palabras en el texto con la forma {\"palabra\": numAparicionesDeLaPalabra}"
   ]
  },
  {
   "cell_type": "code",
   "execution_count": 104,
   "metadata": {},
   "outputs": [],
   "source": [
    "## Descargamos el texto de El Quijote de https://gist.github.com/jsdario/6d6c69398cb0c73111e49f1218960f79\n",
    "import requests\n",
    "\n",
    "URL_quijote = 'https://gist.githubusercontent.com/jsdario/6d6c69398cb0c73111e49f1218960f79/raw/8d4fc4548d437e2a7203a5aeeace5477f598827d/el_quijote.txt'\n",
    "\n",
    "textoWeb = requests.get(URL_quijote)\n",
    "\n",
    "texto = textoWeb.content.decode().replace('\\n',' ')"
   ]
  },
  {
   "cell_type": "code",
   "execution_count": 30,
   "metadata": {},
   "outputs": [],
   "source": [
    "# leemos el fichero de texto\n",
    "# usaremos El Quijote en texto plano de https://gist.github.com/jsdario/6d6c69398cb0c73111e49f1218960f79\n",
    "# with open(\"el_quijote.txt\", \"r\") as file:\n",
    "#    texto = file.read()\n",
    "\n",
    "# print(texto)"
   ]
  },
  {
   "cell_type": "code",
   "execution_count": 105,
   "metadata": {},
   "outputs": [
    {
     "name": "stdout",
     "output_type": "stream",
     "text": [
      "Hay 1038397 caracteres y 187018 palabras\n"
     ]
    }
   ],
   "source": [
    "# Dividimos el fichero en palabras\n",
    "palabrasRaw = texto.split()\n",
    "\n",
    "print('Hay {} caracteres y {} palabras'.format(len(texto),len(palabrasRaw)))"
   ]
  },
  {
   "cell_type": "code",
   "execution_count": 106,
   "metadata": {},
   "outputs": [],
   "source": [
    "# Función que convierte a minúsculas las palabras y elimina estos signos de puntuación\n",
    "caracteresQuitar = {',','.',':',';','!','¡','?','¿'}\n",
    "\n",
    "def limpiaPalabra(palabra):\n",
    "    newPalabra = palabra.lower()\n",
    "    for char in caracteresQuitar:\n",
    "        newPalabra = newPalabra.replace(char,'')\n",
    "    return newPalabra"
   ]
  },
  {
   "cell_type": "code",
   "execution_count": 107,
   "metadata": {},
   "outputs": [],
   "source": [
    "# Limpiamos las palabras usando la función  limpiaPalabra\n",
    "\n",
    "palabrasLimpias = []\n",
    "\n",
    "for palabra in palabrasRaw:\n",
    "    palabraLimpia = limpiaPalabra(palabra)\n",
    "    palabrasLimpias.append(palabraLimpia)"
   ]
  },
  {
   "cell_type": "code",
   "execution_count": 108,
   "metadata": {},
   "outputs": [
    {
     "name": "stdout",
     "output_type": "stream",
     "text": [
      "Hay 15082 palabras distintas\n"
     ]
    }
   ],
   "source": [
    "# Contamos las veces que apararece cada palabra\n",
    "contadorPalabras = {}\n",
    "\n",
    "for palabra in palabrasLimpias:\n",
    "    contadorPalabra = contadorPalabras.get(palabra)\n",
    "    if contadorPalabra == None: # No ha aparecido hasta ahora\n",
    "        contadorPalabras[palabra] = 1\n",
    "    else:                       # Ya ha aparecido antes\n",
    "        contadorPalabras[palabra] += 1\n",
    "\n",
    "print('Hay {} palabras distintas'.format(len(contadorPalabras.keys())))\n",
    "# print(contadorPalabras)"
   ]
  },
  {
   "cell_type": "code",
   "execution_count": 110,
   "metadata": {},
   "outputs": [
    {
     "name": "stdout",
     "output_type": "stream",
     "text": [
      "La palabra más frecuente es 'porque' que se repite 757 veces \n"
     ]
    }
   ],
   "source": [
    "# Vamos a buscar la palabra más frecuente y que tenga al menos un cierto número de caracteres\n",
    "\n",
    "maxRepeticion = 0\n",
    "maxPalabra = 'Poterhead'\n",
    "numMinimoCaracteres = 4\n",
    "\n",
    "for palabra, cuantos in contadorPalabras.items():\n",
    "    if len(palabra) > numMinimoCaracteres and cuantos > maxRepeticion:\n",
    "        maxPalabra = palabra\n",
    "        maxRepeticion = cuantos\n",
    "        # print('({}) {}'.format(maxPalabra,maxRepeticion))\n",
    "\n",
    "print('La palabra más frecuente es \\'{}\\' que se repite {} veces '.format(maxPalabra, maxRepeticion))"
   ]
  },
  {
   "cell_type": "code",
   "execution_count": 111,
   "metadata": {},
   "outputs": [],
   "source": [
    "# Función para ver las palabras que se repiten más de N veces y que tienen al menos N caracteres\n",
    "\n",
    "def PalabrasMasRepetidas(NumRepeticiones,NumCaracteres):\n",
    "    for palabra, cuantos in contadorPalabras.items():\n",
    "        if len(palabra) > NumCaracteres and cuantos > NumRepeticiones:\n",
    "            print('({}) -> {} veces'.format(palabra, cuantos))"
   ]
  },
  {
   "cell_type": "code",
   "execution_count": 112,
   "metadata": {},
   "outputs": [
    {
     "name": "stdout",
     "output_type": "stream",
     "text": [
      "(quijote) -> 706 veces\n",
      "(parte) -> 181 veces\n",
      "(lugar) -> 176 veces\n",
      "(quiero) -> 109 veces\n",
      "(mucho) -> 157 veces\n",
      "(tiempo) -> 171 veces\n",
      "(más) -> 965 veces\n",
      "(algún) -> 140 veces\n",
      "(tres) -> 106 veces\n",
      "(para) -> 710 veces\n",
      "(mismo) -> 121 veces\n",
      "(días) -> 115 veces\n",
      "(entre) -> 163 veces\n",
      "(tenía) -> 218 veces\n",
      "(casa) -> 146 veces\n",
      "(así) -> 536 veces\n",
      "(como) -> 1147 veces\n",
      "(nuestro) -> 109 veces\n",
      "(gran) -> 152 veces\n",
      "(amigo) -> 132 veces\n",
      "(decir) -> 266 veces\n",
      "(esto) -> 482 veces\n",
      "(alguna) -> 210 veces\n",
      "(aunque) -> 268 veces\n",
      "(pero) -> 434 veces\n",
      "(poco) -> 228 veces\n",
      "(punto) -> 127 veces\n",
      "(verdad) -> 201 veces\n",
      "(pues) -> 414 veces\n",
      "(saber) -> 127 veces\n",
      "(este) -> 351 veces\n",
      "(estaba) -> 276 veces\n",
      "(eran) -> 106 veces\n",
      "(libros) -> 110 veces\n",
      "(tanta) -> 106 veces\n",
      "(gusto) -> 114 veces\n",
      "(todo) -> 609 veces\n",
      "(tanto) -> 247 veces\n",
      "(muchas) -> 106 veces\n",
      "(tierra) -> 149 veces\n",
      "(todos) -> 433 veces\n",
      "(haber) -> 124 veces\n",
      "(bien) -> 535 veces\n",
      "(porque) -> 757 veces\n",
      "(razones) -> 117 veces\n",
      "(cuando) -> 386 veces\n",
      "(donde) -> 370 veces\n",
      "(manera) -> 208 veces\n",
      "(vuestra) -> 455 veces\n",
      "(también) -> 123 veces\n",
      "(estas) -> 127 veces\n",
      "(caballero) -> 343 veces\n",
      "(sólo) -> 125 veces\n",
      "(tener) -> 128 veces\n",
      "(aquel) -> 297 veces\n",
      "(aquella) -> 217 veces\n",
      "(allí) -> 266 veces\n",
      "(duda) -> 102 veces\n",
      "(otros) -> 120 veces\n",
      "(cura) -> 208 veces\n",
      "(hombre) -> 118 veces\n",
      "(sobre) -> 189 veces\n",
      "(había) -> 672 veces\n",
      "(mejor) -> 152 veces\n",
      "(barbero) -> 129 veces\n",
      "(decía) -> 130 veces\n",
      "(podía) -> 123 veces\n",
      "(toda) -> 167 veces\n",
      "(otra) -> 284 veces\n",
      "(mundo) -> 170 veces\n",
      "(buen) -> 199 veces\n",
      "(mano) -> 148 veces\n",
      "(caballeros) -> 154 veces\n",
      "(menos) -> 160 veces\n",
      "(estos) -> 121 veces\n",
      "(ellos) -> 191 veces\n",
      "(hizo) -> 145 veces\n",
      "(habían) -> 142 veces\n",
      "(sino) -> 318 veces\n",
      "(hecho) -> 153 veces\n",
      "(hacer) -> 317 veces\n",
      "(ella) -> 377 veces\n",
      "(luego) -> 225 veces\n",
      "(qué) -> 358 veces\n",
      "(quien) -> 305 veces\n",
      "(antes) -> 132 veces\n",
      "(fuese) -> 112 veces\n",
      "(puesto) -> 168 veces\n",
      "(señor) -> 400 veces\n",
      "(después) -> 117 veces\n",
      "(rocinante) -> 120 veces\n",
      "(ahora) -> 193 veces\n",
      "(quiso) -> 101 veces\n",
      "(dicho) -> 180 veces\n",
      "(esta) -> 315 veces\n",
      "(cosa) -> 281 veces\n",
      "(buena) -> 190 veces\n",
      "(será) -> 111 veces\n",
      "(quién) -> 123 veces\n",
      "(señora) -> 239 veces\n",
      "(cual) -> 401 veces\n",
      "(merced) -> 399 veces\n",
      "(cómo) -> 144 veces\n",
      "(cosas) -> 179 veces\n",
      "(día) -> 126 veces\n",
      "(todas) -> 165 veces\n",
      "(fuera) -> 156 veces\n",
      "(hasta) -> 212 veces\n",
      "(camino) -> 120 veces\n",
      "(otro) -> 249 veces\n",
      "(diciendo) -> 103 veces\n",
      "(cuanto) -> 140 veces\n",
      "(mucha) -> 116 veces\n",
      "(venta) -> 110 veces\n",
      "(noche) -> 107 veces\n",
      "(dijo) -> 592 veces\n",
      "(ojos) -> 128 veces\n",
      "(parece) -> 116 veces\n",
      "(digo) -> 144 veces\n",
      "(respondió) -> 242 veces\n",
      "(puede) -> 139 veces\n",
      "(tengo) -> 185 veces\n",
      "(otras) -> 137 veces\n",
      "(grande) -> 102 veces\n",
      "(manos) -> 110 veces\n",
      "(cuenta) -> 103 veces\n",
      "(está) -> 200 veces\n",
      "(dios) -> 200 veces\n",
      "(visto) -> 135 veces\n",
      "(vida) -> 200 veces\n",
      "(cielo) -> 137 veces\n",
      "(sancho) -> 582 veces\n",
      "(escudero) -> 106 veces\n",
      "(aquí) -> 220 veces\n",
      "(voluntad) -> 111 veces\n",
      "(tiene) -> 166 veces\n",
      "(padre) -> 195 veces\n",
      "(panza) -> 116 veces\n",
      "(fernando) -> 114 veces\n",
      "(-respondió) -> 151 veces\n",
      "(quijote-) -> 106 veces\n",
      "(-dijo) -> 223 veces\n",
      "(dorotea) -> 115 veces\n",
      "(anselmo) -> 131 veces\n",
      "(lotario) -> 136 veces\n",
      "(camila) -> 143 veces\n"
     ]
    }
   ],
   "source": [
    "PalabrasMasRepetidas(100,3) "
   ]
  },
  {
   "cell_type": "code",
   "execution_count": 101,
   "metadata": {
    "colab": {},
    "colab_type": "code",
    "id": "RGdWPw3zW0mr"
   },
   "outputs": [],
   "source": [
    "# Ejercicio Nivel Intermedio: \n",
    "# Contador de la Frencuencia de las palabras en un texto (version2)\n",
    "# Mejorar la versión 1 del programa utilizando conjuntos"
   ]
  },
  {
   "cell_type": "markdown",
   "metadata": {},
   "source": [
    "### 17 Fórmulas que cambiaron el mundo <a id='17_formulas'></a>"
   ]
  },
  {
   "cell_type": "code",
   "execution_count": 102,
   "metadata": {
    "colab": {},
    "colab_type": "code",
    "id": "EfAsq5U3W0mx",
    "scrolled": true
   },
   "outputs": [
    {
     "data": {
      "text/plain": [
       "' Hacer una funcion que me devuelva , por orden cronologico, alguna de las ecuaciones que cambiaron el mundo , \\n    en particular la funcion tiene que retornar una imagen que represente a la ecuación.\\n    \\n    >>> ecuacionesQueCambiaronElMundo(1)\\n    \"https://miprofe.com/wp-content/uploads/2015/12/Teorema-de-pitagoras-1280x720.png\"\\n    \\n    La formula de Pitagoras es la primera en el orden cronológico y de ahí lo de poner el 1 como argumento\\n\\n'"
      ]
     },
     "execution_count": 102,
     "metadata": {},
     "output_type": "execute_result"
    }
   ],
   "source": [
    "# Ejercicio 1 Nivel Avanzado:\n",
    "# Ver la teoria que hay justo debajo \n",
    "\n",
    "# Las 17 formulas que cambiarion en mundo \n",
    "# https://medium.com/however-mathematics/17-equations-that-changed-the-world-a043a8c24022\n",
    "\n",
    "\"\"\" Hacer una funcion que me devuelva , por orden cronologico, alguna de las ecuaciones que cambiaron el mundo , \n",
    "    en particular la funcion tiene que retornar una imagen que represente a la ecuación.\n",
    "    \n",
    "    >>> ecuacionesQueCambiaronElMundo(1)\n",
    "    \"https://miprofe.com/wp-content/uploads/2015/12/Teorema-de-pitagoras-1280x720.png\"\n",
    "    \n",
    "    La formula de Pitagoras es la primera en el orden cronológico y de ahí lo de poner el 1 como argumento\n",
    "\n",
    "\"\"\" "
   ]
  },
  {
   "cell_type": "code",
   "execution_count": 6,
   "metadata": {},
   "outputs": [],
   "source": [
    "\n",
    "def ecuacionesQueCambiaronElMundo(numero):\n",
    "    \n",
    "    baseURL = 'https://miro.medium.com/max/1400/'\n",
    "\n",
    "    imagenes = ['1*u6rmNAt_EyDrtsXAKF2biA.jpeg',\n",
    "                '1*BIS9EIywodO6NBZvmxKjvA.jpeg',\n",
    "                '1*oTTHkok0_F65RaCRyGdnUw.jpeg',\n",
    "                '1*Qw-qdhtD772qbC6Ds-7HQg.jpeg']\n",
    "    \n",
    "    if numero < 1 or numero > len(imagenes):\n",
    "        print('El número de imagen debe estar entre 1 y {}'.format(len(imagenes)))\n",
    "        return None\n",
    "    \n",
    "    return baseURL + imagenes[numero - 1]\n"
   ]
  },
  {
   "cell_type": "code",
   "execution_count": 4,
   "metadata": {},
   "outputs": [
    {
     "name": "stdout",
     "output_type": "stream",
     "text": [
      "https://miro.medium.com/max/1400/1*u6rmNAt_EyDrtsXAKF2biA.jpeg\n"
     ]
    },
    {
     "data": {
      "text/html": [
       "<img src=\"https://miro.medium.com/max/1400/1*u6rmNAt_EyDrtsXAKF2biA.jpeg\" width=\"1000\" height=\"100\"/>"
      ],
      "text/plain": [
       "<IPython.core.display.Image object>"
      ]
     },
     "execution_count": 4,
     "metadata": {},
     "output_type": "execute_result"
    }
   ],
   "source": [
    "URLImagen = ecuacionesQueCambiaronElMundo(1)\n",
    "\n",
    "print(URLImagen)\n",
    "from IPython.display import Image\n",
    "from IPython.core.display import HTML \n",
    "Image(url = URLImagen , width = 1000, height = 100)\n"
   ]
  },
  {
   "cell_type": "code",
   "execution_count": 103,
   "metadata": {
    "colab": {},
    "colab_type": "code",
    "id": "paxodkmUW0m4"
   },
   "outputs": [
    {
     "data": {
      "text/plain": [
       "' Escoger alguna de las 17 ecuaciones y crear con ella una función \"interactiva\" como la \"rtd\" de la teoría \\n     abajo que nos de en su retorno todos los posibles valores de la fórmula ya calculados a partir de los\\n     valores de entrada\\n'"
      ]
     },
     "execution_count": 103,
     "metadata": {},
     "output_type": "execute_result"
    }
   ],
   "source": [
    "# Ejercicio 2 Nivel Avanzado:\n",
    "# Ver la teoria que hay justo debajo \n",
    "\n",
    "# Las 17 formulas que cambiarion en mundo \n",
    "# https://medium.com/however-mathematics/17-equations-that-changed-the-world-a043a8c24022\n",
    "\n",
    "\"\"\" Escoger alguna de las 17 ecuaciones y crear con ella una función \"interactiva\" como la \"rtd\" de la teoría \n",
    "     abajo que nos de en su retorno todos los posibles valores de la fórmula ya calculados a partir de los\n",
    "     valores de entrada\n",
    "\"\"\""
   ]
  },
  {
   "cell_type": "markdown",
   "metadata": {
    "colab_type": "text",
    "id": "N_HhFRrTW0nD"
   },
   "source": [
    "## Usos avanzados de los diccionarios"
   ]
  },
  {
   "cell_type": "markdown",
   "metadata": {
    "colab_type": "text",
    "id": "isCHXaOFW0nF"
   },
   "source": [
    "### Diccionarios para simular la sentencia switch en Python\n",
    "\n",
    "Se pueden ver ejemplos de su uso [aquí](https://jaxenter.com/implement-switch-case-statement-python-138315.html)"
   ]
  },
  {
   "cell_type": "code",
   "execution_count": null,
   "metadata": {
    "colab": {},
    "colab_type": "code",
    "id": "nGqx2DTNW0nH"
   },
   "outputs": [],
   "source": []
  },
  {
   "cell_type": "markdown",
   "metadata": {
    "colab_type": "text",
    "id": "x9elwJBIW0nR"
   },
   "source": [
    "### Usando los diccionarios como valores de entrada y de salida de una función\n",
    "\n",
    "We'll build a single function that can solve a Rate-Time-Distance (RTD) calculation by\n",
    "embodying all three solutions given any two known values. With minor variable name\n",
    "changes, this applies to a surprising number of real-world problems.\n",
    "\n",
    "Solve the equation for each of the unknowns. We've shown that previously for d = r * t, the\n",
    "RTD calculation:\n",
    "\n",
    "* distance = rate * time\n",
    "* rate = distance / time\n",
    "* time = distance / rate\n"
   ]
  },
  {
   "cell_type": "code",
   "execution_count": 104,
   "metadata": {
    "colab": {},
    "colab_type": "code",
    "id": "7foPwWuGW0nS"
   },
   "outputs": [],
   "source": [
    "import warnings"
   ]
  },
  {
   "cell_type": "code",
   "execution_count": 105,
   "metadata": {
    "colab": {},
    "colab_type": "code",
    "id": "fMVok-q5W0na",
    "outputId": "95e2c0eb-580d-40f4-885c-8ba2b9cc3dc2"
   },
   "outputs": [
    {
     "data": {
      "text/plain": [
       "{'distance': 30, 'rate': 5, 'time': 6.0}"
      ]
     },
     "execution_count": 105,
     "metadata": {},
     "output_type": "execute_result"
    }
   ],
   "source": [
    "def rtd(distance=None, rate=None, time= None):\n",
    "    \"\"\" A function that solves a Rate-Time-Distance (RTD) calculation\"\"\"\n",
    "    \n",
    "    if distance is None:\n",
    "        distance = rate * time\n",
    "    elif rate is None:\n",
    "        rate = distance / time\n",
    "    elif time is None:\n",
    "        time = distance / rate\n",
    "    else:\n",
    "        warnings.warning(\"Nothing to solve for\")\n",
    "    \n",
    "    return dict(distance=distance, rate=rate, time=time)\n",
    "\n",
    "rtd(distance= 30, rate=5)\n",
    "        "
   ]
  },
  {
   "cell_type": "code",
   "execution_count": 106,
   "metadata": {
    "colab": {},
    "colab_type": "code",
    "id": "KXCHrhzqW0nl",
    "outputId": "ee1c371e-9a7a-4c3d-b807-2970fab67fcd"
   },
   "outputs": [
    {
     "name": "stdout",
     "output_type": "stream",
     "text": [
      "At 5kt, it takes 8.0hrs to cover 40nm\n"
     ]
    }
   ],
   "source": [
    "# For nicely formatted output, we might do this:\n",
    "\n",
    "result = rtd(distance=40, rate=5)\n",
    "\n",
    "print(\"At {rate}kt, it takes\"\n",
    "     \" {time}hrs to cover {distance}nm\".format_map(result))"
   ]
  },
  {
   "cell_type": "markdown",
   "metadata": {
    "colab_type": "text",
    "id": "kTHBP_dZW0ns"
   },
   "source": [
    "Because we've provided default values for all of the parameters, we can provide argument\n",
    "values for two of the three parameters, and the function can then solve for the third\n",
    "parameter. **This saves us from having to write three separate functions.**\n",
    "\n",
    "Returning a dictionary as the final result isn't essential to this. It's simply handy. **It allows us\n",
    "to have a uniform result no matter which parameter values were provided.**"
   ]
  },
  {
   "cell_type": "markdown",
   "metadata": {
    "colab_type": "text",
    "id": "Qit8ves3W0nu"
   },
   "source": [
    "We have an alternative formulation for this, one that involves more flexibility. Python\n",
    "functions have an all other keywords parameter, prefixed with ** . It is often shown like this:\n",
    "\n",
    "    ```python\n",
    "        def rtd2(distance, rate, time, **keywords):\n",
    "            print(keywords)\n",
    "    ```\n",
    "Any additional keyword arguments are collected into a dictionary that is provided to the\n",
    "`**keywords` parameter. We can then call this function with extra parameters. Evaluate this\n",
    "function like this:\n",
    "\n",
    "    ```python\n",
    "        rtd2(rate=6, time=6.75, something_else=60)\n",
    "    ```\n",
    "    \n",
    "We'll then see that the value of the keywords parameter is a dictionary object with the\n",
    "value of `{'something_else': 60}` . \n",
    "\n",
    "We can then use ordinary dictionary processing\n",
    "techniques on this structure. The keys and values in this dictionary are the names and\n",
    "values provided when the function was evaluated."
   ]
  },
  {
   "cell_type": "code",
   "execution_count": 107,
   "metadata": {
    "colab": {},
    "colab_type": "code",
    "id": "w4nZ_L7FW0nv",
    "outputId": "c53c254a-af36-4ec5-c006-317235ef7c6c"
   },
   "outputs": [
    {
     "data": {
      "text/plain": [
       "{'distance': 30, 'rate': 5, 'time': 6.0}"
      ]
     },
     "execution_count": 107,
     "metadata": {},
     "output_type": "execute_result"
    }
   ],
   "source": [
    "def rtd2(**keywords):\n",
    "    \"\"\" A function that solves a Rate-Time-Distance (RTD) calculation\"\"\"\n",
    "    rate= keywords.get('rate', None)\n",
    "    time= keywords.get('time', None)\n",
    "    distance= keywords.get('distance', None)\n",
    "    \n",
    "    if distance is None:\n",
    "        distance = rate * time\n",
    "    elif rate is None:\n",
    "        rate = distance / time\n",
    "    elif time is None:\n",
    "        time = distance / rate\n",
    "    else:\n",
    "        warnings.warning(\"Nothing to solve for\")\n",
    "    \n",
    "    return dict(distance=distance, rate=rate, time=time)\n",
    "\n",
    "rtd2(distance= 30, rate=5)\n",
    "    "
   ]
  }
 ],
 "metadata": {
  "colab": {
   "name": "Copia de Teoria Semana 5.ipynb",
   "provenance": []
  },
  "kernelspec": {
   "display_name": "Python 3",
   "language": "python",
   "name": "python3"
  },
  "language_info": {
   "codemirror_mode": {
    "name": "ipython",
    "version": 3
   },
   "file_extension": ".py",
   "mimetype": "text/x-python",
   "name": "python",
   "nbconvert_exporter": "python",
   "pygments_lexer": "ipython3",
   "version": "3.6.9"
  }
 },
 "nbformat": 4,
 "nbformat_minor": 1
}
