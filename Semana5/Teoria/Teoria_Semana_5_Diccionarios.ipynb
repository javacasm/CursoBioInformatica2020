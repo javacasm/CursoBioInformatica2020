{
 "cells": [
  {
   "cell_type": "markdown",
   "metadata": {
    "colab_type": "text",
    "id": "wWVXFQojW0mT"
   },
   "source": [
    "# Diccionarios"
   ]
  },
  {
   "cell_type": "markdown",
   "metadata": {
    "colab_type": "text",
    "id": "54cWFCb4W0mW"
   },
   "source": [
    "## Tutorial y ejercicios sobre Diccionarios\n",
    "\n",
    "Ver [este](https://recursospython.com/guias-y-manuales/diccionarios/) tutorial sobre los diccionarios en Python\n",
    "y utilizar las herramientas aprendidas para tratar de hacer los 5 primeros ejercicios de esta [web](https://pynative.com/python-dictionary-exercise-with-solutions/)"
   ]
  },
  {
   "cell_type": "markdown",
   "metadata": {
    "colab": {},
    "colab_type": "code",
    "id": "JAIgbqsIYB9U"
   },
   "source": [
    "Un diccionario es una colección de pares etiqueta/valor, separados por el signo \"**:**\". También se usa la palabra clave o llave para referirse a la etiqueta.\n",
    "\n",
    "Se usan las llaves, expresados de la siguiente forma (usaremos el que parece ser el ejemplo por excelencia de los diccionarios: los lenguajes de programación y su fecha de creación)"
   ]
  },
  {
   "cell_type": "code",
   "execution_count": 57,
   "metadata": {
    "colab": {
     "base_uri": "https://localhost:8080/",
     "height": 36
    },
    "colab_type": "code",
    "id": "rVdO_DTTYmK5",
    "outputId": "dea89a0c-563b-4587-f377-88d270625e50"
   },
   "outputs": [
    {
     "name": "stdout",
     "output_type": "stream",
     "text": [
      "{'C': 1972, 'python': 1991, 'Java': 1996}\n"
     ]
    }
   ],
   "source": [
    "lenguajes = { 'C':1972, 'python':1991, 'Java':1996}\n",
    "print(lenguajes)"
   ]
  },
  {
   "cell_type": "markdown",
   "metadata": {},
   "source": [
    "Para crear un diccionario vacío usando las llaves"
   ]
  },
  {
   "cell_type": "code",
   "execution_count": null,
   "metadata": {},
   "outputs": [],
   "source": [
    "programas = {}"
   ]
  },
  {
   "cell_type": "markdown",
   "metadata": {},
   "source": [
    "Para saber el número de elementos usaremos la función **len**, igual que para otras colecciones:"
   ]
  },
  {
   "cell_type": "code",
   "execution_count": 51,
   "metadata": {},
   "outputs": [
    {
     "data": {
      "text/plain": [
       "3"
      ]
     },
     "execution_count": 51,
     "metadata": {},
     "output_type": "execute_result"
    }
   ],
   "source": [
    "len(lenguajes)"
   ]
  },
  {
   "cell_type": "markdown",
   "metadata": {
    "colab_type": "text",
    "id": "IkF7ZMrzY5YS"
   },
   "source": [
    "Podemos preguntar por una llave"
   ]
  },
  {
   "cell_type": "code",
   "execution_count": 47,
   "metadata": {
    "colab_type": "text",
    "id": "IkF7ZMrzY5YS"
   },
   "outputs": [
    {
     "name": "stdout",
     "output_type": "stream",
     "text": [
      "1972\n"
     ]
    }
   ],
   "source": [
    "print(lenguajes['C'])"
   ]
  },
  {
   "cell_type": "markdown",
   "metadata": {},
   "source": [
    "Si el elemento no existe se produce una excepción de tipo **KeyError**"
   ]
  },
  {
   "cell_type": "code",
   "execution_count": 48,
   "metadata": {
    "colab": {},
    "colab_type": "code",
    "id": "SXd1rnNrZBJq"
   },
   "outputs": [
    {
     "ename": "KeyError",
     "evalue": "'C++'",
     "output_type": "error",
     "traceback": [
      "\u001b[0;31m---------------------------------------------------------------------------\u001b[0m",
      "\u001b[0;31mKeyError\u001b[0m                                  Traceback (most recent call last)",
      "\u001b[0;32m<ipython-input-48-e32c1c55a3d0>\u001b[0m in \u001b[0;36m<module>\u001b[0;34m\u001b[0m\n\u001b[0;32m----> 1\u001b[0;31m \u001b[0mprint\u001b[0m\u001b[0;34m(\u001b[0m\u001b[0mlenguajes\u001b[0m\u001b[0;34m[\u001b[0m\u001b[0;34m'C++'\u001b[0m\u001b[0;34m]\u001b[0m\u001b[0;34m)\u001b[0m\u001b[0;34m\u001b[0m\u001b[0;34m\u001b[0m\u001b[0m\n\u001b[0m",
      "\u001b[0;31mKeyError\u001b[0m: 'C++'"
     ]
    }
   ],
   "source": [
    "print(lenguajes['C++'])"
   ]
  },
  {
   "cell_type": "markdown",
   "metadata": {},
   "source": [
    "Podemos evitar el error usando **get('clave')** que devolverá **None** si la clave no está en el diccionario"
   ]
  },
  {
   "cell_type": "code",
   "execution_count": null,
   "metadata": {
    "scrolled": true
   },
   "outputs": [],
   "source": [
    "print(lenguajes.get('C++'))"
   ]
  },
  {
   "cell_type": "markdown",
   "metadata": {},
   "source": [
    "Podemos pasarle al método **get** un argumento que se devolverá como valor por defecto si la clave no existe "
   ]
  },
  {
   "cell_type": "code",
   "execution_count": null,
   "metadata": {},
   "outputs": [],
   "source": [
    "print(lenguajes.get('C++','Año desconocido'))"
   ]
  },
  {
   "cell_type": "markdown",
   "metadata": {},
   "source": [
    "Si queremos obtener un elemento y a la vez retirarlo del diccionario usaremos la función **pop**. También podemos proporcionar un valor por defecto por si la clave no está en el diccionario, igual que con **get**"
   ]
  },
  {
   "cell_type": "code",
   "execution_count": null,
   "metadata": {},
   "outputs": [],
   "source": [
    "len(lenguajes)\n",
    "print(lenguajes.pop('C'))\n",
    "len(lenguajes)"
   ]
  },
  {
   "cell_type": "markdown",
   "metadata": {},
   "source": [
    "Otra forma de ver si una clave está en el diccionarios es usando **in**"
   ]
  },
  {
   "cell_type": "code",
   "execution_count": 53,
   "metadata": {},
   "outputs": [
    {
     "data": {
      "text/plain": [
       "False"
      ]
     },
     "execution_count": 53,
     "metadata": {},
     "output_type": "execute_result"
    }
   ],
   "source": [
    "'BASIC' in lenguajes"
   ]
  },
  {
   "cell_type": "markdown",
   "metadata": {},
   "source": [
    "Asignando un nuevo elemento se incluirá en el diccionario"
   ]
  },
  {
   "cell_type": "code",
   "execution_count": null,
   "metadata": {},
   "outputs": [],
   "source": [
    "lenguajes['C++'] = 1983"
   ]
  },
  {
   "cell_type": "markdown",
   "metadata": {},
   "source": [
    "Podemos borrar un elemento usando **del**"
   ]
  },
  {
   "cell_type": "code",
   "execution_count": null,
   "metadata": {},
   "outputs": [],
   "source": [
    "del lenguajes['Java']"
   ]
  },
  {
   "cell_type": "markdown",
   "metadata": {},
   "source": [
    "Para eliminar todos los elementos de un diccionario usaremos la función **clear**"
   ]
  },
  {
   "cell_type": "code",
   "execution_count": 54,
   "metadata": {},
   "outputs": [
    {
     "data": {
      "text/plain": [
       "0"
      ]
     },
     "execution_count": 54,
     "metadata": {},
     "output_type": "execute_result"
    }
   ],
   "source": [
    "lenguajes.clear()\n",
    "len(lenguajes)"
   ]
  },
  {
   "cell_type": "markdown",
   "metadata": {},
   "source": [
    "Podemos crear diccionarios con esta otra sintaxis:"
   ]
  },
  {
   "cell_type": "code",
   "execution_count": null,
   "metadata": {},
   "outputs": [],
   "source": [
    "lenguajes = dict(C=1972, Java=1996, Python=1991)"
   ]
  },
  {
   "cell_type": "markdown",
   "metadata": {},
   "source": [
    "O a partir de listas"
   ]
  },
  {
   "cell_type": "code",
   "execution_count": 61,
   "metadata": {},
   "outputs": [
    {
     "name": "stdout",
     "output_type": "stream",
     "text": [
      "{'Assembler': 0, 'Lisp': 0, 'Pascal': 0}\n"
     ]
    }
   ],
   "source": [
    "oldLanguajes = ['Assembler','Lisp','Pascal']\n",
    "lenguajesAntiguos = dict.fromkeys(oldLanguajes,0)\n",
    "print(lenguajesAntiguos)"
   ]
  },
  {
   "cell_type": "markdown",
   "metadata": {},
   "source": [
    "## Iterando un diccionario"
   ]
  },
  {
   "cell_type": "markdown",
   "metadata": {},
   "source": [
    "Podemos iterar un diccionario usando las claves"
   ]
  },
  {
   "cell_type": "code",
   "execution_count": 44,
   "metadata": {},
   "outputs": [
    {
     "name": "stdout",
     "output_type": "stream",
     "text": [
      "C\n",
      "python\n",
      "C++\n"
     ]
    }
   ],
   "source": [
    "for clave in lenguajes:\n",
    "    print(clave)"
   ]
  },
  {
   "cell_type": "markdown",
   "metadata": {},
   "source": [
    "También podemos iterar por los valores  usando la función **values** (Cuidado con olvidar los paréntesis de values, que es una función)"
   ]
  },
  {
   "cell_type": "code",
   "execution_count": 55,
   "metadata": {},
   "outputs": [],
   "source": [
    "for clave in lenguajes.values():\n",
    "    print(valor)"
   ]
  },
  {
   "cell_type": "markdown",
   "metadata": {},
   "source": [
    "Incluso podemos iterar por ambos a la vez usando la función **items** (Cuidado con olvidar los paréntesis de items, que es una función)"
   ]
  },
  {
   "cell_type": "code",
   "execution_count": 50,
   "metadata": {
    "scrolled": true
   },
   "outputs": [
    {
     "name": "stdout",
     "output_type": "stream",
     "text": [
      "C  - >  1972\n",
      "python  - >  1991\n",
      "Java  - >  1996\n"
     ]
    }
   ],
   "source": [
    "for clave,valor in lenguajes.items():\n",
    "    print(clave,' - > ',valor)"
   ]
  },
  {
   "cell_type": "markdown",
   "metadata": {},
   "source": [
    "## Operaciones entre diccionarios"
   ]
  },
  {
   "cell_type": "markdown",
   "metadata": {},
   "source": [
    "Podemos añadir los elementos de un diccionario a otro diccionario usando la función **update** del primero:"
   ]
  },
  {
   "cell_type": "code",
   "execution_count": 58,
   "metadata": {},
   "outputs": [
    {
     "data": {
      "text/plain": [
       "3"
      ]
     },
     "execution_count": 58,
     "metadata": {},
     "output_type": "execute_result"
    }
   ],
   "source": [
    "lenguajesModernos = {}\n",
    "lenguajesModernos.update(lenguajes)\n",
    "len(lenguajesModernos)"
   ]
  },
  {
   "cell_type": "markdown",
   "metadata": {},
   "source": [
    "#  Ejercicios\n",
    "Ejercicios de [esta web](https://pynative.com/python-dictionary-exercise-with-solutions/)"
   ]
  },
  {
   "cell_type": "markdown",
   "metadata": {},
   "source": [
    "## dictionary exercise 1: Below are the two lists convert it into the dictionary"
   ]
  },
  {
   "cell_type": "code",
   "execution_count": null,
   "metadata": {},
   "outputs": [],
   "source": [
    "# Ejercio 1\n",
    "\n",
    "keys = ['Ten', 'Twenty', 'Thirty']\n",
    "values = [10, 20, 30]\n",
    "\n",
    "diccionario = {}\n",
    "for contador in range(0, len(keys)):\n",
    "    diccionario[keys[contador]] = values[contador]\n",
    "\n",
    "print(diccionario)"
   ]
  },
  {
   "cell_type": "code",
   "execution_count": null,
   "metadata": {},
   "outputs": [],
   "source": [
    "# Ejercicio 1 otra forma\n",
    "\n",
    "keys = ['Ten', 'Twenty', 'Thirty']\n",
    "values = [10, 20, 30]\n",
    "\n",
    "diccionario = {}\n",
    "contador = 0\n",
    "for key in keys:\n",
    "    diccionario[key] = values[contador]\n",
    "    contador += 1\n",
    "    \n",
    "print(diccionario)"
   ]
  },
  {
   "cell_type": "code",
   "execution_count": null,
   "metadata": {},
   "outputs": [],
   "source": [
    "keys = ['Ten', 'Twenty', 'Thirty']\n",
    "values = [10, 20, 30]\n",
    "\n",
    "sampleDict = dict(zip(keys, values)) # Buscar ZIP!!!\n",
    "print(sampleDict)"
   ]
  },
  {
   "cell_type": "markdown",
   "metadata": {},
   "source": [
    "### dictionary exercise 2: Merge following two Python dictionaries into one"
   ]
  },
  {
   "cell_type": "code",
   "execution_count": 2,
   "metadata": {},
   "outputs": [
    {
     "name": "stdout",
     "output_type": "stream",
     "text": [
      "{'Ten': 10, 'Twenty': 20, 'Thirty': 30, 'Fourty': 40, 'Fifty': 50}\n"
     ]
    }
   ],
   "source": [
    "dict1 = {'Ten': 10, 'Twenty': 20, 'Thirty': 30}\n",
    "dict2 = {'Thirty': 30, 'Fourty': 40, 'Fifty': 50}\n",
    "\n",
    "dict3 = dict1.copy()  # Creamos un nuevo diccionario\n",
    "dict3.update(dict2)\n",
    "print(dict1)"
   ]
  },
  {
   "cell_type": "markdown",
   "metadata": {},
   "source": [
    "### dictionary exercise 3: Access the value of key ‘history’"
   ]
  },
  {
   "cell_type": "code",
   "execution_count": 7,
   "metadata": {},
   "outputs": [
    {
     "data": {
      "text/plain": [
       "80"
      ]
     },
     "execution_count": 7,
     "metadata": {},
     "output_type": "execute_result"
    }
   ],
   "source": [
    "sampleDict = { \n",
    "   \"class\":{ \n",
    "      \"student\":{ \n",
    "         \"name\":\"Mike\",\n",
    "         \"marks\":{ \n",
    "            \"physics\":70,\n",
    "            \"history\":80\n",
    "         }\n",
    "      }\n",
    "   }\n",
    "}\n",
    "\n",
    "sampleDict[\"class\"]['student']['marks']['history']"
   ]
  },
  {
   "cell_type": "markdown",
   "metadata": {},
   "source": [
    "### dictionary exercise 4: Initialize dictionary with default values"
   ]
  },
  {
   "cell_type": "code",
   "execution_count": 10,
   "metadata": {},
   "outputs": [
    {
     "ename": "KeyError",
     "evalue": "'Kelly'",
     "output_type": "error",
     "traceback": [
      "\u001b[0;31m---------------------------------------------------------------------------\u001b[0m",
      "\u001b[0;31mKeyError\u001b[0m                                  Traceback (most recent call last)",
      "\u001b[0;32m<ipython-input-10-8be43b29618b>\u001b[0m in \u001b[0;36m<module>\u001b[0;34m\u001b[0m\n\u001b[1;32m      6\u001b[0m \u001b[0;32mfor\u001b[0m \u001b[0memployee\u001b[0m \u001b[0;32min\u001b[0m \u001b[0memployees\u001b[0m\u001b[0;34m:\u001b[0m\u001b[0;34m\u001b[0m\u001b[0;34m\u001b[0m\u001b[0m\n\u001b[1;32m      7\u001b[0m     \u001b[0;32mfor\u001b[0m \u001b[0mdefault\u001b[0m\u001b[0;34m,\u001b[0m\u001b[0mvalue\u001b[0m \u001b[0;32min\u001b[0m \u001b[0mdefaults\u001b[0m\u001b[0;34m.\u001b[0m\u001b[0mitems\u001b[0m\u001b[0;34m(\u001b[0m\u001b[0;34m)\u001b[0m\u001b[0;34m:\u001b[0m\u001b[0;34m\u001b[0m\u001b[0;34m\u001b[0m\u001b[0m\n\u001b[0;32m----> 8\u001b[0;31m         \u001b[0mcompany\u001b[0m\u001b[0;34m[\u001b[0m\u001b[0memployee\u001b[0m\u001b[0;34m]\u001b[0m\u001b[0;34m[\u001b[0m\u001b[0mdefault\u001b[0m\u001b[0;34m]\u001b[0m \u001b[0;34m=\u001b[0m \u001b[0mvalue\u001b[0m\u001b[0;34m\u001b[0m\u001b[0;34m\u001b[0m\u001b[0m\n\u001b[0m",
      "\u001b[0;31mKeyError\u001b[0m: 'Kelly'"
     ]
    }
   ],
   "source": [
    "employees = ['Kelly', 'Emma', 'John']\n",
    "defaults = {\"designation\": 'Application Developer', \"salary\": 8000}\n",
    "\n",
    "company = {}\n",
    "\n",
    "for employee in employees:\n",
    "    for default,value in defaults.items():\n",
    "        company[employee][default] = value"
   ]
  },
  {
   "cell_type": "markdown",
   "metadata": {},
   "source": [
    "### dictionary exercise 5: Create a new dictionary by extracting the following keys from a given dictionary"
   ]
  },
  {
   "cell_type": "code",
   "execution_count": 62,
   "metadata": {},
   "outputs": [
    {
     "name": "stdout",
     "output_type": "stream",
     "text": [
      "{'name': 'Kelly', 'salary': 8000}\n"
     ]
    }
   ],
   "source": [
    "sampleDict = {\n",
    "  \"name\": \"Kelly\",\n",
    "  \"age\":25,\n",
    "  \"salary\": 8000,\n",
    "  \"city\": \"New york\"\n",
    "  \n",
    "}\n",
    "# Keys to extract\n",
    "\n",
    "keys = [\"name\", \"salary\"]\n",
    "\n",
    "importantElements = {}\n",
    "\n",
    "for key in keys:\n",
    "    importantElements[key] = sampleDict[key]\n",
    "\n",
    "    \n",
    "print(importantElements)"
   ]
  },
  {
   "cell_type": "code",
   "execution_count": 64,
   "metadata": {},
   "outputs": [
    {
     "name": "stdout",
     "output_type": "stream",
     "text": [
      "{'name': 'Kelly', 'salary': 8000}\n"
     ]
    }
   ],
   "source": [
    "# Pro way\n",
    "\n",
    "importantElements = {k: sampleDict[k] for k in keys}\n",
    "\n",
    "print(importantElements)"
   ]
  },
  {
   "cell_type": "markdown",
   "metadata": {},
   "source": [
    "### dictionary exercise 6: Delete set of keys from Python Dictionary"
   ]
  },
  {
   "cell_type": "code",
   "execution_count": 66,
   "metadata": {},
   "outputs": [
    {
     "name": "stdout",
     "output_type": "stream",
     "text": [
      "{'age': 25, 'city': 'New york'}\n"
     ]
    }
   ],
   "source": [
    "sampleDict = {\n",
    "  \"name\": \"Kelly\",\n",
    "  \"age\":25,\n",
    "  \"salary\": 8000,\n",
    "  \"city\": \"New york\"\n",
    "  \n",
    "}\n",
    "\n",
    "keysToRemove = [\"name\", \"salary\"]\n",
    "\n",
    "rests = {}\n",
    "\n",
    "for key in sampleDict:\n",
    "    if key not in keysToRemove:\n",
    "        rests[key] = sampleDict[key]\n",
    "\n",
    "print(rests)"
   ]
  },
  {
   "cell_type": "code",
   "execution_count": 69,
   "metadata": {},
   "outputs": [
    {
     "name": "stdout",
     "output_type": "stream",
     "text": [
      "{'city': 'New york', 'age': 25}\n"
     ]
    }
   ],
   "source": [
    "# Pro way\n",
    "\n",
    "sampleDict = {\n",
    "  \"name\": \"Kelly\",\n",
    "  \"age\":25,\n",
    "  \"salary\": 8000,\n",
    "  \"city\": \"New york\"\n",
    "  \n",
    "}\n",
    "\n",
    "keysToRemove = [\"name\", \"salary\"]\n",
    "\n",
    "rests = {k: sampleDict[k] for k in sampleDict.keys() - keysToRemove}\n",
    "\n",
    "print(rests)"
   ]
  },
  {
   "cell_type": "markdown",
   "metadata": {},
   "source": [
    "### dictionary exercise 7: Check if a value 200 exists in a dictionary"
   ]
  },
  {
   "cell_type": "code",
   "execution_count": 6,
   "metadata": {},
   "outputs": [
    {
     "name": "stdout",
     "output_type": "stream",
     "text": [
      " 200s in el dictionary\n"
     ]
    },
    {
     "data": {
      "text/plain": [
       "True"
      ]
     },
     "execution_count": 6,
     "metadata": {},
     "output_type": "execute_result"
    }
   ],
   "source": [
    "sampleDict = {'a': 100, 'b': 200, 'c': 300}\n",
    "\n",
    "def isValueinDict(dictio,value2Check):\n",
    "    for value in dictio.values():\n",
    "        if value == value2Check:\n",
    "            print('% is in el dictionary'%value2Check)\n",
    "            return True\n",
    "\n",
    "isValueinDict(sampleDict,200)"
   ]
  },
  {
   "cell_type": "code",
   "execution_count": 7,
   "metadata": {},
   "outputs": [
    {
     "data": {
      "text/plain": [
       "True"
      ]
     },
     "execution_count": 7,
     "metadata": {},
     "output_type": "execute_result"
    }
   ],
   "source": [
    "# Pro way\n",
    "sampleDict = {'a': 100, 'b': 200, 'c': 300}\n",
    "\n",
    "200 in sampleDict.values()"
   ]
  },
  {
   "cell_type": "markdown",
   "metadata": {},
   "source": [
    "### dictionary exercise 8: Rename key city to location in the following dictionary "
   ]
  },
  {
   "cell_type": "code",
   "execution_count": 10,
   "metadata": {},
   "outputs": [
    {
     "name": "stdout",
     "output_type": "stream",
     "text": [
      "{'name': 'Kelly', 'age': 25, 'salary': 8000, 'location': 'New york'}\n"
     ]
    }
   ],
   "source": [
    "# One way\n",
    "sampleDict = {\n",
    "  \"name\": \"Kelly\",\n",
    "  \"age\":25,\n",
    "  \"salary\": 8000,\n",
    "  \"city\": \"New york\"\n",
    "}\n",
    "\n",
    "newDict = {}\n",
    "for key in sampleDict.keys():\n",
    "for key in sampleDict.keys():\n",
    "    if key == 'city':\n",
    "        newDict['location'] = sampleDict['city']\n",
    "    else:\n",
    "        newDict[key] = sampleDict[key]\n",
    "sampleDict = newDict\n",
    "print(sampleDict)"
   ]
  },
  {
   "cell_type": "code",
   "execution_count": 15,
   "metadata": {},
   "outputs": [
    {
     "name": "stdout",
     "output_type": "stream",
     "text": [
      "{'name': 'Kelly', 'age': 25, 'salary': 8000, 'location': 'New york'}\n"
     ]
    }
   ],
   "source": [
    "# Another way\n",
    "sampleDict = {\n",
    "  \"name\": \"Kelly\",\n",
    "  \"age\":25,\n",
    "  \"salary\": 8000,\n",
    "  \"city\": \"New york\"\n",
    "}\n",
    "\n",
    "sampleDict['location'] = sampleDict['city']\n",
    "del sampleDict['city']\n",
    "print(sampleDict)"
   ]
  },
  {
   "cell_type": "code",
   "execution_count": 11,
   "metadata": {},
   "outputs": [
    {
     "name": "stdout",
     "output_type": "stream",
     "text": [
      "{'name': 'Kelly', 'age': 25, 'salary': 8000, 'location': 'New york'}\n"
     ]
    }
   ],
   "source": [
    "# Pro way\n",
    "sampleDict = {\n",
    "  \"name\": \"Kelly\",\n",
    "  \"age\":25,\n",
    "  \"salary\": 8000,\n",
    "  \"city\": \"New york\"\n",
    "}\n",
    "\n",
    "sampleDict['location'] = sampleDict.pop('city')\n",
    "print(sampleDict)"
   ]
  },
  {
   "cell_type": "markdown",
   "metadata": {},
   "source": [
    "### dictionary exercise 9: Get the key corresponding to the minimum value from the following dictionary"
   ]
  },
  {
   "cell_type": "code",
   "execution_count": 18,
   "metadata": {},
   "outputs": [
    {
     "name": "stdout",
     "output_type": "stream",
     "text": [
      "Min value 65 is at Math\n"
     ]
    }
   ],
   "source": [
    "sampleDict = {\n",
    "  'Physics': 82,\n",
    "  'Math': 65,\n",
    "  'history': 75\n",
    "}\n",
    "\n",
    "minValue = 10e1000\n",
    "minKey = 'PotterHead'\n",
    "for key, value in sampleDict.items():\n",
    "    if minValue > value:\n",
    "        minValue = value\n",
    "        minKey = key\n",
    "\n",
    "print('Min value {} is at {}'.format(minValue, minKey))\n",
    "    "
   ]
  },
  {
   "cell_type": "code",
   "execution_count": null,
   "metadata": {},
   "outputs": [],
   "source": [
    "# MegaPro way\n",
    "\n",
    "sampleDict = {\n",
    "  'Physics': 82,\n",
    "  'Math': 65,\n",
    "  'history': 75\n",
    "}\n",
    "\n",
    "print(min(sampleDict, key=sampleDict.get))"
   ]
  },
  {
   "cell_type": "markdown",
   "metadata": {},
   "source": [
    "### dictionary exercise 10: Given a Python dictionary, Change Brad’s salary to 8500"
   ]
  },
  {
   "cell_type": "code",
   "execution_count": 22,
   "metadata": {},
   "outputs": [
    {
     "name": "stdout",
     "output_type": "stream",
     "text": [
      "{'emp1': {'name': 'Jhon', 'salary': 7500}, 'emp2': {'name': 'Emma', 'salary': 8000}, 'emp3': {'name': 'Brad', 'salary': 8500}}\n"
     ]
    }
   ],
   "source": [
    "sampleDict = {\n",
    "     'emp1': {'name': 'Jhon', 'salary': 7500},\n",
    "     'emp2': {'name': 'Emma', 'salary': 8000},\n",
    "     'emp3': {'name': 'Brad', 'salary': 6500}\n",
    "}\n",
    "\n",
    "sampleDict['emp3']['salary'] = 8500\n",
    "print(sampleDict)"
   ]
  },
  {
   "cell_type": "code",
   "execution_count": 21,
   "metadata": {},
   "outputs": [
    {
     "name": "stdout",
     "output_type": "stream",
     "text": [
      "{'emp1': {'name': 'Jhon', 'salary': 7500}, 'emp2': {'name': 'Emma', 'salary': 8000}, 'emp3': {'name': 'Brad', 'salary': 8500}}\n"
     ]
    }
   ],
   "source": [
    "sampleDict = {\n",
    "     'emp1': {'name': 'Jhon', 'salary': 7500},\n",
    "     'emp2': {'name': 'Emma', 'salary': 8000},\n",
    "     'emp3': {'name': 'Brad', 'salary': 6500}\n",
    "}\n",
    "\n",
    "for key,value in sampleDict.items():\n",
    "    if value['name'] == 'Brad':\n",
    "        value['salary'] = 8500\n",
    "\n",
    "print(sampleDict)"
   ]
  }
 ],
 "metadata": {
  "colab": {
   "name": "Copia de Teoria Semana 5.ipynb",
   "provenance": []
  },
  "kernelspec": {
   "display_name": "Python 3",
   "language": "python",
   "name": "python3"
  },
  "language_info": {
   "codemirror_mode": {
    "name": "ipython",
    "version": 3
   },
   "file_extension": ".py",
   "mimetype": "text/x-python",
   "name": "python",
   "nbconvert_exporter": "python",
   "pygments_lexer": "ipython3",
   "version": "3.6.9"
  }
 },
 "nbformat": 4,
 "nbformat_minor": 1
}
