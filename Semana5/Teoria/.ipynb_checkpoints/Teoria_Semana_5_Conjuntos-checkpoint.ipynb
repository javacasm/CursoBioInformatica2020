{
 "cells": [
  {
   "cell_type": "markdown",
   "metadata": {
    "colab_type": "text",
    "id": "wWVXFQojW0mT"
   },
   "source": [
    "# Conjuntos"
   ]
  },
  {
   "cell_type": "markdown",
   "metadata": {
    "colab_type": "text",
    "id": "_V3eneZ9W0mY"
   },
   "source": [
    " ## Tutorial y ejercicios sobre Conjuntos\n",
    " \n",
    " Ver [este](https://recursospython.com/guias-y-manuales/conjuntos-sets/) tutorial sobre los conjuntos en Python\n",
    " y utilizar las herramientas aprendidas para tratar de hacer los 5 primeros ejercicios de esta [web](https://pynative.com/python-set-exercise-with-solutions/)"
   ]
  },
  {
   "cell_type": "markdown",
   "metadata": {},
   "source": [
    "La diferencia entre conjunto y lista es que en los conjuntos no se repiten elementos"
   ]
  },
  {
   "cell_type": "code",
   "execution_count": 23,
   "metadata": {},
   "outputs": [],
   "source": [
    "s1 = {1,5,7,'a'}\n",
    "\n",
    "s2 = set()\n",
    "\n",
    "s4 = set(range(10))\n"
   ]
  },
  {
   "cell_type": "markdown",
   "metadata": {},
   "source": [
    "Podemos añadir elementos con **add**"
   ]
  },
  {
   "cell_type": "code",
   "execution_count": 11,
   "metadata": {},
   "outputs": [
    {
     "name": "stdout",
     "output_type": "stream",
     "text": [
      "{1, 2, 4}\n",
      "{1, 2, 4, 5}\n",
      "{1, 2, 4, 5}\n"
     ]
    }
   ],
   "source": [
    "s = {1, 2, 4}\n",
    "print(s)\n",
    "s.add(5)\n",
    "print(s)\n",
    "s.add(5)\n",
    "print(s)"
   ]
  },
  {
   "cell_type": "markdown",
   "metadata": {},
   "source": [
    " Son muy 'utiles para hacer operaciones logicas"
   ]
  },
  {
   "cell_type": "code",
   "execution_count": 2,
   "metadata": {},
   "outputs": [
    {
     "data": {
      "text/plain": [
       "{1, 2, 3, 4, 5, 6}"
      ]
     },
     "execution_count": 2,
     "metadata": {},
     "output_type": "execute_result"
    }
   ],
   "source": [
    "a = {1, 2, 3, 4}\n",
    "b = {3, 4, 5, 6}\n",
    "a | b"
   ]
  },
  {
   "cell_type": "markdown",
   "metadata": {},
   "source": [
    "También podemos usar notación algebráica para \"restar\" conjuntos"
   ]
  },
  {
   "cell_type": "code",
   "execution_count": 4,
   "metadata": {},
   "outputs": [
    {
     "ename": "TypeError",
     "evalue": "unsupported operand type(s) for +: 'set' and 'set'",
     "output_type": "error",
     "traceback": [
      "\u001b[0;31m---------------------------------------------------------------------------\u001b[0m",
      "\u001b[0;31mTypeError\u001b[0m                                 Traceback (most recent call last)",
      "\u001b[0;32m<ipython-input-4-97be00062120>\u001b[0m in \u001b[0;36m<module>\u001b[0;34m\u001b[0m\n\u001b[1;32m      1\u001b[0m \u001b[0ma\u001b[0m\u001b[0;34m-\u001b[0m\u001b[0mb\u001b[0m\u001b[0;34m\u001b[0m\u001b[0;34m\u001b[0m\u001b[0m\n\u001b[0;32m----> 2\u001b[0;31m \u001b[0ma\u001b[0m\u001b[0;34m+\u001b[0m\u001b[0mb\u001b[0m\u001b[0;34m\u001b[0m\u001b[0;34m\u001b[0m\u001b[0m\n\u001b[0m",
      "\u001b[0;31mTypeError\u001b[0m: unsupported operand type(s) for +: 'set' and 'set'"
     ]
    }
   ],
   "source": [
    "a-b"
   ]
  },
  {
   "cell_type": "markdown",
   "metadata": {},
   "source": [
    "# Exercise Question 1: Add a list of elements to a given set"
   ]
  },
  {
   "cell_type": "code",
   "execution_count": 13,
   "metadata": {},
   "outputs": [
    {
     "name": "stdout",
     "output_type": "stream",
     "text": [
      "{'Orange', 'Red', 'Black', 'Green', 'Blue', 'Yellow'}\n"
     ]
    }
   ],
   "source": [
    "sampleSet = {\"Yellow\", \"Orange\", \"Black\"}\n",
    "sampleListtoAdd = [\"Blue\", \"Green\", \"Red\"]\n",
    "\n",
    "for item in sampleListtoAdd:\n",
    "    sampleSet.add(item)\n",
    "    \n",
    "print (sampleSet)"
   ]
  },
  {
   "cell_type": "code",
   "execution_count": 21,
   "metadata": {},
   "outputs": [
    {
     "name": "stdout",
     "output_type": "stream",
     "text": [
      "{'Orange', 'Red', 'Black', 'Green', 'Blue', 'Yellow'}\n"
     ]
    }
   ],
   "source": [
    "# Pro version\n",
    "sampleSet = {\"Yellow\", \"Orange\", \"Black\"}\n",
    "sampleListtoAdd = [\"Blue\", \"Green\", \"Red\"]\n",
    "\n",
    "sampleSet.update(sampleListtoAdd)\n",
    "print (sampleSet)"
   ]
  },
  {
   "cell_type": "markdown",
   "metadata": {},
   "source": [
    "# Exercise Question 2: Return a set of identical items from a given two Python set"
   ]
  },
  {
   "cell_type": "code",
   "execution_count": 16,
   "metadata": {},
   "outputs": [
    {
     "name": "stdout",
     "output_type": "stream",
     "text": [
      "{40, 50, 30}\n"
     ]
    }
   ],
   "source": [
    "set1 = {10, 20, 30, 40, 50}\n",
    "set2 = {30, 40, 50, 60, 70}\n",
    "\n",
    "common = set1 & set2\n",
    "print(common)"
   ]
  },
  {
   "cell_type": "code",
   "execution_count": 22,
   "metadata": {},
   "outputs": [
    {
     "name": "stdout",
     "output_type": "stream",
     "text": [
      "{40, 50, 30}\n"
     ]
    }
   ],
   "source": [
    "# Pro version\n",
    "\n",
    "set1 = {10, 20, 30, 40, 50}\n",
    "set2 = {30, 40, 50, 60, 70}\n",
    "\n",
    "common = set1.intersection(set2)\n",
    "print(common)"
   ]
  },
  {
   "cell_type": "markdown",
   "metadata": {},
   "source": [
    "# Exercise Question 3: Returns a new set with all items from both sets by removing duplicates"
   ]
  },
  {
   "cell_type": "code",
   "execution_count": 19,
   "metadata": {},
   "outputs": [
    {
     "name": "stdout",
     "output_type": "stream",
     "text": [
      "{70, 40, 10, 50, 20, 60, 30}\n"
     ]
    }
   ],
   "source": [
    "set1 = {10, 20, 30, 40, 50}\n",
    "set2 = {30, 40, 50, 60, 70}\n",
    "\n",
    "all = set1 | set2\n",
    "print(all)"
   ]
  },
  {
   "cell_type": "code",
   "execution_count": 19,
   "metadata": {},
   "outputs": [
    {
     "name": "stdout",
     "output_type": "stream",
     "text": [
      "{70, 40, 10, 50, 20, 60, 30}\n"
     ]
    }
   ],
   "source": [
    "# Pro version\n",
    "set1 = {10, 20, 30, 40, 50}\n",
    "set2 = {30, 40, 50, 60, 70}\n",
    "\n",
    "all = set1.union(set2)\n",
    "print(all)"
   ]
  },
  {
   "cell_type": "markdown",
   "metadata": {},
   "source": [
    "# Exercise Question 4: Given two Python sets, update first set with items that exist only in the first set and not in the second set."
   ]
  },
  {
   "cell_type": "code",
   "execution_count": null,
   "metadata": {},
   "outputs": [],
   "source": [
    "set1 = {10, 20, 30}\n",
    "set2 = {20, 40, 50}"
   ]
  },
  {
   "cell_type": "markdown",
   "metadata": {
    "colab_type": "text",
    "id": "ZyWhg5f4W0mZ"
   },
   "source": [
    "## Tareas de la semana"
   ]
  },
  {
   "cell_type": "code",
   "execution_count": 0,
   "metadata": {
    "colab": {},
    "colab_type": "code",
    "id": "BryyMJ6BW0mb"
   },
   "outputs": [],
   "source": [
    "# Ejercicios Nivel Básico:\n",
    "# De las webs de ejercicios anteriores hacer los restantes ejercicios de cada web"
   ]
  },
  {
   "cell_type": "code",
   "execution_count": 0,
   "metadata": {
    "colab": {},
    "colab_type": "code",
    "id": "N5mrY8LdW0mk"
   },
   "outputs": [],
   "source": [
    "# Ejercicio Nivel Intermedio: \n",
    "# Contador de la Frencuencia de las palabras en un texto (version1)\n",
    "# Hacer una función a la que le demos un texto y devuelva un diccionario con las frecuencias de aparicion \n",
    "# de las palabras en el texto con la forma {\"palabra\": numAparicionesDeLaPalabra}"
   ]
  },
  {
   "cell_type": "code",
   "execution_count": 0,
   "metadata": {
    "colab": {},
    "colab_type": "code",
    "id": "RGdWPw3zW0mr"
   },
   "outputs": [],
   "source": [
    "# Ejercicio Nivel Intermedio: \n",
    "# Contador de la Frencuencia de las palabras en un texto (version2)\n",
    "# Mejorar la versión 1 del programa utilizando conjuntos"
   ]
  },
  {
   "cell_type": "code",
   "execution_count": 0,
   "metadata": {
    "colab": {},
    "colab_type": "code",
    "id": "EfAsq5U3W0mx"
   },
   "outputs": [],
   "source": [
    "# Ejercicio 1 Nivel Avanzado:\n",
    "# Ver la teoria que hay justo debajo \n",
    "\n",
    "# Las 17 formulas que cambiarion en mundo \n",
    "# https://medium.com/however-mathematics/17-equations-that-changed-the-world-a043a8c24022\n",
    "\n",
    "\"\"\" Hacer una funcion que me devuelva , por orden cronologico, alguna de las ecuaciones que cambiaron el mundo , \n",
    "    en particular la funcion tiene que retornar una imagen que represente a la ecuación.\n",
    "    \n",
    "    >>> ecuacionesQueCambiaronElMundo(1)\n",
    "    \"https://miprofe.com/wp-content/uploads/2015/12/Teorema-de-pitagoras-1280x720.png\"\n",
    "    \n",
    "    La formula de Pitagoras es la primera en el orden cronológico y de ahí lo de poner el 1 como argumento\n",
    "\n",
    "\"\"\" "
   ]
  },
  {
   "cell_type": "code",
   "execution_count": 0,
   "metadata": {
    "colab": {},
    "colab_type": "code",
    "id": "paxodkmUW0m4"
   },
   "outputs": [],
   "source": [
    "# Ejercicio 2 Nivel Avanzado:\n",
    "# Ver la teoria que hay justo debajo \n",
    "\n",
    "# Las 17 formulas que cambiarion en mundo \n",
    "# https://medium.com/however-mathematics/17-equations-that-changed-the-world-a043a8c24022\n",
    "\n",
    "\"\"\" Escoger alguna de las 17 ecuaciones y crear con ella una función \"interactiva\" como la \"rtd\" de la teoría \n",
    "     abajo que nos de en su retorno todos los posibles valores de la fórmula ya calculados a partir de los\n",
    "     valores de entrada\n",
    "\"\"\""
   ]
  },
  {
   "cell_type": "markdown",
   "metadata": {
    "colab_type": "text",
    "id": "N_HhFRrTW0nD"
   },
   "source": [
    "## Usos avanzados de los diccionarios"
   ]
  },
  {
   "cell_type": "markdown",
   "metadata": {
    "colab_type": "text",
    "id": "isCHXaOFW0nF"
   },
   "source": [
    "### Diccionarios para simular la sentencia switch en Python\n",
    "\n",
    "Se pueden ver ejemplos de su uso [aquí](https://jaxenter.com/implement-switch-case-statement-python-138315.html)"
   ]
  },
  {
   "cell_type": "code",
   "execution_count": 0,
   "metadata": {
    "colab": {},
    "colab_type": "code",
    "id": "nGqx2DTNW0nH"
   },
   "outputs": [],
   "source": []
  },
  {
   "cell_type": "markdown",
   "metadata": {
    "colab_type": "text",
    "id": "x9elwJBIW0nR"
   },
   "source": [
    "### Usando los diccionarios como valores de entrada y de salida de una función\n",
    "\n",
    "We'll build a single function that can solve a Rate-Time-Distance (RTD) calculation by\n",
    "embodying all three solutions given any two known values. With minor variable name\n",
    "changes, this applies to a surprising number of real-world problems.\n",
    "\n",
    "Solve the equation for each of the unknowns. We've shown that previously for d = r * t, the\n",
    "RTD calculation:\n",
    "\n",
    "* distance = rate * time\n",
    "* rate = distance / time\n",
    "* time = distance / rate\n"
   ]
  },
  {
   "cell_type": "code",
   "execution_count": 0,
   "metadata": {
    "colab": {},
    "colab_type": "code",
    "id": "7foPwWuGW0nS"
   },
   "outputs": [],
   "source": [
    "import warnings"
   ]
  },
  {
   "cell_type": "code",
   "execution_count": 0,
   "metadata": {
    "colab": {},
    "colab_type": "code",
    "id": "fMVok-q5W0na",
    "outputId": "95e2c0eb-580d-40f4-885c-8ba2b9cc3dc2"
   },
   "outputs": [
    {
     "data": {
      "text/plain": [
       "{'distance': 30, 'rate': 5, 'time': 6.0}"
      ]
     },
     "execution_count": 5,
     "metadata": {
      "tags": []
     },
     "output_type": "execute_result"
    }
   ],
   "source": [
    "def rtd(distance=None, rate=None, time= None):\n",
    "    \"\"\" A function that solves a Rate-Time-Distance (RTD) calculation\"\"\"\n",
    "    \n",
    "    if distance is None:\n",
    "        distance = rate * time\n",
    "    elif rate is None:\n",
    "        rate = distance / time\n",
    "    elif time is None:\n",
    "        time = distance / rate\n",
    "    else:\n",
    "        warnings.warning(\"Nothing to solve for\")\n",
    "    \n",
    "    return dict(distance=distance, rate=rate, time=time)\n",
    "\n",
    "rtd(distance= 30, rate=5)\n",
    "        "
   ]
  },
  {
   "cell_type": "code",
   "execution_count": 0,
   "metadata": {
    "colab": {},
    "colab_type": "code",
    "id": "KXCHrhzqW0nl",
    "outputId": "ee1c371e-9a7a-4c3d-b807-2970fab67fcd"
   },
   "outputs": [
    {
     "name": "stdout",
     "output_type": "stream",
     "text": [
      "At 5kt, it takes 8.0hrs to cover 40nm\n"
     ]
    }
   ],
   "source": [
    "# For nicely formatted output, we might do this:\n",
    "\n",
    "result = rtd(distance=40, rate=5)\n",
    "\n",
    "print(\"At {rate}kt, it takes\"\n",
    "     \" {time}hrs to cover {distance}nm\".format_map(result))"
   ]
  },
  {
   "cell_type": "markdown",
   "metadata": {
    "colab_type": "text",
    "id": "kTHBP_dZW0ns"
   },
   "source": [
    "Because we've provided default values for all of the parameters, we can provide argument\n",
    "values for two of the three parameters, and the function can then solve for the third\n",
    "parameter. **This saves us from having to write three separate functions.**\n",
    "\n",
    "Returning a dictionary as the final result isn't essential to this. It's simply handy. **It allows us\n",
    "to have a uniform result no matter which parameter values were provided.**"
   ]
  },
  {
   "cell_type": "markdown",
   "metadata": {
    "colab_type": "text",
    "id": "Qit8ves3W0nu"
   },
   "source": [
    "We have an alternative formulation for this, one that involves more flexibility. Python\n",
    "functions have an all other keywords parameter, prefixed with ** . It is often shown like this:\n",
    "\n",
    "    ```python\n",
    "        def rtd2(distance, rate, time, **keywords):\n",
    "            print(keywords)\n",
    "    ```\n",
    "Any additional keyword arguments are collected into a dictionary that is provided to the\n",
    "`**keywords` parameter. We can then call this function with extra parameters. Evaluate this\n",
    "function like this:\n",
    "\n",
    "    ```python\n",
    "        rtd2(rate=6, time=6.75, something_else=60)\n",
    "    ```\n",
    "    \n",
    "We'll then see that the value of the keywords parameter is a dictionary object with the\n",
    "value of `{'something_else': 60}` . \n",
    "\n",
    "We can then use ordinary dictionary processing\n",
    "techniques on this structure. The keys and values in this dictionary are the names and\n",
    "values provided when the function was evaluated."
   ]
  },
  {
   "cell_type": "code",
   "execution_count": 0,
   "metadata": {
    "colab": {},
    "colab_type": "code",
    "id": "w4nZ_L7FW0nv",
    "outputId": "c53c254a-af36-4ec5-c006-317235ef7c6c"
   },
   "outputs": [
    {
     "data": {
      "text/plain": [
       "{'distance': 30, 'rate': 5, 'time': 6.0}"
      ]
     },
     "execution_count": 15,
     "metadata": {
      "tags": []
     },
     "output_type": "execute_result"
    }
   ],
   "source": [
    "def rtd2(**keywords):\n",
    "    \"\"\" A function that solves a Rate-Time-Distance (RTD) calculation\"\"\"\n",
    "    rate= keywords.get('rate', None)\n",
    "    time= keywords.get('time', None)\n",
    "    distance= keywords.get('distance', None)\n",
    "    \n",
    "    if distance is None:\n",
    "        distance = rate * time\n",
    "    elif rate is None:\n",
    "        rate = distance / time\n",
    "    elif time is None:\n",
    "        time = distance / rate\n",
    "    else:\n",
    "        warnings.warning(\"Nothing to solve for\")\n",
    "    \n",
    "    return dict(distance=distance, rate=rate, time=time)\n",
    "\n",
    "rtd2(distance= 30, rate=5)\n",
    "    "
   ]
  },
  {
   "cell_type": "code",
   "execution_count": 0,
   "metadata": {
    "colab": {},
    "colab_type": "code",
    "id": "mEfty7nkW0n3"
   },
   "outputs": [],
   "source": []
  },
  {
   "cell_type": "code",
   "execution_count": 0,
   "metadata": {
    "colab": {},
    "colab_type": "code",
    "id": "5w0-FuIzW0n-"
   },
   "outputs": [],
   "source": []
  },
  {
   "cell_type": "code",
   "execution_count": 0,
   "metadata": {
    "colab": {},
    "colab_type": "code",
    "id": "_U_DMV38W0oE"
   },
   "outputs": [],
   "source": []
  },
  {
   "cell_type": "code",
   "execution_count": 0,
   "metadata": {
    "colab": {},
    "colab_type": "code",
    "id": "hvZ9VaUSW0oK"
   },
   "outputs": [],
   "source": []
  },
  {
   "cell_type": "code",
   "execution_count": 0,
   "metadata": {
    "colab": {},
    "colab_type": "code",
    "id": "K-ZHcY43W0oQ"
   },
   "outputs": [],
   "source": []
  },
  {
   "cell_type": "code",
   "execution_count": 0,
   "metadata": {
    "colab": {},
    "colab_type": "code",
    "id": "-_5KGrRiW0oW"
   },
   "outputs": [],
   "source": []
  },
  {
   "cell_type": "code",
   "execution_count": 0,
   "metadata": {
    "colab": {},
    "colab_type": "code",
    "id": "F0EOBnARW0of"
   },
   "outputs": [],
   "source": []
  },
  {
   "cell_type": "code",
   "execution_count": 0,
   "metadata": {
    "colab": {},
    "colab_type": "code",
    "id": "h1oeM3IaW0ok"
   },
   "outputs": [],
   "source": []
  },
  {
   "cell_type": "code",
   "execution_count": 0,
   "metadata": {
    "colab": {},
    "colab_type": "code",
    "id": "RPLvMB97W0ou"
   },
   "outputs": [],
   "source": []
  },
  {
   "cell_type": "code",
   "execution_count": 0,
   "metadata": {
    "colab": {},
    "colab_type": "code",
    "id": "-4kdoi7NW0oz"
   },
   "outputs": [],
   "source": []
  },
  {
   "cell_type": "code",
   "execution_count": 0,
   "metadata": {
    "colab": {},
    "colab_type": "code",
    "id": "IGZf-gUNW0o5"
   },
   "outputs": [],
   "source": []
  }
 ],
 "metadata": {
  "colab": {
   "name": "Copia de Teoria Semana 5.ipynb",
   "provenance": []
  },
  "kernelspec": {
   "display_name": "Python 3",
   "language": "python",
   "name": "python3"
  },
  "language_info": {
   "codemirror_mode": {
    "name": "ipython",
    "version": 3
   },
   "file_extension": ".py",
   "mimetype": "text/x-python",
   "name": "python",
   "nbconvert_exporter": "python",
   "pygments_lexer": "ipython3",
   "version": "3.6.9"
  }
 },
 "nbformat": 4,
 "nbformat_minor": 1
}
