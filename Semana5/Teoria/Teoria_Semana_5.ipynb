{
 "cells": [
  {
   "cell_type": "markdown",
   "metadata": {
    "colab_type": "text",
    "id": "wWVXFQojW0mT"
   },
   "source": [
    "# Diccionarios y Conjuntos"
   ]
  },
  {
   "cell_type": "markdown",
   "metadata": {
    "colab_type": "text",
    "id": "54cWFCb4W0mW"
   },
   "source": [
    "## Tutorial y ejercicios sobre Diccionarios\n",
    "\n",
    "Ver [este](https://recursospython.com/guias-y-manuales/diccionarios/) tutorial sobre los diccionarios en Python\n",
    "y utilizar las herramientas aprendidas para tratar de hacer los 5 primeros ejercicios de esta [web](https://pynative.com/python-dictionary-exercise-with-solutions/)"
   ]
  },
  {
   "cell_type": "markdown",
   "metadata": {
    "colab": {},
    "colab_type": "code",
    "id": "JAIgbqsIYB9U"
   },
   "source": [
    "Un diccionario es una colección de pares etiqueta/valor, separados por el signo \"**:**\". También se usa la palabra clave o llave para referirse a la etiqueta.\n",
    "\n",
    "Se usan las llaves, expresados de la siguiente forma (usaremos el que parece ser el ejemplo por excelencia de los diccionarios: los lenguajes de programación y su fecha de creación)"
   ]
  },
  {
   "cell_type": "code",
   "execution_count": 57,
   "metadata": {
    "colab": {
     "base_uri": "https://localhost:8080/",
     "height": 36
    },
    "colab_type": "code",
    "id": "rVdO_DTTYmK5",
    "outputId": "dea89a0c-563b-4587-f377-88d270625e50"
   },
   "outputs": [
    {
     "name": "stdout",
     "output_type": "stream",
     "text": [
      "{'C': 1972, 'python': 1991, 'Java': 1996}\n"
     ]
    }
   ],
   "source": [
    "lenguajes = { 'C':1972, 'python':1991, 'Java':1996}\n",
    "print(lenguajes)"
   ]
  },
  {
   "cell_type": "markdown",
   "metadata": {},
   "source": [
    "Para crear un diccionario vacío usando las llaves"
   ]
  },
  {
   "cell_type": "code",
   "execution_count": null,
   "metadata": {},
   "outputs": [],
   "source": [
    "programas = {}"
   ]
  },
  {
   "cell_type": "markdown",
   "metadata": {},
   "source": [
    "Para saber el número de elementos usaremos la función **len**, igual que para otras colecciones:"
   ]
  },
  {
   "cell_type": "code",
   "execution_count": 51,
   "metadata": {},
   "outputs": [
    {
     "data": {
      "text/plain": [
       "3"
      ]
     },
     "execution_count": 51,
     "metadata": {},
     "output_type": "execute_result"
    }
   ],
   "source": [
    "len(lenguajes)"
   ]
  },
  {
   "cell_type": "markdown",
   "metadata": {
    "colab_type": "text",
    "id": "IkF7ZMrzY5YS"
   },
   "source": [
    "Podemos preguntar por una llave"
   ]
  },
  {
   "cell_type": "code",
   "execution_count": 47,
   "metadata": {
    "colab_type": "text",
    "id": "IkF7ZMrzY5YS"
   },
   "outputs": [
    {
     "name": "stdout",
     "output_type": "stream",
     "text": [
      "1972\n"
     ]
    }
   ],
   "source": [
    "print(lenguajes['C'])"
   ]
  },
  {
   "cell_type": "markdown",
   "metadata": {},
   "source": [
    "Si el elemento no existe se produce una excepción de tipo **KeyError**"
   ]
  },
  {
   "cell_type": "code",
   "execution_count": 48,
   "metadata": {
    "colab": {},
    "colab_type": "code",
    "id": "SXd1rnNrZBJq"
   },
   "outputs": [
    {
     "ename": "KeyError",
     "evalue": "'C++'",
     "output_type": "error",
     "traceback": [
      "\u001b[0;31m---------------------------------------------------------------------------\u001b[0m",
      "\u001b[0;31mKeyError\u001b[0m                                  Traceback (most recent call last)",
      "\u001b[0;32m<ipython-input-48-e32c1c55a3d0>\u001b[0m in \u001b[0;36m<module>\u001b[0;34m\u001b[0m\n\u001b[0;32m----> 1\u001b[0;31m \u001b[0mprint\u001b[0m\u001b[0;34m(\u001b[0m\u001b[0mlenguajes\u001b[0m\u001b[0;34m[\u001b[0m\u001b[0;34m'C++'\u001b[0m\u001b[0;34m]\u001b[0m\u001b[0;34m)\u001b[0m\u001b[0;34m\u001b[0m\u001b[0;34m\u001b[0m\u001b[0m\n\u001b[0m",
      "\u001b[0;31mKeyError\u001b[0m: 'C++'"
     ]
    }
   ],
   "source": [
    "print(lenguajes['C++'])"
   ]
  },
  {
   "cell_type": "markdown",
   "metadata": {},
   "source": [
    "Podemos evitar el error usando **get('clave')** que devolverá **None** si la clave no está en el diccionario"
   ]
  },
  {
   "cell_type": "code",
   "execution_count": null,
   "metadata": {
    "scrolled": true
   },
   "outputs": [],
   "source": [
    "print(lenguajes.get('C++'))"
   ]
  },
  {
   "cell_type": "markdown",
   "metadata": {},
   "source": [
    "Podemos pasarle al método **get** un argumento que se devolverá como valor por defecto si la clave no existe "
   ]
  },
  {
   "cell_type": "code",
   "execution_count": null,
   "metadata": {},
   "outputs": [],
   "source": [
    "print(lenguajes.get('C++','Año desconocido'))"
   ]
  },
  {
   "cell_type": "markdown",
   "metadata": {},
   "source": [
    "Si queremos obtener un elemento y a la vez retirarlo del diccionario usaremos la función **pop**. También podemos proporcionar un valor por defecto por si la clave no está en el diccionario, igual que con **get**"
   ]
  },
  {
   "cell_type": "code",
   "execution_count": null,
   "metadata": {},
   "outputs": [],
   "source": [
    "len(lenguajes)\n",
    "print(lenguajes.pop('C'))\n",
    "len(lenguajes)"
   ]
  },
  {
   "cell_type": "markdown",
   "metadata": {},
   "source": [
    "Otra forma de ver si una clave está en el diccionarios es usando **in**"
   ]
  },
  {
   "cell_type": "code",
   "execution_count": 53,
   "metadata": {},
   "outputs": [
    {
     "data": {
      "text/plain": [
       "False"
      ]
     },
     "execution_count": 53,
     "metadata": {},
     "output_type": "execute_result"
    }
   ],
   "source": [
    "'BASIC' in lenguajes"
   ]
  },
  {
   "cell_type": "markdown",
   "metadata": {},
   "source": [
    "Asignando un nuevo elemento se incluirá en el diccionario"
   ]
  },
  {
   "cell_type": "code",
   "execution_count": null,
   "metadata": {},
   "outputs": [],
   "source": [
    "lenguajes['C++'] = 1983"
   ]
  },
  {
   "cell_type": "markdown",
   "metadata": {},
   "source": [
    "Podemos borrar un elemento usando **del**"
   ]
  },
  {
   "cell_type": "code",
   "execution_count": null,
   "metadata": {},
   "outputs": [],
   "source": [
    "del lenguajes['Java']"
   ]
  },
  {
   "cell_type": "markdown",
   "metadata": {},
   "source": [
    "Para eliminar todos los elementos de un diccionario usaremos la función **clear**"
   ]
  },
  {
   "cell_type": "code",
   "execution_count": 54,
   "metadata": {},
   "outputs": [
    {
     "data": {
      "text/plain": [
       "0"
      ]
     },
     "execution_count": 54,
     "metadata": {},
     "output_type": "execute_result"
    }
   ],
   "source": [
    "lenguajes.clear()\n",
    "len(lenguajes)"
   ]
  },
  {
   "cell_type": "markdown",
   "metadata": {},
   "source": [
    "Podemos crear diccionarios con esta otra sintaxis:"
   ]
  },
  {
   "cell_type": "code",
   "execution_count": null,
   "metadata": {},
   "outputs": [],
   "source": [
    "lenguajes = dict(C=1972, Java=1996, Python=1991)"
   ]
  },
  {
   "cell_type": "markdown",
   "metadata": {},
   "source": [
    "O a partir de listas"
   ]
  },
  {
   "cell_type": "code",
   "execution_count": 61,
   "metadata": {},
   "outputs": [
    {
     "name": "stdout",
     "output_type": "stream",
     "text": [
      "{'Assembler': 0, 'Lisp': 0, 'Pascal': 0}\n"
     ]
    }
   ],
   "source": [
    "oldLanguajes = ['Assembler','Lisp','Pascal']\n",
    "lenguajesAntiguos = dict.fromkeys(oldLanguajes,0)\n",
    "print(lenguajesAntiguos)"
   ]
  },
  {
   "cell_type": "markdown",
   "metadata": {},
   "source": [
    "## Iterando un diccionario"
   ]
  },
  {
   "cell_type": "markdown",
   "metadata": {},
   "source": [
    "Podemos iterar un diccionario usando las claves"
   ]
  },
  {
   "cell_type": "code",
   "execution_count": 44,
   "metadata": {},
   "outputs": [
    {
     "name": "stdout",
     "output_type": "stream",
     "text": [
      "C\n",
      "python\n",
      "C++\n"
     ]
    }
   ],
   "source": [
    "for clave in lenguajes:\n",
    "    print(clave)"
   ]
  },
  {
   "cell_type": "markdown",
   "metadata": {},
   "source": [
    "También podemos iterar por los valores  usando la función **values** (Cuidado con olvidar los paréntesis de values, que es una función)"
   ]
  },
  {
   "cell_type": "code",
   "execution_count": 55,
   "metadata": {},
   "outputs": [],
   "source": [
    "for clave in lenguajes.values():\n",
    "    print(valor)"
   ]
  },
  {
   "cell_type": "markdown",
   "metadata": {},
   "source": [
    "Incluso podemos iterar por ambos a la vez usando la función **items** (Cuidado con olvidar los paréntesis de items, que es una función)"
   ]
  },
  {
   "cell_type": "code",
   "execution_count": 50,
   "metadata": {
    "scrolled": true
   },
   "outputs": [
    {
     "name": "stdout",
     "output_type": "stream",
     "text": [
      "C  - >  1972\n",
      "python  - >  1991\n",
      "Java  - >  1996\n"
     ]
    }
   ],
   "source": [
    "for clave,valor in lenguajes.items():\n",
    "    print(clave,' - > ',valor)"
   ]
  },
  {
   "cell_type": "markdown",
   "metadata": {},
   "source": [
    "## Operaciones entre diccionarios"
   ]
  },
  {
   "cell_type": "markdown",
   "metadata": {},
   "source": [
    "Podemos añadir los elementos de un diccionario a otro diccionario usando la función **update** del primero:"
   ]
  },
  {
   "cell_type": "code",
   "execution_count": 58,
   "metadata": {},
   "outputs": [
    {
     "data": {
      "text/plain": [
       "3"
      ]
     },
     "execution_count": 58,
     "metadata": {},
     "output_type": "execute_result"
    }
   ],
   "source": [
    "lenguajesModernos = {}\n",
    "lenguajesModernos.update(lenguajes)\n",
    "len(lenguajesModernos)"
   ]
  },
  {
   "cell_type": "markdown",
   "metadata": {},
   "source": [
    "#  Ejercicios\n",
    "Ejercicios de [esta web](https://pynative.com/python-dictionary-exercise-with-solutions/)"
   ]
  },
  {
   "cell_type": "markdown",
   "metadata": {},
   "source": [
    "## dictionary exercise 1: Below are the two lists convert it into the dictionary"
   ]
  },
  {
   "cell_type": "code",
   "execution_count": null,
   "metadata": {},
   "outputs": [],
   "source": [
    "# Ejercio 1\n",
    "\n",
    "keys = ['Ten', 'Twenty', 'Thirty']\n",
    "values = [10, 20, 30]\n",
    "\n",
    "diccionario = {}\n",
    "for contador in range(0, len(keys)):\n",
    "    diccionario[keys[contador]] = values[contador]\n",
    "\n",
    "print(diccionario)"
   ]
  },
  {
   "cell_type": "code",
   "execution_count": null,
   "metadata": {},
   "outputs": [],
   "source": [
    "# Ejercicio 1 otra forma\n",
    "\n",
    "keys = ['Ten', 'Twenty', 'Thirty']\n",
    "values = [10, 20, 30]\n",
    "\n",
    "diccionario = {}\n",
    "contador = 0\n",
    "for key in keys:\n",
    "    diccionario[key] = values[contador]\n",
    "    contador += 1\n",
    "    \n",
    "print(diccionario)"
   ]
  },
  {
   "cell_type": "code",
   "execution_count": null,
   "metadata": {},
   "outputs": [],
   "source": [
    "keys = ['Ten', 'Twenty', 'Thirty']\n",
    "values = [10, 20, 30]\n",
    "\n",
    "sampleDict = dict(zip(keys, values)) # Buscar ZIP!!!\n",
    "print(sampleDict)"
   ]
  },
  {
   "cell_type": "markdown",
   "metadata": {},
   "source": [
    "### dictionary exercise 2: Merge following two Python dictionaries into one"
   ]
  },
  {
   "cell_type": "code",
   "execution_count": 2,
   "metadata": {},
   "outputs": [
    {
     "name": "stdout",
     "output_type": "stream",
     "text": [
      "{'Ten': 10, 'Twenty': 20, 'Thirty': 30, 'Fourty': 40, 'Fifty': 50}\n"
     ]
    }
   ],
   "source": [
    "dict1 = {'Ten': 10, 'Twenty': 20, 'Thirty': 30}\n",
    "dict2 = {'Thirty': 30, 'Fourty': 40, 'Fifty': 50}\n",
    "\n",
    "dict3 = dict1.copy()  # Creamos un nuevo diccionario\n",
    "dict3.update(dict2)\n",
    "print(dict1)"
   ]
  },
  {
   "cell_type": "markdown",
   "metadata": {},
   "source": [
    "### dictionary exercise 3: Access the value of key ‘history’"
   ]
  },
  {
   "cell_type": "code",
   "execution_count": 7,
   "metadata": {},
   "outputs": [
    {
     "data": {
      "text/plain": [
       "80"
      ]
     },
     "execution_count": 7,
     "metadata": {},
     "output_type": "execute_result"
    }
   ],
   "source": [
    "sampleDict = { \n",
    "   \"class\":{ \n",
    "      \"student\":{ \n",
    "         \"name\":\"Mike\",\n",
    "         \"marks\":{ \n",
    "            \"physics\":70,\n",
    "            \"history\":80\n",
    "         }\n",
    "      }\n",
    "   }\n",
    "}\n",
    "\n",
    "sampleDict[\"class\"]['student']['marks']['history']"
   ]
  },
  {
   "cell_type": "markdown",
   "metadata": {},
   "source": [
    "### dictionary exercise 4: Initialize dictionary with default values"
   ]
  },
  {
   "cell_type": "code",
   "execution_count": 10,
   "metadata": {},
   "outputs": [
    {
     "ename": "KeyError",
     "evalue": "'Kelly'",
     "output_type": "error",
     "traceback": [
      "\u001b[0;31m---------------------------------------------------------------------------\u001b[0m",
      "\u001b[0;31mKeyError\u001b[0m                                  Traceback (most recent call last)",
      "\u001b[0;32m<ipython-input-10-8be43b29618b>\u001b[0m in \u001b[0;36m<module>\u001b[0;34m\u001b[0m\n\u001b[1;32m      6\u001b[0m \u001b[0;32mfor\u001b[0m \u001b[0memployee\u001b[0m \u001b[0;32min\u001b[0m \u001b[0memployees\u001b[0m\u001b[0;34m:\u001b[0m\u001b[0;34m\u001b[0m\u001b[0;34m\u001b[0m\u001b[0m\n\u001b[1;32m      7\u001b[0m     \u001b[0;32mfor\u001b[0m \u001b[0mdefault\u001b[0m\u001b[0;34m,\u001b[0m\u001b[0mvalue\u001b[0m \u001b[0;32min\u001b[0m \u001b[0mdefaults\u001b[0m\u001b[0;34m.\u001b[0m\u001b[0mitems\u001b[0m\u001b[0;34m(\u001b[0m\u001b[0;34m)\u001b[0m\u001b[0;34m:\u001b[0m\u001b[0;34m\u001b[0m\u001b[0;34m\u001b[0m\u001b[0m\n\u001b[0;32m----> 8\u001b[0;31m         \u001b[0mcompany\u001b[0m\u001b[0;34m[\u001b[0m\u001b[0memployee\u001b[0m\u001b[0;34m]\u001b[0m\u001b[0;34m[\u001b[0m\u001b[0mdefault\u001b[0m\u001b[0;34m]\u001b[0m \u001b[0;34m=\u001b[0m \u001b[0mvalue\u001b[0m\u001b[0;34m\u001b[0m\u001b[0;34m\u001b[0m\u001b[0m\n\u001b[0m",
      "\u001b[0;31mKeyError\u001b[0m: 'Kelly'"
     ]
    }
   ],
   "source": [
    "employees = ['Kelly', 'Emma', 'John']\n",
    "defaults = {\"designation\": 'Application Developer', \"salary\": 8000}\n",
    "\n",
    "company = {}\n",
    "\n",
    "for employee in employees:\n",
    "    for default,value in defaults.items():\n",
    "        company[employee][default] = value"
   ]
  },
  {
   "cell_type": "markdown",
   "metadata": {},
   "source": [
    "### dictionary exercise 5: Create a new dictionary by extracting the following keys from a given dictionary"
   ]
  },
  {
   "cell_type": "code",
   "execution_count": 62,
   "metadata": {},
   "outputs": [
    {
     "name": "stdout",
     "output_type": "stream",
     "text": [
      "{'name': 'Kelly', 'salary': 8000}\n"
     ]
    }
   ],
   "source": [
    "sampleDict = {\n",
    "  \"name\": \"Kelly\",\n",
    "  \"age\":25,\n",
    "  \"salary\": 8000,\n",
    "  \"city\": \"New york\"\n",
    "  \n",
    "}\n",
    "# Keys to extract\n",
    "\n",
    "keys = [\"name\", \"salary\"]\n",
    "\n",
    "importantElements = {}\n",
    "\n",
    "for key in keys:\n",
    "    importantElements[key] = sampleDict[key]\n",
    "\n",
    "    \n",
    "print(importantElements)"
   ]
  },
  {
   "cell_type": "code",
   "execution_count": 64,
   "metadata": {},
   "outputs": [
    {
     "name": "stdout",
     "output_type": "stream",
     "text": [
      "{'name': 'Kelly', 'salary': 8000}\n"
     ]
    }
   ],
   "source": [
    "# Pro way\n",
    "\n",
    "importantElements = {k: sampleDict[k] for k in keys}\n",
    "\n",
    "print(importantElements)"
   ]
  },
  {
   "cell_type": "markdown",
   "metadata": {},
   "source": [
    "### dictionary exercise 6: Delete set of keys from Python Dictionary"
   ]
  },
  {
   "cell_type": "code",
   "execution_count": 66,
   "metadata": {},
   "outputs": [
    {
     "name": "stdout",
     "output_type": "stream",
     "text": [
      "{'age': 25, 'city': 'New york'}\n"
     ]
    }
   ],
   "source": [
    "sampleDict = {\n",
    "  \"name\": \"Kelly\",\n",
    "  \"age\":25,\n",
    "  \"salary\": 8000,\n",
    "  \"city\": \"New york\"\n",
    "  \n",
    "}\n",
    "\n",
    "keysToRemove = [\"name\", \"salary\"]\n",
    "\n",
    "rests = {}\n",
    "\n",
    "for key in sampleDict:\n",
    "    if key not in keysToRemove:\n",
    "        rests[key] = sampleDict[key]\n",
    "\n",
    "print(rests)"
   ]
  },
  {
   "cell_type": "code",
   "execution_count": 69,
   "metadata": {},
   "outputs": [
    {
     "name": "stdout",
     "output_type": "stream",
     "text": [
      "{'city': 'New york', 'age': 25}\n"
     ]
    }
   ],
   "source": [
    "# Pro way\n",
    "\n",
    "sampleDict = {\n",
    "  \"name\": \"Kelly\",\n",
    "  \"age\":25,\n",
    "  \"salary\": 8000,\n",
    "  \"city\": \"New york\"\n",
    "  \n",
    "}\n",
    "\n",
    "keysToRemove = [\"name\", \"salary\"]\n",
    "\n",
    "rests = {k: sampleDict[k] for k in sampleDict.keys() - keysToRemove}\n",
    "\n",
    "print(rests)"
   ]
  },
  {
   "cell_type": "markdown",
   "metadata": {
    "colab_type": "text",
    "id": "_V3eneZ9W0mY"
   },
   "source": [
    " ## Tutorial y ejercicios sobre Conjuntos\n",
    " \n",
    " Ver [este](https://recursospython.com/guias-y-manuales/conjuntos-sets/) tutorial sobre los conjuntos en Python\n",
    " y utilizar las herramientas aprendidas para tratar de hacer los 5 primeros ejercicios de esta [web](https://pynative.com/python-set-exercise-with-solutions/)"
   ]
  },
  {
   "cell_type": "markdown",
   "metadata": {},
   "source": [
    "La diferencia entre conjunto y lista es que en los conjuntos no se repiten elementos"
   ]
  },
  {
   "cell_type": "code",
   "execution_count": 23,
   "metadata": {},
   "outputs": [],
   "source": [
    "s1 = {1,5,7,'a'}\n",
    "\n",
    "s2 = set()\n",
    "\n",
    "s4 = set(range(10))\n"
   ]
  },
  {
   "cell_type": "markdown",
   "metadata": {},
   "source": [
    "Podemos añadir elementos con **add**"
   ]
  },
  {
   "cell_type": "code",
   "execution_count": 11,
   "metadata": {},
   "outputs": [
    {
     "name": "stdout",
     "output_type": "stream",
     "text": [
      "{1, 2, 4}\n",
      "{1, 2, 4, 5}\n",
      "{1, 2, 4, 5}\n"
     ]
    }
   ],
   "source": [
    "s = {1, 2, 4}\n",
    "print(s)\n",
    "s.add(5)\n",
    "print(s)\n",
    "s.add(5)\n",
    "print(s)"
   ]
  },
  {
   "cell_type": "markdown",
   "metadata": {},
   "source": [
    " Son muy 'utiles para hacer operaciones logicas"
   ]
  },
  {
   "cell_type": "code",
   "execution_count": 12,
   "metadata": {},
   "outputs": [
    {
     "data": {
      "text/plain": [
       "{1, 2, 3, 4, 5, 6}"
      ]
     },
     "execution_count": 12,
     "metadata": {},
     "output_type": "execute_result"
    }
   ],
   "source": [
    "a = {1, 2, 3, 4}\n",
    "b = {3, 4, 5, 6}\n",
    "a | b"
   ]
  },
  {
   "cell_type": "markdown",
   "metadata": {},
   "source": [
    "# Exercise Question 1: Add a list of elements to a given set"
   ]
  },
  {
   "cell_type": "code",
   "execution_count": 13,
   "metadata": {},
   "outputs": [
    {
     "name": "stdout",
     "output_type": "stream",
     "text": [
      "{'Orange', 'Red', 'Black', 'Green', 'Blue', 'Yellow'}\n"
     ]
    }
   ],
   "source": [
    "sampleSet = {\"Yellow\", \"Orange\", \"Black\"}\n",
    "sampleListtoAdd = [\"Blue\", \"Green\", \"Red\"]\n",
    "\n",
    "for item in sampleListtoAdd:\n",
    "    sampleSet.add(item)\n",
    "    \n",
    "print (sampleSet)"
   ]
  },
  {
   "cell_type": "code",
   "execution_count": 21,
   "metadata": {},
   "outputs": [
    {
     "name": "stdout",
     "output_type": "stream",
     "text": [
      "{'Orange', 'Red', 'Black', 'Green', 'Blue', 'Yellow'}\n"
     ]
    }
   ],
   "source": [
    "# Pro version\n",
    "sampleSet = {\"Yellow\", \"Orange\", \"Black\"}\n",
    "sampleListtoAdd = [\"Blue\", \"Green\", \"Red\"]\n",
    "\n",
    "sampleSet.update(sampleListtoAdd)\n",
    "print (sampleSet)"
   ]
  },
  {
   "cell_type": "markdown",
   "metadata": {},
   "source": [
    "# Exercise Question 2: Return a set of identical items from a given two Python set"
   ]
  },
  {
   "cell_type": "code",
   "execution_count": 16,
   "metadata": {},
   "outputs": [
    {
     "name": "stdout",
     "output_type": "stream",
     "text": [
      "{40, 50, 30}\n"
     ]
    }
   ],
   "source": [
    "set1 = {10, 20, 30, 40, 50}\n",
    "set2 = {30, 40, 50, 60, 70}\n",
    "\n",
    "common = set1 & set2\n",
    "print(common)"
   ]
  },
  {
   "cell_type": "code",
   "execution_count": 22,
   "metadata": {},
   "outputs": [
    {
     "name": "stdout",
     "output_type": "stream",
     "text": [
      "{40, 50, 30}\n"
     ]
    }
   ],
   "source": [
    "# Pro version\n",
    "\n",
    "set1 = {10, 20, 30, 40, 50}\n",
    "set2 = {30, 40, 50, 60, 70}\n",
    "\n",
    "common = set1.intersection(set2)\n",
    "print(common)"
   ]
  },
  {
   "cell_type": "markdown",
   "metadata": {},
   "source": [
    "# Exercise Question 3: Returns a new set with all items from both sets by removing duplicates"
   ]
  },
  {
   "cell_type": "code",
   "execution_count": 19,
   "metadata": {},
   "outputs": [
    {
     "name": "stdout",
     "output_type": "stream",
     "text": [
      "{70, 40, 10, 50, 20, 60, 30}\n"
     ]
    }
   ],
   "source": [
    "set1 = {10, 20, 30, 40, 50}\n",
    "set2 = {30, 40, 50, 60, 70}\n",
    "\n",
    "all = set1 | set2\n",
    "print(all)"
   ]
  },
  {
   "cell_type": "code",
   "execution_count": 19,
   "metadata": {},
   "outputs": [
    {
     "name": "stdout",
     "output_type": "stream",
     "text": [
      "{70, 40, 10, 50, 20, 60, 30}\n"
     ]
    }
   ],
   "source": [
    "# Pro version\n",
    "set1 = {10, 20, 30, 40, 50}\n",
    "set2 = {30, 40, 50, 60, 70}\n",
    "\n",
    "all = set1.union(set2)\n",
    "print(all)"
   ]
  },
  {
   "cell_type": "markdown",
   "metadata": {},
   "source": [
    "# Exercise Question 4: Given two Python sets, update first set with items that exist only in the first set and not in the second set."
   ]
  },
  {
   "cell_type": "code",
   "execution_count": null,
   "metadata": {},
   "outputs": [],
   "source": [
    "set1 = {10, 20, 30}\n",
    "set2 = {20, 40, 50}"
   ]
  },
  {
   "cell_type": "markdown",
   "metadata": {
    "colab_type": "text",
    "id": "ZyWhg5f4W0mZ"
   },
   "source": [
    "## Tareas de la semana"
   ]
  },
  {
   "cell_type": "code",
   "execution_count": 0,
   "metadata": {
    "colab": {},
    "colab_type": "code",
    "id": "BryyMJ6BW0mb"
   },
   "outputs": [],
   "source": [
    "# Ejercicios Nivel Básico:\n",
    "# De las webs de ejercicios anteriores hacer los restantes ejercicios de cada web"
   ]
  },
  {
   "cell_type": "code",
   "execution_count": 0,
   "metadata": {
    "colab": {},
    "colab_type": "code",
    "id": "N5mrY8LdW0mk"
   },
   "outputs": [],
   "source": [
    "# Ejercicio Nivel Intermedio: \n",
    "# Contador de la Frencuencia de las palabras en un texto (version1)\n",
    "# Hacer una función a la que le demos un texto y devuelva un diccionario con las frecuencias de aparicion \n",
    "# de las palabras en el texto con la forma {\"palabra\": numAparicionesDeLaPalabra}"
   ]
  },
  {
   "cell_type": "code",
   "execution_count": 0,
   "metadata": {
    "colab": {},
    "colab_type": "code",
    "id": "RGdWPw3zW0mr"
   },
   "outputs": [],
   "source": [
    "# Ejercicio Nivel Intermedio: \n",
    "# Contador de la Frencuencia de las palabras en un texto (version2)\n",
    "# Mejorar la versión 1 del programa utilizando conjuntos"
   ]
  },
  {
   "cell_type": "code",
   "execution_count": 0,
   "metadata": {
    "colab": {},
    "colab_type": "code",
    "id": "EfAsq5U3W0mx"
   },
   "outputs": [],
   "source": [
    "# Ejercicio 1 Nivel Avanzado:\n",
    "# Ver la teoria que hay justo debajo \n",
    "\n",
    "# Las 17 formulas que cambiarion en mundo \n",
    "# https://medium.com/however-mathematics/17-equations-that-changed-the-world-a043a8c24022\n",
    "\n",
    "\"\"\" Hacer una funcion que me devuelva , por orden cronologico, alguna de las ecuaciones que cambiaron el mundo , \n",
    "    en particular la funcion tiene que retornar una imagen que represente a la ecuación.\n",
    "    \n",
    "    >>> ecuacionesQueCambiaronElMundo(1)\n",
    "    \"https://miprofe.com/wp-content/uploads/2015/12/Teorema-de-pitagoras-1280x720.png\"\n",
    "    \n",
    "    La formula de Pitagoras es la primera en el orden cronológico y de ahí lo de poner el 1 como argumento\n",
    "\n",
    "\"\"\" "
   ]
  },
  {
   "cell_type": "code",
   "execution_count": 0,
   "metadata": {
    "colab": {},
    "colab_type": "code",
    "id": "paxodkmUW0m4"
   },
   "outputs": [],
   "source": [
    "# Ejercicio 2 Nivel Avanzado:\n",
    "# Ver la teoria que hay justo debajo \n",
    "\n",
    "# Las 17 formulas que cambiarion en mundo \n",
    "# https://medium.com/however-mathematics/17-equations-that-changed-the-world-a043a8c24022\n",
    "\n",
    "\"\"\" Escoger alguna de las 17 ecuaciones y crear con ella una función \"interactiva\" como la \"rtd\" de la teoría \n",
    "     abajo que nos de en su retorno todos los posibles valores de la fórmula ya calculados a partir de los\n",
    "     valores de entrada\n",
    "\"\"\""
   ]
  },
  {
   "cell_type": "markdown",
   "metadata": {
    "colab_type": "text",
    "id": "N_HhFRrTW0nD"
   },
   "source": [
    "## Usos avanzados de los diccionarios"
   ]
  },
  {
   "cell_type": "markdown",
   "metadata": {
    "colab_type": "text",
    "id": "isCHXaOFW0nF"
   },
   "source": [
    "### Diccionarios para simular la sentencia switch en Python\n",
    "\n",
    "Se pueden ver ejemplos de su uso [aquí](https://jaxenter.com/implement-switch-case-statement-python-138315.html)"
   ]
  },
  {
   "cell_type": "code",
   "execution_count": 0,
   "metadata": {
    "colab": {},
    "colab_type": "code",
    "id": "nGqx2DTNW0nH"
   },
   "outputs": [],
   "source": []
  },
  {
   "cell_type": "markdown",
   "metadata": {
    "colab_type": "text",
    "id": "x9elwJBIW0nR"
   },
   "source": [
    "### Usando los diccionarios como valores de entrada y de salida de una función\n",
    "\n",
    "We'll build a single function that can solve a Rate-Time-Distance (RTD) calculation by\n",
    "embodying all three solutions given any two known values. With minor variable name\n",
    "changes, this applies to a surprising number of real-world problems.\n",
    "\n",
    "Solve the equation for each of the unknowns. We've shown that previously for d = r * t, the\n",
    "RTD calculation:\n",
    "\n",
    "* distance = rate * time\n",
    "* rate = distance / time\n",
    "* time = distance / rate\n"
   ]
  },
  {
   "cell_type": "code",
   "execution_count": 0,
   "metadata": {
    "colab": {},
    "colab_type": "code",
    "id": "7foPwWuGW0nS"
   },
   "outputs": [],
   "source": [
    "import warnings"
   ]
  },
  {
   "cell_type": "code",
   "execution_count": 0,
   "metadata": {
    "colab": {},
    "colab_type": "code",
    "id": "fMVok-q5W0na",
    "outputId": "95e2c0eb-580d-40f4-885c-8ba2b9cc3dc2"
   },
   "outputs": [
    {
     "data": {
      "text/plain": [
       "{'distance': 30, 'rate': 5, 'time': 6.0}"
      ]
     },
     "execution_count": 5,
     "metadata": {
      "tags": []
     },
     "output_type": "execute_result"
    }
   ],
   "source": [
    "def rtd(distance=None, rate=None, time= None):\n",
    "    \"\"\" A function that solves a Rate-Time-Distance (RTD) calculation\"\"\"\n",
    "    \n",
    "    if distance is None:\n",
    "        distance = rate * time\n",
    "    elif rate is None:\n",
    "        rate = distance / time\n",
    "    elif time is None:\n",
    "        time = distance / rate\n",
    "    else:\n",
    "        warnings.warning(\"Nothing to solve for\")\n",
    "    \n",
    "    return dict(distance=distance, rate=rate, time=time)\n",
    "\n",
    "rtd(distance= 30, rate=5)\n",
    "        "
   ]
  },
  {
   "cell_type": "code",
   "execution_count": 0,
   "metadata": {
    "colab": {},
    "colab_type": "code",
    "id": "KXCHrhzqW0nl",
    "outputId": "ee1c371e-9a7a-4c3d-b807-2970fab67fcd"
   },
   "outputs": [
    {
     "name": "stdout",
     "output_type": "stream",
     "text": [
      "At 5kt, it takes 8.0hrs to cover 40nm\n"
     ]
    }
   ],
   "source": [
    "# For nicely formatted output, we might do this:\n",
    "\n",
    "result = rtd(distance=40, rate=5)\n",
    "\n",
    "print(\"At {rate}kt, it takes\"\n",
    "     \" {time}hrs to cover {distance}nm\".format_map(result))"
   ]
  },
  {
   "cell_type": "markdown",
   "metadata": {
    "colab_type": "text",
    "id": "kTHBP_dZW0ns"
   },
   "source": [
    "Because we've provided default values for all of the parameters, we can provide argument\n",
    "values for two of the three parameters, and the function can then solve for the third\n",
    "parameter. **This saves us from having to write three separate functions.**\n",
    "\n",
    "Returning a dictionary as the final result isn't essential to this. It's simply handy. **It allows us\n",
    "to have a uniform result no matter which parameter values were provided.**"
   ]
  },
  {
   "cell_type": "markdown",
   "metadata": {
    "colab_type": "text",
    "id": "Qit8ves3W0nu"
   },
   "source": [
    "We have an alternative formulation for this, one that involves more flexibility. Python\n",
    "functions have an all other keywords parameter, prefixed with ** . It is often shown like this:\n",
    "\n",
    "    ```python\n",
    "        def rtd2(distance, rate, time, **keywords):\n",
    "            print(keywords)\n",
    "    ```\n",
    "Any additional keyword arguments are collected into a dictionary that is provided to the\n",
    "`**keywords` parameter. We can then call this function with extra parameters. Evaluate this\n",
    "function like this:\n",
    "\n",
    "    ```python\n",
    "        rtd2(rate=6, time=6.75, something_else=60)\n",
    "    ```\n",
    "    \n",
    "We'll then see that the value of the keywords parameter is a dictionary object with the\n",
    "value of `{'something_else': 60}` . \n",
    "\n",
    "We can then use ordinary dictionary processing\n",
    "techniques on this structure. The keys and values in this dictionary are the names and\n",
    "values provided when the function was evaluated."
   ]
  },
  {
   "cell_type": "code",
   "execution_count": 0,
   "metadata": {
    "colab": {},
    "colab_type": "code",
    "id": "w4nZ_L7FW0nv",
    "outputId": "c53c254a-af36-4ec5-c006-317235ef7c6c"
   },
   "outputs": [
    {
     "data": {
      "text/plain": [
       "{'distance': 30, 'rate': 5, 'time': 6.0}"
      ]
     },
     "execution_count": 15,
     "metadata": {
      "tags": []
     },
     "output_type": "execute_result"
    }
   ],
   "source": [
    "def rtd2(**keywords):\n",
    "    \"\"\" A function that solves a Rate-Time-Distance (RTD) calculation\"\"\"\n",
    "    rate= keywords.get('rate', None)\n",
    "    time= keywords.get('time', None)\n",
    "    distance= keywords.get('distance', None)\n",
    "    \n",
    "    if distance is None:\n",
    "        distance = rate * time\n",
    "    elif rate is None:\n",
    "        rate = distance / time\n",
    "    elif time is None:\n",
    "        time = distance / rate\n",
    "    else:\n",
    "        warnings.warning(\"Nothing to solve for\")\n",
    "    \n",
    "    return dict(distance=distance, rate=rate, time=time)\n",
    "\n",
    "rtd2(distance= 30, rate=5)\n",
    "    "
   ]
  },
  {
   "cell_type": "code",
   "execution_count": 0,
   "metadata": {
    "colab": {},
    "colab_type": "code",
    "id": "mEfty7nkW0n3"
   },
   "outputs": [],
   "source": []
  },
  {
   "cell_type": "code",
   "execution_count": 0,
   "metadata": {
    "colab": {},
    "colab_type": "code",
    "id": "5w0-FuIzW0n-"
   },
   "outputs": [],
   "source": []
  },
  {
   "cell_type": "code",
   "execution_count": 0,
   "metadata": {
    "colab": {},
    "colab_type": "code",
    "id": "_U_DMV38W0oE"
   },
   "outputs": [],
   "source": []
  },
  {
   "cell_type": "code",
   "execution_count": 0,
   "metadata": {
    "colab": {},
    "colab_type": "code",
    "id": "hvZ9VaUSW0oK"
   },
   "outputs": [],
   "source": []
  },
  {
   "cell_type": "code",
   "execution_count": 0,
   "metadata": {
    "colab": {},
    "colab_type": "code",
    "id": "K-ZHcY43W0oQ"
   },
   "outputs": [],
   "source": []
  },
  {
   "cell_type": "code",
   "execution_count": 0,
   "metadata": {
    "colab": {},
    "colab_type": "code",
    "id": "-_5KGrRiW0oW"
   },
   "outputs": [],
   "source": []
  },
  {
   "cell_type": "code",
   "execution_count": 0,
   "metadata": {
    "colab": {},
    "colab_type": "code",
    "id": "F0EOBnARW0of"
   },
   "outputs": [],
   "source": []
  },
  {
   "cell_type": "code",
   "execution_count": 0,
   "metadata": {
    "colab": {},
    "colab_type": "code",
    "id": "h1oeM3IaW0ok"
   },
   "outputs": [],
   "source": []
  },
  {
   "cell_type": "code",
   "execution_count": 0,
   "metadata": {
    "colab": {},
    "colab_type": "code",
    "id": "RPLvMB97W0ou"
   },
   "outputs": [],
   "source": []
  },
  {
   "cell_type": "code",
   "execution_count": 0,
   "metadata": {
    "colab": {},
    "colab_type": "code",
    "id": "-4kdoi7NW0oz"
   },
   "outputs": [],
   "source": []
  },
  {
   "cell_type": "code",
   "execution_count": 0,
   "metadata": {
    "colab": {},
    "colab_type": "code",
    "id": "IGZf-gUNW0o5"
   },
   "outputs": [],
   "source": []
  }
 ],
 "metadata": {
  "colab": {
   "name": "Copia de Teoria Semana 5.ipynb",
   "provenance": []
  },
  "kernelspec": {
   "display_name": "Python 3",
   "language": "python",
   "name": "python3"
  },
  "language_info": {
   "codemirror_mode": {
    "name": "ipython",
    "version": 3
   },
   "file_extension": ".py",
   "mimetype": "text/x-python",
   "name": "python",
   "nbconvert_exporter": "python",
   "pygments_lexer": "ipython3",
   "version": "3.6.9"
  }
 },
 "nbformat": 4,
 "nbformat_minor": 1
}
