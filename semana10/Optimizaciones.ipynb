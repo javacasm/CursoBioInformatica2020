{
 "cells": [
  {
   "cell_type": "code",
   "execution_count": 2,
   "metadata": {},
   "outputs": [],
   "source": [
    "def countWordFreq(texto, longitudFragmento):\n",
    "    \"\"\"\n",
    "    Crea un recuento de ocurrencias de todos los fragmentos de una longitud dada en texto\n",
    "    Versión optimizada\n",
    "    :param texto: texto a analizar\n",
    "    :longitudFragmento: longitud de los fragmentos a buscar\n",
    "    :returns: diccionario con el número de ocurrencias de una fragmento dado\n",
    "    \"\"\"    \n",
    "    lastToCheck = len(texto) - longitudFragmento + 1\n",
    "\n",
    "    posToCheck = range (0, lastToCheck )\n",
    "\n",
    "    freqWord = dict()\n",
    "    for i in posToCheck:\n",
    "        word = texto[i : i + longitudFragmento]\n",
    "        if not word in freqWord:  # En caso contrario ya se ha analizado ese fragmento\n",
    "            for j in posToCheck:\n",
    "                if word == texto[j : j + longitudFragmento]:\n",
    "                    if word in freqWord:\n",
    "                        freqWord[word] += 1\n",
    "                    else:\n",
    "                        freqWord[word] = 1\n",
    "    return freqWord"
   ]
  },
  {
   "cell_type": "code",
   "execution_count": 3,
   "metadata": {},
   "outputs": [],
   "source": [
    "def countWordFreq1Update(texto, longitudFragmento):\n",
    "    \"\"\"\n",
    "    Crea un recuento de ocurrencias de todos los fragmentos de una longitud dada en texto\n",
    "    Versión optimizada\n",
    "    :param texto: texto a analizar\n",
    "    :longitudFragmento: longitud de los fragmentos a buscar\n",
    "    :returns: diccionario con el número de ocurrencias de una fragmento dado\n",
    "    \"\"\"    \n",
    "    lastToCheck = len(texto) - longitudFragmento + 1\n",
    "\n",
    "    posToCheck = range (0, lastToCheck )\n",
    "\n",
    "    freqWord = dict()\n",
    "    for i in posToCheck:\n",
    "        word = texto[i : i + longitudFragmento]\n",
    "        if not word in freqWord:  # En caso contrario ya se ha analizado ese fragmento\n",
    "            newRange = range(i, lastToCheck) # Sólo revisamos desde donde estamos hasta el final\n",
    "            bEncontrada = False\n",
    "            for j in newRange:\n",
    "                if word == texto[j : j + longitudFragmento]:\n",
    "                    if bEncontrada:\n",
    "                        freqWord[word] += 1\n",
    "                    else:\n",
    "                        freqWord[word] = 1\n",
    "                        bEncontrada = True\n",
    "    return freqWord"
   ]
  },
  {
   "cell_type": "code",
   "execution_count": 4,
   "metadata": {},
   "outputs": [],
   "source": [
    "def countWordFreq1Round(texto, longitudFragmento):\n",
    "    \"\"\"\n",
    "    Crea un recuento de ocurrencias de todos los fragmentos de una longitud dada en un texto\n",
    "    Versión optimizada\n",
    "    :param texto: texto a analizar\n",
    "    :longitudFragmento: longitud de los fragmentos a buscar\n",
    "    :returns: diccionario con el número de ocurrencias de cada fragmento de una longitud dada \n",
    "    \"\"\"    \n",
    "    lastToCheck = len(texto) - longitudFragmento + 1\n",
    "\n",
    "    posToCheck = range (0, lastToCheck )\n",
    "\n",
    "    freqWord = dict()\n",
    "    for i in posToCheck:\n",
    "        word = texto[i : i + longitudFragmento]\n",
    "        if not word in freqWord:  \n",
    "            freqWord[word] = 1\n",
    "        else:\n",
    "            freqWord[word] += 1\n",
    "    return freqWord"
   ]
  },
  {
   "cell_type": "code",
   "execution_count": 5,
   "metadata": {},
   "outputs": [],
   "source": [
    "def getMostFreqFromOrderedDict(diccionario):\n",
    "    \"\"\"\n",
    "    Devuelve todos los elementos de un diccionario que tienen el valor máximo de value\n",
    "    :param diccionario: diccionario con pares key,value\n",
    "    :returns: diccionario con los elementos de valor máximo\n",
    "    \"\"\"\n",
    "    \n",
    "    listaOrdenada = sorted(diccionario, key = diccionario.get, reverse = True) # ordenamos el diccionario\n",
    "    # print(listaOrdenada)\n",
    "    maxValue = diccionario[listaOrdenada[0]] # el valor del primer elemento de la lista\n",
    "    # print(maxValue)\n",
    "    # recorremos el diccionario y añadimos los que tengan esa frecuencia\n",
    "    maxFreqWords = dict()\n",
    "    for word in listaOrdenada:\n",
    "        if diccionario[word] == maxValue:\n",
    "            maxFreqWords[word] = maxValue\n",
    "        else : # como está ordenada, cuando uno no lo cumpla hemos terminado\n",
    "            break;\n",
    "    return maxFreqWords"
   ]
  },
  {
   "cell_type": "code",
   "execution_count": 6,
   "metadata": {},
   "outputs": [],
   "source": [
    "# by JMEsteban\n",
    "def genoma_aleatorio(n):\n",
    "    import random\n",
    "    letras=['A','G','T','C']\n",
    "    genoma = ''\n",
    "    for i in range(n):\n",
    "        genoma=genoma+letras[random.randint(0,3)]\n",
    "    return genoma"
   ]
  },
  {
   "cell_type": "code",
   "execution_count": 9,
   "metadata": {},
   "outputs": [],
   "source": [
    "resultados = []"
   ]
  },
  {
   "cell_type": "code",
   "execution_count": 17,
   "metadata": {},
   "outputs": [
    {
     "name": "stdout",
     "output_type": "stream",
     "text": [
      "[3, 5000, 2, [0.08813738822937012, 0.04933524131774902, 0.0016982555389404297]]\n",
      "[4, 5000, 4, [0.18961858749389648, 0.19977688789367676, 0.0015130043029785156]]\n",
      "[5, 5000, 1, [0.6736340522766113, 0.7283165454864502, 0.0016644001007080078]]\n",
      "[6, 5000, 5, [1.4100327491760254, 1.405165433883667, 0.001920461654663086]]\n",
      "[7, 5000, 4, [1.8446252346038818, 1.8169350624084473, 0.0018761157989501953]]\n",
      "[8, 5000, 5, [1.9017698764801025, 1.9089610576629639, 0.0017931461334228516]]\n",
      "[9, 5000, 1, [1.9705398082733154, 1.9266629219055176, 0.0017428398132324219]]\n",
      "[10, 5000, 6, [1.9159767627716064, 1.9199512004852295, 0.0017774105072021484]]\n",
      "[11, 5000, 1, [1.9127047061920166, 1.9057867527008057, 0.0019805431365966797]]\n",
      "[12, 5000, 4989, [1.9333679676055908, 1.8965768814086914, 0.002336263656616211]]\n",
      "[13, 5000, 4988, [1.9544646739959717, 1.9026010036468506, 0.002229452133178711]]\n",
      "[14, 5000, 4987, [1.9092185497283936, 1.9045660495758057, 0.002335786819458008]]\n"
     ]
    }
   ],
   "source": [
    "import time\n",
    "\n",
    "genomaSize = 10000\n",
    "genoma = genoma_aleatorio(genomaSize)\n",
    "\n",
    "for k in range(3,15):\n",
    "    tiempo1 = time.time()\n",
    "    freqWord1 = countWordFreq(genoma,k)\n",
    "    maxFreqWord1 = getMostFreqFromOrderedDict(freqWord1)\n",
    "    len1 = len(maxFreqWord1)\n",
    "    tiempo2 = time.time()\n",
    "    d1 = (tiempo2-tiempo1)\n",
    "\n",
    "    tiempo1 = time.time()\n",
    "    freqWord2 = countWordFreq1Update(genoma,k)\n",
    "    maxFreqWord2 = getMostFreqFromOrderedDict(freqWord2)\n",
    "    len2 = len(maxFreqWord2)\n",
    "    tiempo2 = time.time()\n",
    "    d2 = (tiempo2-tiempo1)\n",
    "\n",
    "\n",
    "    tiempo1 = time.time()\n",
    "    freqWord3 = countWordFreq1Round(genoma,k)\n",
    "    maxFreqWord3 = getMostFreqFromOrderedDict(freqWord3)\n",
    "    len3 = len(maxFreqWord3)\n",
    "    tiempo2 = time.time()\n",
    "    d3 = (tiempo2-tiempo1) \n",
    "   \n",
    "\n",
    "    if len1 == len2 and len2 == len3:\n",
    "        data = [k,genomaSize,len1,[d1,d2,d3]] \n",
    "        resultados.append(data)\n",
    "        print(data)\n",
    "    else:\n",
    "        print('ERORORORORORORORRRR!!!!')\n",
    "        print('{} {} {}'.format(len1,len2,len3) )\n"
   ]
  }
 ],
 "metadata": {
  "kernelspec": {
   "display_name": "Python 3",
   "language": "python",
   "name": "python3"
  },
  "language_info": {
   "codemirror_mode": {
    "name": "ipython",
    "version": 3
   },
   "file_extension": ".py",
   "mimetype": "text/x-python",
   "name": "python",
   "nbconvert_exporter": "python",
   "pygments_lexer": "ipython3",
   "version": "3.6.9"
  }
 },
 "nbformat": 4,
 "nbformat_minor": 4
}
