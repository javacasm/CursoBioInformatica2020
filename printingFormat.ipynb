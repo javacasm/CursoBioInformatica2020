{
 "cells": [
  {
   "cell_type": "markdown",
   "metadata": {},
   "source": [
    "## print using format\n",
    "\n",
    "documentación en https://pyformat.info/"
   ]
  },
  {
   "cell_type": "code",
   "execution_count": 2,
   "metadata": {},
   "outputs": [
    {
     "name": "stdout",
     "output_type": "stream",
     "text": [
      " hola print\n",
      " print hola\n"
     ]
    }
   ],
   "source": [
    "print(' {} {}'.format('hola','print'))\n",
    "print(' {1} {0}'.format('hola','print'))"
   ]
  },
  {
   "cell_type": "markdown",
   "metadata": {},
   "source": [
    "respetando las tabulaciones"
   ]
  },
  {
   "cell_type": "code",
   "execution_count": 9,
   "metadata": {
    "scrolled": true
   },
   "outputs": [
    {
     "name": "stdout",
     "output_type": "stream",
     "text": [
      "  5\n",
      "  6\n",
      "  7\n",
      "  8\n",
      "  9\n",
      " 10\n"
     ]
    }
   ],
   "source": [
    "respetando las tabulacionesfor i in range(5,11):\n",
    "    print(' {:2d}'.format(i))"
   ]
  },
  {
   "cell_type": "markdown",
   "metadata": {},
   "source": [
    "Completando con 0"
   ]
  },
  {
   "cell_type": "code",
   "execution_count": 18,
   "metadata": {},
   "outputs": [
    {
     "name": "stdout",
     "output_type": "stream",
     "text": [
      "0007\n",
      "0008\n",
      "0009\n",
      "0010\n",
      "0011\n"
     ]
    }
   ],
   "source": [
    "for i in range(7,12):\n",
    "    print('{:04d}'.format(i))"
   ]
  },
  {
   "cell_type": "markdown",
   "metadata": {},
   "source": [
    "Para normalizar los decimales\n",
    "\n",
    "el primer numero indica el número total de cifras, el segundo las que serán decimales"
   ]
  },
  {
   "cell_type": "code",
   "execution_count": 22,
   "metadata": {},
   "outputs": [
    {
     "name": "stdout",
     "output_type": "stream",
     "text": [
      "1232.231\n",
      "   0.123\n",
      "   3.123\n"
     ]
    }
   ],
   "source": [
    "for valor in {3.123123,1232.2312123,0.12312}:\n",
    "    print('{:8.3f}'.format(valor))"
   ]
  },
  {
   "cell_type": "markdown",
   "metadata": {},
   "source": [
    "También con cadenas"
   ]
  },
  {
   "cell_type": "code",
   "execution_count": 12,
   "metadata": {
    "scrolled": true
   },
   "outputs": [
    {
     "name": "stdout",
     "output_type": "stream",
     "text": [
      " saludo\n",
      "     es\n",
      "   hola\n"
     ]
    }
   ],
   "source": [
    "# Alineando a la \n",
    "for palabra in {'hola', 'es', 'saludo'}:\n",
    "    print('{:>7}'.format(palabra))"
   ]
  },
  {
   "cell_type": "code",
   "execution_count": 13,
   "metadata": {
    "scrolled": true
   },
   "outputs": [
    {
     "name": "stdout",
     "output_type": "stream",
     "text": [
      "saludo \n",
      "es     \n",
      "hola   \n"
     ]
    }
   ],
   "source": [
    "# Alineando a la izquierda\n",
    "for palabra in {'hola', 'es', 'saludo'}:\n",
    "    print('{:7}'.format(palabra))"
   ]
  },
  {
   "cell_type": "code",
   "execution_count": 15,
   "metadata": {
    "scrolled": true
   },
   "outputs": [
    {
     "name": "stdout",
     "output_type": "stream",
     "text": [
      "saludo \n",
      "  es   \n",
      " hola  \n"
     ]
    }
   ],
   "source": [
    "# Centrado\n",
    "for palabra in {'hola', 'es', 'saludo'}:\n",
    "    print('{:^7}'.format(palabra))"
   ]
  },
  {
   "cell_type": "markdown",
   "metadata": {},
   "source": [
    "si los datos provienen de un diccionario podemos usar las claves para indicar los que queremos mostrar"
   ]
  },
  {
   "cell_type": "code",
   "execution_count": 29,
   "metadata": {},
   "outputs": [
    {
     "name": "stdout",
     "output_type": "stream",
     "text": [
      "pepe: 40\n"
     ]
    }
   ],
   "source": [
    "ficha = {'nombre':'pepe','edad':40,'sueldo':1000.0}\n",
    "print('{nombre}: {edad}'.format(**ficha))"
   ]
  }
 ],
 "metadata": {
  "kernelspec": {
   "display_name": "Python 3",
   "language": "python",
   "name": "python3"
  },
  "language_info": {
   "codemirror_mode": {
    "name": "ipython",
    "version": 3
   },
   "file_extension": ".py",
   "mimetype": "text/x-python",
   "name": "python",
   "nbconvert_exporter": "python",
   "pygments_lexer": "ipython3",
   "version": "3.6.9"
  }
 },
 "nbformat": 4,
 "nbformat_minor": 4
}
