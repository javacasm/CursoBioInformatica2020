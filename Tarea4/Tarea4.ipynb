{
 "cells": [
  {
   "cell_type": "markdown",
   "metadata": {},
   "source": [
    "# Tarea 4: strings\n",
    "\n",
    " License CC by SA\n",
    " by @javacasm\n",
    "\n",
    " 16/4/2020\n",
    "\n"
   ]
  },
  {
   "cell_type": "code",
   "execution_count": null,
   "metadata": {},
   "outputs": [],
   "source": [
    "\"\"\"\n",
    "Ejercicio de la clase de teoría de Cadenas\n",
    "Eliminar todo lo anterior a ':' \n",
    "y luego sustituir los signos de puntación por '_'\n",
    "\n",
    "\"\"\"\n",
    "cadena = \"Recipe 5: Rewriting, and the Immutable String\"\n",
    "\n",
    "## método 1 Split para cortar y replace para sustituir\n",
    "\n",
    "partesCadena = cadena.split(':')\n",
    "cadena2 = partesCadena[1]\n",
    "cadena3 = cadena2.replace(',','_')\n",
    "cadena4 = cadena3.replace(' ','_')\n",
    "print('método 1: '+cadena4)\n",
    "\n",
    "## método 2 caracter a caracter\n",
    "bAntesDe2Puntos = True\n",
    "cadenafinal = ''\n",
    "for char in cadena:\n",
    "    if bAntesDe2Puntos == False:\n",
    "        if char == ' ' or char == '':\n",
    "            cadenafinal += '_'\n",
    "        else:\n",
    "            cadenafinal += char\n",
    "\n",
    "    if char == ':' :\n",
    "        bAntesDe2Puntos = False\n",
    "    \n",
    "print('método 2: '+cadenafinal)\n",
    "\n",
    "## método 3\n",
    "\n",
    "cadena2 = cadena.replace('Recipe 5:','')\n",
    "cadena3 = cadena2.replace(',','_')\n",
    "cadena4 = cadena3.replace(' ','_')\n",
    "\n",
    "print('método 3: '+cadena4)\n",
    "\n",
    "## metodo 4\n",
    "\n",
    "division = cadena.split()\n",
    "quitar = division[2:]\n",
    "\n",
    "quitar[0] = 'Rewriting'\n",
    "\n",
    "resultado = '_'.join(quitar)\n",
    "print('método 4: '+resultado)\n"
   ]
  },
  {
   "cell_type": "code",
   "execution_count": 12,
   "metadata": {},
   "outputs": [
    {
     "name": "stdout",
     "output_type": "stream",
     "text": [
      "¿Texto original? (enter para default)\n",
      "¿palabra a resaltar? (enter para default)\n"
     ]
    },
    {
     "data": {
      "text/markdown": [
       "método 1: \n",
       "            En un lugar **de** la Mancha, **de** cuyo nombre no quiero acordarme, no ha mucho tiempo que vivía un hidalgo **de** los **de** lanza en astillero, adarga antigua, rocín flaco y galgo corredor. Una olla **de** algo más vaca que carnero, salpicón las más noches, duelos y quebrantos los sábados, lentejas los viernes, algún palomino **de** añadidura los domingos, consumían las tres partes **de** su hacienda. El resto **de**lla concluían sayo **de** velarte, calzas **de** velludo para las fiestas con sus pantuflos **de** lo mismo, los días **de** entre semana se honraba con su vellori **de** lo más fino. Tenía en su casa una ama que pasaba **de** los cuarenta, y una sobrina que no llegaba a los veinte, y un mozo **de** campo y plaza, que así ensillaba el rocín como tomaba la poda**de**ra. Frisaba la edad **de** nuestro hidalgo con los cincuenta años, era **de** complexión recia, seco **de** carnes, enjuto **de** rostro; gran madrugador y amigo **de** la caza. Quieren **de**cir que tenía el sobrenombre **de** Quijada o Quesada (que en esto hay alguna diferencia en los autores que **de**ste caso escriben), aunque por conjeturas verosímiles se **de**ja enten**de**r que se llama Quijana; pero esto importa poco a nuestro cuento; basta que en la narración **de**́l no se salga un punto **de** la verdad. Es, pues, **de** saber, que este sobredicho hidalgo, los ratos que estaba ocioso (que eran los más **de**l año) se daba a leer libros **de** caballerías con tanta afición y gusto, que olvidó casi **de** todo punto el ejercicio **de** la caza, y aun la administración **de** su hacienda; y llegó a tanto su curiosidad y **de**satino en esto, que vendió muchas hanegas **de** tierra **de** sembradura, para comprar libros **de** caballerías en que leer; y así llevó a su casa todos cuantos pudo haber **de**llos; y **de** todos ningunos le parecían tan bien como los que compuso el famoso Feliciano **de** Silva: porque la claridad **de** su prosa, y aquellas intrincadas razones suyas, le parecían **de** perlas; y más cuando llegaba a leer aquellos requiebros y cartas **de** **de**safío, don**de** en muchas partes hallaba escrito: la razón **de** la sinrazón que a mi razón se hace, **de** tal manera mi razón enflaquece, que con razón me quejo **de** la vuestra fermosura, y también cuando leía: los altos cielos que **de** vuestra divinidad divinamente con las estrellas se fortifican, y os hacen merecedora **de**l merecimiento que merece la vuestra gran**de**za. Con estas y semejantes razones perdía el pobre caballero el juicio, y **de**svelábase por enten**de**rlas, y **de**sentrañarles el sentido, que no se lo sacara, ni las entendiera el mismo Aristóteles, si resucitara para sólo ello. No estaba muy bien con las heridas que don Belianis daba y recibía, porque se imaginaba que por gran**de**s maestros que le hubiesen curado, no **de**jaría **de** tener el rostro y todo el cuerpo lleno **de** cicatrices y señales; pero con todo alababa en su autor aquel acabar su libro con la promesa **de** aquella inacabable aventura, y muchas veces le vino **de**seo **de** tomar la pluma, y darle fin al pie **de** la letra como allí se promete; y sin duda alguna lo hiciera, y aun saliera con ello, si otros mayores y continuos pensamientos no se lo estorbaran.\n",
       "            Tuvo muchas veces competencia con el cura **de** su lugar (que era hombre docto graduado en Sigüenza), sobre cuál había sido mejor caballero, Palmerín **de** Inglaterra o Amadís **de** Gaula; mas maese Nicolás, barbero **de**l mismo pueblo, **de**cía que ninguno llegaba al caballero **de**l Febo, y que si alguno se le podía comparar, era don Galaor, hermano **de** Amadís **de** Gaula, porque tenía muy acomodada condición para todo; que no era caballero melindroso, ni tan llorón como su hermano, y que en lo **de** la valentía no le iba en zaga.\n",
       "            En resolución, él se enfrascó tanto en su lectura, que se le pasaban las noches leyendo **de** claro en claro, y los días **de** turbio en turbio, y así, **de**l poco dormir y **de**l mucho leer, se le secó el cerebro, **de** manera que vino a per**de**r el juicio. Llenósele la fantasía **de** todo aquello que leía en los libros, así **de** encantamientos, como **de** pen**de**ncias, batallas, **de**safíos, heridas, requiebros, amores, tormentas y disparates imposibles, y asentósele **de** tal modo en la imaginación que era verdad toda aquella máquina **de** aquellas soñadas invenciones que leía, que para él no había otra\n",
       "            historia más cierta en el mundo.\n",
       "            "
      ],
      "text/plain": [
       "<IPython.core.display.Markdown object>"
      ]
     },
     "metadata": {},
     "output_type": "display_data"
    },
    {
     "data": {
      "text/markdown": [
       "método 2: En un lugar **de** la Mancha, **de** cuyo nombre no quiero acordarme, no ha mucho tiempo que vivía un hidalgo **de** los **de** lanza en astillero, adarga antigua, rocín flaco y galgo corredor. Una olla **de** algo más vaca que carnero, salpicón las más noches, duelos y quebrantos los sábados, lentejas los viernes, algún palomino **de** añadidura los domingos, consumían las tres partes **de** su hacienda. El resto della concluían sayo **de** velarte, calzas **de** velludo para las fiestas con sus pantuflos **de** lo mismo, los días **de** entre semana se honraba con su vellori **de** lo más fino. Tenía en su casa una ama que pasaba **de** los cuarenta, y una sobrina que no llegaba a los veinte, y un mozo **de** campo y plaza, que así ensillaba el rocín como tomaba la podadera. Frisaba la edad **de** nuestro hidalgo con los cincuenta años, era **de** complexión recia, seco **de** carnes, enjuto **de** rostro; gran madrugador y amigo **de** la caza. Quieren decir que tenía el sobrenombre **de** Quijada o Quesada (que en esto hay alguna diferencia en los autores que deste caso escriben), aunque por conjeturas verosímiles se deja entender que se llama Quijana; pero esto importa poco a nuestro cuento; basta que en la narración dél no se salga un punto **de** la verdad. Es, pues, **de** saber, que este sobredicho hidalgo, los ratos que estaba ocioso (que eran los más del año) se daba a leer libros **de** caballerías con tanta afición y gusto, que olvidó casi **de** todo punto el ejercicio **de** la caza, y aun la administración **de** su hacienda; y llegó a tanto su curiosidad y desatino en esto, que vendió muchas hanegas **de** tierra **de** sembradura, para comprar libros **de** caballerías en que leer; y así llevó a su casa todos cuantos pudo haber dellos; y **de** todos ningunos le parecían tan bien como los que compuso el famoso Feliciano **de** Silva: porque la claridad **de** su prosa, y aquellas intrincadas razones suyas, le parecían **de** perlas; y más cuando llegaba a leer aquellos requiebros y cartas **de** desafío, donde en muchas partes hallaba escrito: la razón **de** la sinrazón que a mi razón se hace, **de** tal manera mi razón enflaquece, que con razón me quejo **de** la vuestra fermosura, y también cuando leía: los altos cielos que **de** vuestra divinidad divinamente con las estrellas se fortifican, y os hacen merecedora del merecimiento que merece la vuestra grandeza. Con estas y semejantes razones perdía el pobre caballero el juicio, y desvelábase por entenderlas, y desentrañarles el sentido, que no se lo sacara, ni las entendiera el mismo Aristóteles, si resucitara para sólo ello. No estaba muy bien con las heridas que don Belianis daba y recibía, porque se imaginaba que por grandes maestros que le hubiesen curado, no dejaría **de** tener el rostro y todo el cuerpo lleno **de** cicatrices y señales; pero con todo alababa en su autor aquel acabar su libro con la promesa **de** aquella inacabable aventura, y muchas veces le vino deseo **de** tomar la pluma, y darle fin al pie **de** la letra como allí se promete; y sin duda alguna lo hiciera, y aun saliera con ello, si otros mayores y continuos pensamientos no se lo estorbaran. Tuvo muchas veces competencia con el cura **de** su lugar (que era hombre docto graduado en Sigüenza), sobre cuál había sido mejor caballero, Palmerín **de** Inglaterra o Amadís **de** Gaula; mas maese Nicolás, barbero del mismo pueblo, decía que ninguno llegaba al caballero del Febo, y que si alguno se le podía comparar, era don Galaor, hermano **de** Amadís **de** Gaula, porque tenía muy acomodada condición para todo; que no era caballero melindroso, ni tan llorón como su hermano, y que en lo **de** la valentía no le iba en zaga. En resolución, él se enfrascó tanto en su lectura, que se le pasaban las noches leyendo **de** claro en claro, y los días **de** turbio en turbio, y así, del poco dormir y del mucho leer, se le secó el cerebro, **de** manera que vino a perder el juicio. Llenósele la fantasía **de** todo aquello que leía en los libros, así **de** encantamientos, como **de** pendencias, batallas, desafíos, heridas, requiebros, amores, tormentas y disparates imposibles, y asentósele **de** tal modo en la imaginación que era verdad toda aquella máquina **de** aquellas soñadas invenciones que leía, que para él no había otra historia más cierta en el mundo."
      ],
      "text/plain": [
       "<IPython.core.display.Markdown object>"
      ]
     },
     "metadata": {},
     "output_type": "display_data"
    }
   ],
   "source": [
    "\"\"\"\n",
    "Tarea 4\n",
    "\n",
    "Resaltar una palabra concreta de un texto que introduce el usuario\n",
    "\n",
    "\"\"\"\n",
    "\n",
    "from IPython.display import Markdown, display\n",
    "\n",
    "def printmd(string):\n",
    "    display(Markdown(string))\n",
    "\n",
    "texto = input('¿Texto original? (enter para default)')\n",
    "if texto == '':\n",
    "    texto = \"\"\"\n",
    "            En un lugar de la Mancha, de cuyo nombre no quiero acordarme, no ha mucho tiempo que vivía un hidalgo de los de lanza en astillero, adarga antigua, rocín flaco y galgo corredor. Una olla de algo más vaca que carnero, salpicón las más noches, duelos y quebrantos los sábados, lentejas los viernes, algún palomino de añadidura los domingos, consumían las tres partes de su hacienda. El resto della concluían sayo de velarte, calzas de velludo para las fiestas con sus pantuflos de lo mismo, los días de entre semana se honraba con su vellori de lo más fino. Tenía en su casa una ama que pasaba de los cuarenta, y una sobrina que no llegaba a los veinte, y un mozo de campo y plaza, que así ensillaba el rocín como tomaba la podadera. Frisaba la edad de nuestro hidalgo con los cincuenta años, era de complexión recia, seco de carnes, enjuto de rostro; gran madrugador y amigo de la caza. Quieren decir que tenía el sobrenombre de Quijada o Quesada (que en esto hay alguna diferencia en los autores que deste caso escriben), aunque por conjeturas verosímiles se deja entender que se llama Quijana; pero esto importa poco a nuestro cuento; basta que en la narración dél no se salga un punto de la verdad. Es, pues, de saber, que este sobredicho hidalgo, los ratos que estaba ocioso (que eran los más del año) se daba a leer libros de caballerías con tanta afición y gusto, que olvidó casi de todo punto el ejercicio de la caza, y aun la administración de su hacienda; y llegó a tanto su curiosidad y desatino en esto, que vendió muchas hanegas de tierra de sembradura, para comprar libros de caballerías en que leer; y así llevó a su casa todos cuantos pudo haber dellos; y de todos ningunos le parecían tan bien como los que compuso el famoso Feliciano de Silva: porque la claridad de su prosa, y aquellas intrincadas razones suyas, le parecían de perlas; y más cuando llegaba a leer aquellos requiebros y cartas de desafío, donde en muchas partes hallaba escrito: la razón de la sinrazón que a mi razón se hace, de tal manera mi razón enflaquece, que con razón me quejo de la vuestra fermosura, y también cuando leía: los altos cielos que de vuestra divinidad divinamente con las estrellas se fortifican, y os hacen merecedora del merecimiento que merece la vuestra grandeza. Con estas y semejantes razones perdía el pobre caballero el juicio, y desvelábase por entenderlas, y desentrañarles el sentido, que no se lo sacara, ni las entendiera el mismo Aristóteles, si resucitara para sólo ello. No estaba muy bien con las heridas que don Belianis daba y recibía, porque se imaginaba que por grandes maestros que le hubiesen curado, no dejaría de tener el rostro y todo el cuerpo lleno de cicatrices y señales; pero con todo alababa en su autor aquel acabar su libro con la promesa de aquella inacabable aventura, y muchas veces le vino deseo de tomar la pluma, y darle fin al pie de la letra como allí se promete; y sin duda alguna lo hiciera, y aun saliera con ello, si otros mayores y continuos pensamientos no se lo estorbaran.\n",
    "            Tuvo muchas veces competencia con el cura de su lugar (que era hombre docto graduado en Sigüenza), sobre cuál había sido mejor caballero, Palmerín de Inglaterra o Amadís de Gaula; mas maese Nicolás, barbero del mismo pueblo, decía que ninguno llegaba al caballero del Febo, y que si alguno se le podía comparar, era don Galaor, hermano de Amadís de Gaula, porque tenía muy acomodada condición para todo; que no era caballero melindroso, ni tan llorón como su hermano, y que en lo de la valentía no le iba en zaga.\n",
    "            En resolución, él se enfrascó tanto en su lectura, que se le pasaban las noches leyendo de claro en claro, y los días de turbio en turbio, y así, del poco dormir y del mucho leer, se le secó el cerebro, de manera que vino a perder el juicio. Llenósele la fantasía de todo aquello que leía en los libros, así de encantamientos, como de pendencias, batallas, desafíos, heridas, requiebros, amores, tormentas y disparates imposibles, y asentósele de tal modo en la imaginación que era verdad toda aquella máquina de aquellas soñadas invenciones que leía, que para él no había otra\n",
    "            historia más cierta en el mundo.\n",
    "            \"\"\" # texto de https://gist.github.com/jsdario/6d6c69398cb0c73111e49f1218960f79\n",
    "palabraResaltar = input('¿palabra a resaltar? (enter para default)')\n",
    "if palabraResaltar == '': # haciendo el vago\n",
    "        palabraResaltar = 'de'\n",
    "palabraResaltada = '**' + palabraResaltar + '**'\n",
    "\n",
    "## método 1: usando strings\n",
    "resultado = texto.replace(palabraResaltar,palabraResaltada)\n",
    "printmd('método 1: '+resultado)\n",
    "\n",
    "## método 2: usando listas\n",
    "palabras = texto.split()\n",
    "palabrasResaltadas = []\n",
    "for palabra in palabras:\n",
    "    if palabra == palabraResaltar:\n",
    "        palabrasResaltadas.append(palabraResaltada)\n",
    "    else:\n",
    "        palabrasResaltadas.append(palabra)\n",
    "resultado = ' '.join(palabrasResaltadas)\n",
    "printmd('método 2: '+resultado)"
   ]
  }
 ],
 "metadata": {
  "kernelspec": {
   "display_name": "Python 3",
   "language": "python",
   "name": "python3"
  },
  "language_info": {
   "codemirror_mode": {
    "name": "ipython",
    "version": 3
   },
   "file_extension": ".py",
   "mimetype": "text/x-python",
   "name": "python",
   "nbconvert_exporter": "python",
   "pygments_lexer": "ipython3",
   "version": "3.6.9"
  }
 },
 "nbformat": 4,
 "nbformat_minor": 4
}
