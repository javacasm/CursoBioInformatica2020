{
 "cells": [
  {
   "cell_type": "code",
   "execution_count": 2,
   "metadata": {},
   "outputs": [
    {
     "name": "stdout",
     "output_type": "stream",
     "text": [
      "¿Texto original? dabale oro el abad\n",
      "¿palabra a resaltar? abad\n",
      "dabale oro el **abad**\n"
     ]
    }
   ],
   "source": [
    "texto = input('¿Texto original? ')\n",
    "palabraResaltar = input('¿palabra a resaltar? ')\n",
    "palabraResaltada = '**' + palabraResaltar + '**'\n",
    "resultado = texto.replace(palabraResaltar,palabraResaltada)\n",
    "print(resultado)"
   ]
  }
 ],
 "metadata": {
  "kernelspec": {
   "display_name": "Python 3",
   "language": "python",
   "name": "python3"
  },
  "language_info": {
   "codemirror_mode": {
    "name": "ipython",
    "version": 3
   },
   "file_extension": ".py",
   "mimetype": "text/x-python",
   "name": "python",
   "nbconvert_exporter": "python",
   "pygments_lexer": "ipython3",
   "version": "3.6.9"
  }
 },
 "nbformat": 4,
 "nbformat_minor": 4
}
