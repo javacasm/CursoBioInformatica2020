{
 "cells": [
  {
   "cell_type": "markdown",
   "metadata": {},
   "source": [
    "# Numpy\n",
    "\n",
    "Librería para trabajar con datos numéricos, matrices, etc\n",
    "\n",
    "[Tutorial oficial](https://colab.research.google.com/github/ageron/handson-ml2/blob/master/tools_numpy.ipynb)"
   ]
  },
  {
   "cell_type": "code",
   "execution_count": 2,
   "metadata": {},
   "outputs": [],
   "source": [
    "import numpy as np"
   ]
  },
  {
   "cell_type": "code",
   "execution_count": 9,
   "metadata": {},
   "outputs": [
    {
     "name": "stdout",
     "output_type": "stream",
     "text": [
      "[-2.         -1.78947368 -1.57894737 -1.36842105 -1.15789474 -0.94736842\n",
      " -0.73684211 -0.52631579 -0.31578947 -0.10526316  0.10526316  0.31578947\n",
      "  0.52631579  0.73684211  0.94736842  1.15789474  1.36842105  1.57894737\n",
      "  1.78947368  2.        ]\n"
     ]
    }
   ],
   "source": [
    "# Valores equiespaciados, como range pero con float. \n",
    "# Incluye los dos extremos\n",
    "## ver mi implementación en \"Introducción a la no linealidad...\"\n",
    "\n",
    "x = np.linspace(-2,2,20) # 20 puntos equiespaciados entre el mínimo y el máximo y lo guarda en un array de numpy\n",
    "\n",
    "# type(x) # crea un numpy.ndarray\n",
    "print(x)"
   ]
  },
  {
   "cell_type": "code",
   "execution_count": 11,
   "metadata": {},
   "outputs": [
    {
     "name": "stdout",
     "output_type": "stream",
     "text": [
      "[0.         0.21052632 0.42105263 0.63157895 0.84210526 1.05263158\n",
      " 1.26315789 1.47368421 1.68421053 1.89473684 2.10526316 2.31578947\n",
      " 2.52631579 2.73684211 2.94736842 3.15789474 3.36842105 3.57894737\n",
      " 3.78947368 4.        ]\n",
      "[4.         3.20221607 2.49307479 1.87257618 1.34072022 0.89750693\n",
      " 0.54293629 0.27700831 0.09972299 0.01108033 0.01108033 0.09972299\n",
      " 0.27700831 0.54293629 0.89750693 1.34072022 1.87257618 2.49307479\n",
      " 3.20221607 4.        ]\n",
      "[0. 0. 0. 0. 0. 0. 0. 0. 0. 0. 0. 0. 0. 0. 0. 0. 0. 0. 0. 0.]\n",
      "[4.         3.20221607 2.49307479 1.87257618 1.34072022 0.89750693\n",
      " 0.54293629 0.27700831 0.09972299 0.01108033 0.01108033 0.09972299\n",
      " 0.27700831 0.54293629 0.89750693 1.34072022 1.87257618 2.49307479\n",
      " 3.20221607 4.        ]\n"
     ]
    }
   ],
   "source": [
    "# Podemos realizar operaciones con ellos\n",
    "\n",
    "y = x + 2\n",
    "print(y)\n",
    "\n",
    "y = x**2 \n",
    "print(y)\n",
    "\n",
    "z = x - x \n",
    "print(z)\n",
    "\n",
    "w = x * x\n",
    "print(w)"
   ]
  },
  {
   "cell_type": "code",
   "execution_count": null,
   "metadata": {},
   "outputs": [],
   "source": [
    "# Uso de matrices\n",
    "## Ver ejemplo en pyGame of Life"
   ]
  }
 ],
 "metadata": {
  "kernelspec": {
   "display_name": "Python 3",
   "language": "python",
   "name": "python3"
  },
  "language_info": {
   "codemirror_mode": {
    "name": "ipython",
    "version": 3
   },
   "file_extension": ".py",
   "mimetype": "text/x-python",
   "name": "python",
   "nbconvert_exporter": "python",
   "pygments_lexer": "ipython3",
   "version": "3.6.9"
  }
 },
 "nbformat": 4,
 "nbformat_minor": 4
}
