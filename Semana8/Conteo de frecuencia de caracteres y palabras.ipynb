{
 "cells": [
  {
   "cell_type": "markdown",
   "metadata": {},
   "source": [
    "# Conteo de frecuencias"
   ]
  },
  {
   "cell_type": "code",
   "execution_count": 7,
   "metadata": {},
   "outputs": [],
   "source": [
    "# conteo de frecuencia de caracteres\n",
    "fichero = 'escarabajoOro.txt'\n",
    "with  open(fichero,'r') as f:\n",
    "    text = f.read()\n"
   ]
  },
  {
   "cell_type": "code",
   "execution_count": 8,
   "metadata": {},
   "outputs": [
    {
     "name": "stdout",
     "output_type": "stream",
     "text": [
      "53‡‡†305))6·;4826)4‡.)4‡);806·;48†8^60))85;161;:‡·8†83(88)5·†;46(;88·96·?;8)·‡(;485);5·†2:·‡(;4956·2(5·—4)8^8·;4069285);)6†8)4‡‡;1(‡9;48081;8:8‡1;48†85;4)485†528806·81(‡9;48;(88;4(‡?34;48)4‡;1‡(;:188;‡?;\n",
      "\n"
     ]
    }
   ],
   "source": [
    "print(text)"
   ]
  },
  {
   "cell_type": "code",
   "execution_count": 2,
   "metadata": {},
   "outputs": [],
   "source": [
    "def getOrderedDict(diccionario, minValue = 0):\n",
    "    \"\"\"\n",
    "    Genera y devuelve un diccionario ordenado por el valor (no por la clave) \n",
    "        \n",
    "    :param diccionario: diccionario a ordendar\n",
    "    :param minValue : solo incluya las claves con valores superiores a este valor, por defecto es 0\n",
    "    :returns:  diccionario ordenado\n",
    "    \"\"\"\n",
    "    freqOrdered = sorted(diccionario, key = diccionario.get, reverse = True)\n",
    "    newDict = dict()\n",
    "    for key in freqOrdered:\n",
    "        if diccionario[key] > minValue:\n",
    "            newDict[key] = diccionario[key]\n",
    "    return newDict"
   ]
  },
  {
   "cell_type": "code",
   "execution_count": 3,
   "metadata": {},
   "outputs": [],
   "source": [
    "def printOrderedDict(diccionario, minValue = 0):\n",
    "    \"\"\"\n",
    "    Imprime un diccionario ordenándolo por valor\n",
    "    :param diccionario: diccionario a ordendar\n",
    "    :param minValue : solo incluya las claves con valores superiores a este valor, por defecto es 0\n",
    "    \"\"\"\n",
    "    orderedDict = getOrderedDict(diccionario, minValue = minValue)\n",
    "    for key in orderedDict:\n",
    "        print(' {}:{:3f}'.format(key,diccionario[key]))\n"
   ]
  },
  {
   "cell_type": "code",
   "execution_count": 4,
   "metadata": {},
   "outputs": [],
   "source": [
    "def countChars(texto):\n",
    "    \"\"\"\n",
    "    Determina del número de ocurrencias de los caracteres de un texto, no cuenta los saltos de línea\n",
    "    :param texto: texto a analizar\n",
    "    :returns: devuelve un diccionario con el número de ocurrencias de cada caracter\n",
    "    \"\"\"\n",
    "    freq = dict()\n",
    "    for c in texto:\n",
    "        if c == '\\n': # Nos saltamos los retornos de carro\n",
    "            continue\n",
    "        if c in freq:\n",
    "            freq[c] += 1\n",
    "        else:\n",
    "            freq[c] = 1\n",
    "    # print(freq)\n",
    "    return freq"
   ]
  },
  {
   "cell_type": "code",
   "execution_count": 5,
   "metadata": {},
   "outputs": [],
   "source": [
    "def freqChars(texto):\n",
    "    \"\"\"\n",
    "    Contamos los caracteres de un texto, calculamos la frecuencia y comprobamos que están normalizadas\n",
    "    normalizamos y comprobamos la normalización   \n",
    "    :param texto: texto a analizar\n",
    "    :returns: devuelve un diccionario con el frecuencia de ocurrencias de cada caracter\n",
    "    \"\"\"\n",
    "\n",
    "    numeroCaracteres = len(texto)\n",
    "    suma = 0\n",
    "\n",
    "    freq = countChars(texto)\n",
    "\n",
    "    for key in freq:\n",
    "        freq[key] *= 100/numeroCaracteres\n",
    "        suma += freq[key]\n",
    "    errorSuma = abs(suma-100)\n",
    "    if errorSuma > 2:\n",
    "        print(\"Error de normalización suma = \",str(suma/100))\n",
    "\n",
    "    return freq"
   ]
  },
  {
   "cell_type": "code",
   "execution_count": 9,
   "metadata": {},
   "outputs": [
    {
     "name": "stdout",
     "output_type": "stream",
     "text": [
      " 8:16.176471\n",
      " ;:12.745098\n",
      " 4:9.313725\n",
      " ‡:7.843137\n",
      " ):7.843137\n",
      " ·:6.372549\n",
      " 5:5.882353\n",
      " 6:5.392157\n",
      " (:4.901961\n",
      " †:3.921569\n",
      " 1:3.921569\n",
      " 0:2.941176\n",
      " 2:2.450980\n",
      " 9:2.450980\n",
      " 3:1.960784\n",
      " ::1.960784\n",
      " ?:1.470588\n",
      " ^:0.980392\n",
      " .:0.490196\n",
      " —:0.490196\n"
     ]
    }
   ],
   "source": [
    "freq = freqChars(text)\n",
    "printOrderedDict(freq)"
   ]
  },
  {
   "cell_type": "markdown",
   "metadata": {},
   "source": [
    "Letter Frecuencies https://en.wikipedia.org/wiki/Letter_frequency\n",
    "\n",
    "|Letra|Inglés|Español|\n",
    "|---|---|---|\n",
    "|e|12,702|12,181|\n",
    "|t|9,056|4,632|\n",
    "|a|8,167|11,525|\n",
    "|o|7,507|8,683|\n",
    "|i|6,966|6,247|\n",
    "|n|6,749|6,712|\n",
    "|s|6,327|7,977|\n",
    "|h|6,094|0,703|\n",
    "\n",
    "\n",
    "\n"
   ]
  },
  {
   "cell_type": "code",
   "execution_count": 10,
   "metadata": {},
   "outputs": [],
   "source": [
    "def showTraduct(texto,traducciones):\n",
    "    \"\"\"\n",
    "    Aplica a un texto un conjunto de traducciones\n",
    "    :param texto: texto a traducir\n",
    "    :param traducciones: diccionario con pares caracter,traducción\n",
    "    :returns: texto traducido\n",
    "    \"\"\"\n",
    "    mensajeTraducido = ''\n",
    "\n",
    "    for c in texto:\n",
    "        if c in traducciones:\n",
    "            mensajeTraducido += traducciones[c]\n",
    "        else:\n",
    "            mensajeTraducido += c\n",
    "    return mensajeTraducido"
   ]
  },
  {
   "cell_type": "code",
   "execution_count": 11,
   "metadata": {},
   "outputs": [
    {
     "name": "stdout",
     "output_type": "stream",
     "text": [
      "s3oo†30siihntae2hiao.iaoite0hntae†e^h0iiest1h1t:one†e3(eeisn†tah(teen9hn?teino(taesitsn†2:no(ta9shn2(sn—aie^enta0h92esitih†eiaoot1(o9tae0e1te:eo1tae†estaiaes†s2ee0hne1(o9taet(eeta(o?3ataeiaot1o(t:1eeto?t\n",
      "\n"
     ]
    }
   ],
   "source": [
    "# Posible Traducción basándose en las frecuencias\n",
    "pt = dict() \n",
    "pt['8'] = 'e'\n",
    "pt[';'] = 't'\n",
    "pt['4'] = 'a'\n",
    "pt['‡'] = 'o'\n",
    "pt[')'] = 'i'\n",
    "pt['·'] = 'n'\n",
    "pt['5'] = 's'\n",
    "pt['6'] = 'h'\n",
    "\n",
    "mensajeTraducido = showTraduct(text,pt)\n",
    "\n",
    "print(mensajeTraducido)\n"
   ]
  },
  {
   "cell_type": "markdown",
   "metadata": {},
   "source": [
    "# Frecuencia de palabras\n",
    "\n",
    "https://en.wiktionary.org/wiki/Wiktionary:Frequency_lists#English\n",
    "\n",
    "Frecuencia en Proyecto Gutemberg https://en.wiktionary.org/wiki/Wiktionary:Frequency_lists/PG/2006/04/1-10000\n",
    "\n",
    "```\n",
    "Rank\tWord\tCount (per billion)\n",
    "1\tthe\t56271872\n",
    "2\tof\t33950064\n",
    "3\tand\t29944184\n",
    "4\tto\t25956096\n",
    "5\tin\t17420636\n",
    "6\ti\t11764797\n",
    "7\tthat\t11073318\n",
    "8\twas\t10078245\n",
    "9\this\t8799755\n",
    "10\the\t8397205\n",
    "```"
   ]
  },
  {
   "cell_type": "code",
   "execution_count": 12,
   "metadata": {},
   "outputs": [],
   "source": [
    "def getCountOfWord(texto, word):\n",
    "    \"\"\"\n",
    "    Cuenta el número de ocurrencias de una palabra en un texto\n",
    "    :param texto: texto a analizar\n",
    "    :param word: palabra a buscar y de la que vamos a contar sus ocurrencias\n",
    "    :returns: devuelve el número de ocurrencias de **word** en **texto**\n",
    "    \"\"\"\n",
    "    longitudFragmento =  len(word)\n",
    "    # print(longitudFragmento)\n",
    "    # print(len(texto))    \n",
    "    lastToCheck = len(texto) - longitudFragmento + 1\n",
    "    posToCheck = range (0, lastToCheck )\n",
    "\n",
    "    conteo = 0\n",
    "    for j in posToCheck:\n",
    "            if word == texto[j : j + longitudFragmento]:\n",
    "                conteo += 1\n",
    "    return conteo"
   ]
  },
  {
   "cell_type": "code",
   "execution_count": 20,
   "metadata": {},
   "outputs": [],
   "source": [
    "def countWordFreq(texto, longitudFragmento):\n",
    "    \"\"\"\n",
    "    Crea un recuento de ocurrencias de todos los fragmentos de una longitud dada en texto\n",
    "    Versión optimizada\n",
    "    :param texto: texto a analizar\n",
    "    :longitudFragmento: longitud de los fragmentos a buscar\n",
    "    :returns: diccionario con el número de ocurrencias de una fragmento dado\n",
    "    \"\"\"    \n",
    "    lastToCheck = len(texto) - longitudFragmento + 1\n",
    "\n",
    "    posToCheck = range (0, lastToCheck )\n",
    "\n",
    "    freqWord = dict()\n",
    "    for i in posToCheck:\n",
    "        word = texto[i : i + longitudFragmento]\n",
    "        if not word in freqWord:  # En caso contrario ya se ha analizado ese fragmento\n",
    "            for j in posToCheck:\n",
    "                if word == texto[j : j + longitudFragmento]:\n",
    "                    if word in freqWord:\n",
    "                        freqWord[word] += 1\n",
    "                    else:\n",
    "                        freqWord[word] = 1\n",
    "    return freqWord"
   ]
  },
  {
   "cell_type": "code",
   "execution_count": 21,
   "metadata": {},
   "outputs": [
    {
     "name": "stdout",
     "output_type": "stream",
     "text": [
      " ;48:7.000000\n",
      " )4‡:4.000000\n",
      " ·;4:3.000000\n",
      " 8†8:3.000000\n",
      " ‡(;:3.000000\n"
     ]
    }
   ],
   "source": [
    "k = 3 # longitud fragmento\n",
    "\n",
    "freqWord = countWordFreq(text,k)\n",
    "\n",
    "printOrderedDict(freqWord, minValue = 2) "
   ]
  },
  {
   "cell_type": "code",
   "execution_count": 22,
   "metadata": {},
   "outputs": [
    {
     "name": "stdout",
     "output_type": "stream",
     "text": [
      "53‡‡†305))6·the26)h‡.)h‡)te06·the†e^60))e5t161t:‡·e†e3(ee)5·†th6(tee·96·?te)·‡(the5)t5·†2:·‡(th956·2(5·—h)e^e·th0692e5)t)6†e)h‡‡t1(‡9the0e1te:e‡1the†e5th)he5†52ee06·e1(‡9thet(eeth(‡?3hthe)h‡t1‡(t:1eet‡?t\n",
      "\n"
     ]
    }
   ],
   "source": [
    "# Posible Traducción basándose en las frecuencia de palabras\n",
    "ptw = dict() \n",
    "ptw[';'] = 't'\n",
    "ptw['4'] = 'h'\n",
    "ptw['8'] = 'e'\n",
    "\n",
    "\n",
    "mensajeTraducido = showTraduct(text,ptw)\n",
    "\n",
    "print(mensajeTraducido)"
   ]
  },
  {
   "cell_type": "markdown",
   "metadata": {},
   "source": [
    "# Check with ADN Data"
   ]
  },
  {
   "cell_type": "code",
   "execution_count": 25,
   "metadata": {},
   "outputs": [
    {
     "name": "stdout",
     "output_type": "stream",
     "text": [
      "2 GCG OK\n",
      "3 CG OK\n",
      "4 AAA OK\n",
      "4 TTT OK\n",
      "2 ACT OK\n",
      "5 CC OK\n",
      "9 CTC OK\n",
      "294 AGCCTTTAG OK\n"
     ]
    }
   ],
   "source": [
    "\"\"\"\n",
    "ejemplo de uso de tests unitarios\n",
    "\n",
    "Creamos un array con los tests y los resultados\n",
    "\n",
    "Los tests los \n",
    "\"\"\" \n",
    "\n",
    "tests = [ \n",
    "    ['GCG', 'GCGCG',2] ,\n",
    "    ['CG', 'ACGTACGTACGT', 3],\n",
    "    ['AAA', 'AAAGAGTGTCTGATAGCAGCTTCTGAACTGGTTACCTGCCGTGAGTAAATTAAATTTTATTGACTTAGGTCACTAAATACTTTAACCAATATAGGCATAGCGCACAGACAGATAATAATTACAGAGTACACAACATCCAT', 4],\n",
    "    ['TTT', 'AGCGTGCCGAAATATGCCGCCAGACCTGCTGCGGTGGCCTCGCCGACTTCACGGATGCCAAGTGCATAGAGGAAGCGAGCAAAGGTGGTTTCTTTCGCTTTATCCAGCGCGTTAACCACGTTCTGTGCCGACTTT', 4],\n",
    "    ['ACT', 'GGACTTACTGACGTACG', 2],\n",
    "    ['CC', 'ATCCGATCCCATGCCCATG', 5],\n",
    "    ['CTC', 'CTGTTTTTGATCCATGATATGTTATCTCTCCGTCATCAGAAGAACAGTGACGGATCGCCCTCTCTCTTGGTCAGGCGACCGTTTGCCATAATGCCCATGCTTTCCAGCCAGCTCTCAAACTCCGGTGACTCGCGCAGGTTGAGTA', 9] \n",
    "]\n",
    "\n",
    "# AGCCTTTAG FullDataset.txt -> 294\n",
    "\n",
    "# Otro test que viene en un fichero\n",
    "\n",
    "with open('FullDataset.txt',\"r\") as f:\n",
    "    text = f.read()\n",
    "# print(len(text))\n",
    "\n",
    "tests.append(['AGCCTTTAG',text,294]) # Lo añadimos al array de tests\n",
    "    \n",
    "for word, text, result in tests: # Recorremos los tests\n",
    "    count = getCountOfWord(text,word)\n",
    "    if count == result: # resultado OK\n",
    "        print('{} {} OK'.format(count,word))\n",
    "    else: # Error\n",
    "        print('Error finding {} found {} instead of {}'.format(word, count, result))\n"
   ]
  },
  {
   "cell_type": "code",
   "execution_count": 35,
   "metadata": {},
   "outputs": [
    {
     "data": {
      "text/plain": [
       "24"
      ]
     },
     "execution_count": 35,
     "metadata": {},
     "output_type": "execute_result"
    }
   ],
   "source": [
    "# Examen\n",
    "texto = 'TATACCCCGTATACCCTTATACCCGTTATACCCTTATACCCGTGTATACCCTATACCCTCTCTATACCCGTATACCCTATACCCACTATACCCTTCTCTCTATACCCATGTTTATACCCGCGTATACCCTGACCTTTGACTTATACCCTTATACCCTATACCCTATACCCCTTCTAGATTAACCTATACCCAGTTATACCCACATATACCCCCTATACCCATATACCCGGTATACCCCTCTATACCCCATGGTATACCCCGGTGTATACCCATTCTATACCCTATACCCGCATATACCCTAGCAATGTCCTATACCCTATACCCCGGATATACCCCAGTATACCCGCCAGTATACCCTATACCCATATACCCTATACCCCTATACCCGGTATACCCTATACCCTATATACCCCGGCAGCCGATATACCCCATATACCCTATACCCTGCCAATTGTTATACCCTTATACCCCGCACCAATATACCCATATACCCCGTTGAGTATACCCCCGCCTATACCCTTGTATACCCGGTTATACCCGCGCACTGTGGTATACCCTATACCCTCGTTCGACAGCTCACTATACCCACTATACCCCGAATATACCCTATGAACTATACCCCTATACCCTATACCCCGTATACCCCTTATACCCTATACCCGCGTATACCCGATATACCCTATATACCCCTATACCCGATATACCCTATACCCAGATATACCCTTAGAGTATACCCTATACCCATATACCCTTGTATACCCGTTTATACCCCGCTTCTATACCCAAACGTCGGGATATACCCTCCCCTATACCCTACGTGTATATACCCATATACCCCTATACCCTATACCCGTATTATACCCTCAGAGTAAGCCTTATACCCTATACCCGACATATACCCAGTATACCCGACTATACCCTATACCCGCACGTTATACCCCTATACCCATTGTCTATACCCTTATACCCGTATACCCTATACCCGTATACCCATTATACCCGTATACCCTGGCTATACCCCAGAATTATACCCACTATACCCTTATACCC'\n",
    "getCountOfWord(texto ,'TATACCCTA')"
   ]
  },
  {
   "cell_type": "code",
   "execution_count": 34,
   "metadata": {},
   "outputs": [
    {
     "name": "stdout",
     "output_type": "stream",
     "text": [
      "OK\n"
     ]
    }
   ],
   "source": [
    "texto = 'CGGAAGCGAGATTCGCGTGGCGTGATTCCGGCGGGCGTGGAGAAGCGAGATTCATTCAAGCCGGGAGGCGTGGCGTGGCGTGGCGTGCGGATTCAAGCCGGCGGGCGTGATTCGAGCGGCGGATTCGAGATTCCGGGCGTGCGGGCGTGAAGCGCGTGGAGGAGGCGTGGCGTGCGGGAGGAGAAGCGAGAAGCCGGATTCAAGCAAGCATTCCGGCGGGAGATTCGCGTGGAGGCGTGGAGGCGTGGAGGCGTGCGGCGGGAGATTCAAGCCGGATTCGCGTGGAGAAGCGAGAAGCGCGTGCGGAAGCGAGGAGGAGAAGCATTCGCGTGATTCCGGGAGATTCAAGCATTCGCGTGCGGCGGGAGATTCAAGCGAGGAGGCGTGAAGCAAGCAAGCAAGCGCGTGGCGTGCGGCGGGAGAAGCAAGCGCGTGATTCGAGCGGGCGTGCGGAAGCGAGCGG'\n",
    "# Resultados \n",
    "resultadosCorrectos = ['CGGCGGGAGATT','CGGGAGATTCAA','CGTGCGGCGGGA','CGTGGAGGCGTG','CGTGGCGTGCGG','GCGTGCGGCGGG','GCGTGGAGGCGT','GCGTGGCGTGCG','GGAGAAGCGAGA','GGAGATTCAAGC','GGCGGGAGATTC','GGGAGATTCAAG','GTGCGGCGGGAG','TGCGGCGGGAGA']\n",
    "\n",
    "freqWord = countWordFreq(texto,12)\n",
    "# print(freqWord)\n",
    "mostFreq = getOrderedDict(freqWord, minValue = 2)\n",
    "\n",
    "# print(mostFreq)\n",
    "\n",
    "if len(mostFreq) == len(resultadosCorrectos):\n",
    "    for correcto in resultadosCorrectos:\n",
    "        if not correcto in mostFreq:\n",
    "            print('Error')\n",
    "            break\n",
    "    print('Correcto')\n",
    "    \n",
    "else:\n",
    "    print('Distinto número de soluciones')\n",
    "    print('Hay {} pero debería haber {}'.format(len(mostFreq),len(resultadosCorrectos)))\n"
   ]
  },
  {
   "cell_type": "code",
   "execution_count": 48,
   "metadata": {},
   "outputs": [],
   "source": [
    "def getMostFreqFromOrderedDict(diccionario):\n",
    "    \"\"\"\n",
    "    Devuelve todos los elementos de un diccionario que tienen el valor máximo de value\n",
    "    :param diccionario: diccionario con pares key,value\n",
    "    :returns: diccionario con los elementos de valor máximo\n",
    "    \"\"\"\n",
    "    listaOrdenada = sorted(diccionario, key = diccionario.get, reverse = True) # ordenamos el diccionario\n",
    "    # print(listaOrdenada)\n",
    "    maxValue = diccionario[listaOrdenada[0]] # el valor del primer elemento de la lista\n",
    "    # print(maxValue)\n",
    "    # recorremos el diccionario y añadimos los que tengan esa frecuencia\n",
    "    maxFreqWords = dict()\n",
    "    for word in listaOrdenada:\n",
    "        if diccionario[word] == maxValue:\n",
    "            maxFreqWords[word] = maxValue\n",
    "        else : # como está ordenada, cuando uno no lo cumpla hemos terminado\n",
    "            break;\n",
    "    return maxFreqWords"
   ]
  },
  {
   "cell_type": "code",
   "execution_count": 53,
   "metadata": {},
   "outputs": [
    {
     "name": "stdout",
     "output_type": "stream",
     "text": [
      "{'GCAT': 3, 'CATG': 3}\n",
      "======  ['CATG', 'GCAT']\n",
      "{'TGG': 6}\n",
      "======  ['TGG']\n",
      "{'TTTT': 4}\n",
      "======  ['TTTT']\n",
      "{'AACAA': 5}\n",
      "======  ['AACAA']\n",
      "{'GGGGT': 4, 'TTTTA': 4, 'AAAAT': 4}\n",
      "======  ['AAAAT', 'GGGGT', 'TTTTA']\n"
     ]
    }
   ],
   "source": [
    "tests = [\n",
    "    ['ACGTTGCATGTCGCATGATGCATGAGAGCT',4,['CATG','GCAT']],\n",
    "    ['TGGTAGCGACGTTGGTCCCGCCGCTTGAGAATCTGGATGAACATAAGCTCCCACTTGGCTTATTCAGAGAACTGGTCAACACTTGTCTCTCCCAGCCAGGTCTGACCACCGGGCAACTTTTAGAGCACTATCGTGGTACAAATAATGCTGCCAC',3,['TGG']],\n",
    "    ['CAGTGGCAGATGACATTTTGCTGGTCGACTGGTTACAACAACGCCTGGGGCTTTTGAGCAACGAGACTTTTCAATGTTGCACCGTTTGCTGCATGATATTGAAAACAATATCACCAAATAAATAACGCCTTAGTAAGTAGCTTTT',4,['TTTT']],\n",
    "    ['ATACAATTACAGTCTGGAACCGGATGAACTGGCCGCAGGTTAACAACAGAGTTGCCAGGCACTGCCGCTGACCAGCAACAACAACAATGACTTTGACGCGAAGGGGATGGCATGAGCGAACTGATCGTCAGCCGTCAGCAACGAGTATTGTTGCTGACCCTTAACAATCCCGCCGCACGTAATGCGCTAACTAATGCCCTGCTG',5,['AACAA']],\n",
    "    ['CCAGCGGGGGTTGATGCTCTGGGGGTCACAAGATTGCATTTTTATGGGGTTGCAAAAATGTTTTTTACGGCAGATTCATTTAAAATGCCCACTGGCTGGAGACATAGCCCGGATGCGCGTCTTTTACAACGTATTGCGGGGTAAAATCGTAGATGTTTTAAAATAGGCGTAAC',5,['AAAAT','GGGGT','TTTTA']]]\n",
    "\n",
    "for texto,length,results in tests:\n",
    "    freqWord = countWordFreq(texto,length)\n",
    "    maxFreqWord = getMostFreqFromOrderedDict(freqWord)\n",
    "    print(maxFreqWord)\n",
    "    print('====== ',results)\n",
    "    "
   ]
  },
  {
   "cell_type": "code",
   "execution_count": 54,
   "metadata": {},
   "outputs": [
    {
     "name": "stdout",
     "output_type": "stream",
     "text": [
      "{'ATTAATTCCTA': 18}\n"
     ]
    }
   ],
   "source": [
    "# Examen\n",
    "texto = 'TTAATTCCTATTAATTCCTACGACTCATCAGCAGGCCAGGCAGGCCAGGAGACTGCCGACTCATCAGAGACTGCTTAATTCCTAGAGACTGCTTAATTCCTAGAGACTGCGAGACTGCTTAATTCCTATTAATTCCTAGAGACTGCCTTTGGTCCATTAATTCCTAGCAGGCCAGCGACTCATCAGAGACTGCCTTTGGTCCACTTTGGTCCACTTTGGTCCACGACTCATCAGCAGGCCAGCTTTGGTCCATTAATTCCTACGACTCATCATTAATTCCTAGCAGGCCAGTTAATTCCTACGACTCATCAGAGACTGCCGACTCATCACGACTCATCATTAATTCCTACTTTGGTCCAGAGACTGCTTAATTCCTATTAATTCCTACGACTCATCATTAATTCCTAGAGACTGCGAGACTGCGAGACTGCGCAGGCCAGGAGACTGCCTTTGGTCCATTAATTCCTACTTTGGTCCACTTTGGTCCATTAATTCCTAGAGACTGCCTTTGGTCCAGAGACTGCCGACTCATCAGCAGGCCAGTTAATTCCTAGAGACTGCCGACTCATCATTAATTCCTAGCAGGCCAGGCAGGCCAGCGACTCATCACGACTCATCACGACTCATCAGCAGGCCAGGCAGGCCAGCTTTGGTCCAGCAGGCCAGCGACTCATCATTAATTCCTACGACTCATCATTAATTCCTATTAATTCCTACTTTGGTCCAGCAGGCCAGCGACTCATCATTAATTCCTATTAATTCCTAGCAGGCCAGTTAATTCCTACTTTGGTCCACGACTCATCAGCAGGCCAGTTAATTCCTATTAATTCCTATTAATTCCTACGACTCATCAGCAGGCCAGGCAGGCCAGGAGACTGCGCAGGCCAGCGACTCATCA'\n",
    "length = 11\n",
    "freqWord = countWordFreq(texto,length)\n",
    "maxFerqWord = getMostFreqFromOrderedDict(freqWord)\n",
    "\n",
    "print(maxFerqWord)"
   ]
  },
  {
   "cell_type": "code",
   "execution_count": 62,
   "metadata": {},
   "outputs": [
    {
     "name": "stdout",
     "output_type": "stream",
     "text": [
      "k = 3 {'tga': 25}\n",
      "k = 4 {'atga': 12}\n",
      "k = 5 {'tgatc': 8, 'gatca': 8}\n",
      "k = 6 {'tgatca': 8}\n",
      "k = 7 {'atgatca': 5}\n",
      "k = 8 {'atgatcaa': 4}\n",
      "k = 9 {'atgatcaag': 3, 'ctcttgatc': 3, 'tcttgatca': 3, 'cttgatcat': 3}\n"
     ]
    }
   ],
   "source": [
    "vibrio_colae = \"\"\"atcaatgatcaacgtaagcttctaagcatgatcaaggtgctcacacagtttatccacaac\n",
    "ctgagtggatgacatcaagataggtcgttgtatctccttcctctcgtactctcatgacca\n",
    "cggaaagatgatcaagagaggatgatttcttggccatatcgcaatgaatacttgtgactt\n",
    "gtgcttccaattgacatcttcagcgccatattgcgctggccaaggtgacggagcgggatt\n",
    "acgaaagcatgatcatggctgttgttctgtttatcttgttttgactgagacttgttagga\n",
    "tagacggtttttcatcactgactagccaaagccttactctgcctgacatcgaccgtaaat\n",
    "tgataatgaatttacatgcttccgcgacgatttacctcttgatcatcgatccgattgaag\n",
    "atcttcaattgttaattctcttgcctcgactcatagccatgatgagctcttgatcatgtt\n",
    "tccttaaccctctattttttacggaagaatgatcaagctgctgctcttgatcatcgtttc\n",
    "\"\"\"\n",
    "lengths = {3,4,5,6,7,8,9}\n",
    "for length in lengths:\n",
    "    freqWord = countWordFreq(vibrio_colae,length)\n",
    "    maxFerqWord = getMostFreqFromOrderedDict(freqWord)\n",
    "    print('k = {} {}'.format(length, maxFerqWord))"
   ]
  },
  {
   "cell_type": "raw",
   "metadata": {},
   "source": []
  }
 ],
 "metadata": {
  "kernelspec": {
   "display_name": "Python 3",
   "language": "python",
   "name": "python3"
  },
  "language_info": {
   "codemirror_mode": {
    "name": "ipython",
    "version": 3
   },
   "file_extension": ".py",
   "mimetype": "text/x-python",
   "name": "python",
   "nbconvert_exporter": "python",
   "pygments_lexer": "ipython3",
   "version": "3.6.9"
  }
 },
 "nbformat": 4,
 "nbformat_minor": 4
}
