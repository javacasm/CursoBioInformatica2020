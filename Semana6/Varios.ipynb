{
 "cells": [
  {
   "cell_type": "markdown",
   "metadata": {},
   "source": [
    "# Librerías \"científicas\"\n",
    "\n",
    "## matplotlib\n",
    "\n",
    "Dibujo de gráficas\n",
    "\n",
    "## pandas\n",
    "\n",
    "Librería para trabajar con tablas de datos, el 'excel' de python\n",
    "\n",
    "## numpy\n",
    "\n",
    "Cálculos y matrices\n",
    "\n",
    "## scipy\n",
    "\n",
    "Ajustes de funciones ¿qué más?"
   ]
  },
  {
   "cell_type": "code",
   "execution_count": null,
   "metadata": {},
   "outputs": [],
   "source": [
    "## Cargar datos de un fichero\n",
    "\n"
   ]
  },
  {
   "cell_type": "code",
   "execution_count": null,
   "metadata": {},
   "outputs": [],
   "source": [
    "## Descargar datos de internet"
   ]
  },
  {
   "cell_type": "code",
   "execution_count": null,
   "metadata": {},
   "outputs": [],
   "source": [
    "## descargar una imagen de internet y mostrarla"
   ]
  },
  {
   "cell_type": "markdown",
   "metadata": {},
   "source": [
    "## Zip\n",
    "\n",
    "Al contrario de lo que pueda parecernos el nombre, la función no se dedica a comprimir cosas sino a encajarlas.\n",
    "Quizás porque zip significa cremallera\n",
    "\n",
    "\n",
    "### Recursos\n",
    "\n",
    "\n",
    "https://micro.recursospython.com/recursos/la-funcion-zip.html\n",
    "\n",
    "\n",
    "https://likegeeks.com/es/funcion-zip-de-python/"
   ]
  },
  {
   "cell_type": "markdown",
   "metadata": {},
   "source": []
  }
 ],
 "metadata": {
  "kernelspec": {
   "display_name": "Python 3",
   "language": "python",
   "name": "python3"
  },
  "language_info": {
   "codemirror_mode": {
    "name": "ipython",
    "version": 3
   },
   "file_extension": ".py",
   "mimetype": "text/x-python",
   "name": "python",
   "nbconvert_exporter": "python",
   "pygments_lexer": "ipython3",
   "version": "3.6.9"
  }
 },
 "nbformat": 4,
 "nbformat_minor": 4
}
