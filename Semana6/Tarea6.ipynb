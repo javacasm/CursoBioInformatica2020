{
 "cells": [
  {
   "cell_type": "markdown",
   "metadata": {},
   "source": [
    "# Tareas 6\n",
    "\n",
    "License CC by sa \n",
    "by @javacasm\n",
    "\n",
    "## [Ejercicios pyNative](pyNative)\n",
    "\n",
    "## [Gráfica COVID-19](covid19)\n",
    "\n",
    "## [Gráficos de xkcd](https://www.google.com/search?q=xkcd+chart&client=ubuntu&hs=jv9&sxsrf=ALeKk02VC8dWKQL1l28bjOwb1PHO47w4hA:1588004710057&tbm=isch&source=iu&ictx=1&fir=P6kcHtl0K1bQlM%253A%252CzdXFuI_O3X9b3M%252C_&vet=1&usg=AI4_-kQtvcG_2P09M-PtSV6rwI1JNhCHng&sa=X&ved=2ahUKEwiJzZPFgonpAhWGHhQKHZIaDzEQ9QEwDHoECAoQNA#imgrc=rokBOGaNJ57voM)"
   ]
  },
  {
   "cell_type": "markdown",
   "metadata": {},
   "source": [
    "## Ejercicios pyNative <a id=\"pyNative\"></a>\n",
    "\n",
    "Ejercicios de [esta web](https://pynative.com/python-matplotlib-exercise/)"
   ]
  },
  {
   "cell_type": "markdown",
   "metadata": {},
   "source": [
    "## Gráfica COVID-19 <a id=\"covid19\"></a>\n",
    "\n",
    "Se trata de reproducir [el estudio de Joos Korstanje](https://towardsdatascience.com/modeling-logistic-growth-1367dc971de2) sobre la evolución de COVID-19 y el ajuste a una ecuación logística aplicándolo a los [datos de España](https://github.com/datadista/datasets/tree/master/COVID%2019) (datos de datadista), por ejemplo a los de [evolución de los casos en las distintas comunidades autónomas](https://github.com/datadista/datasets/blob/master/COVID%2019/ccaa_covid19_casos.csv)\n",
    "\n",
    "Se puede seguir todo el cálculo en su [jupyter notebook](https://jooskorstanje.com/modeling-logistic-growth-corona.html)\n"
   ]
  }
 ],
 "metadata": {
  "kernelspec": {
   "display_name": "Python 3",
   "language": "python",
   "name": "python3"
  },
  "language_info": {
   "codemirror_mode": {
    "name": "ipython",
    "version": 3
   },
   "file_extension": ".py",
   "mimetype": "text/x-python",
   "name": "python",
   "nbconvert_exporter": "python",
   "pygments_lexer": "ipython3",
   "version": "3.6.9"
  }
 },
 "nbformat": 4,
 "nbformat_minor": 4
}
