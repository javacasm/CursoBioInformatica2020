{
 "cells": [
  {
   "cell_type": "code",
   "execution_count": 29,
   "metadata": {
    "colab": {},
    "colab_type": "code",
    "id": "XBl6Qy46ovLR"
   },
   "outputs": [],
   "source": [
    "with open(\"E_coli.txt\", \"r\") as file:\n",
    "    adn = file.read()\n"
   ]
  },
  {
   "cell_type": "code",
   "execution_count": 30,
   "metadata": {
    "colab": {},
    "colab_type": "code",
    "id": "xOvFcGc3ovLh",
    "outputId": "f7cd3b3e-fc84-4462-b339-126e176ae127"
   },
   "outputs": [
    {
     "data": {
      "text/plain": [
       "str"
      ]
     },
     "execution_count": 30,
     "metadata": {},
     "output_type": "execute_result"
    }
   ],
   "source": [
    "# Confirmamos que la variable adn guarda una cadena\n",
    "type(adn)"
   ]
  },
  {
   "cell_type": "code",
   "execution_count": 31,
   "metadata": {
    "colab": {},
    "colab_type": "code",
    "id": "IcOTPwfZovLs",
    "outputId": "0ee3ca21-4481-4bfd-ff9c-7e805be7ae8e"
   },
   "outputs": [
    {
     "data": {
      "text/plain": [
       "4639675"
      ]
     },
     "execution_count": 31,
     "metadata": {},
     "output_type": "execute_result"
    }
   ],
   "source": [
    "# Longitud , en letras , de la cadena de ADN de la bacteria E.Coli\n",
    "len(adn)"
   ]
  },
  {
   "cell_type": "markdown",
   "metadata": {},
   "source": [
    "No hay problema en leer el fichero completo y en almacenar su contenido"
   ]
  },
  {
   "cell_type": "code",
   "execution_count": 32,
   "metadata": {
    "colab": {},
    "colab_type": "code",
    "id": "JO923-CRovL4",
    "outputId": "b3d84645-c60d-445d-f9d8-753713d4f0cc"
   },
   "outputs": [
    {
     "name": "stdout",
     "output_type": "stream",
     "text": [
      "AGCTTTTCATTCTGACTGCAACGGGCAATATGTCTCTGTGTGGATTAAAAAAAGAGTGTCTGATAGCAGCTTCTGAACTGGTTACCTGCCGTGAGTAAAT\n"
     ]
    }
   ],
   "source": [
    "# Visionado de las 100 primeras letras\n",
    "print(adn[:100])"
   ]
  },
  {
   "cell_type": "code",
   "execution_count": 33,
   "metadata": {
    "colab": {},
    "colab_type": "code",
    "id": "SZR5r7APovMK",
    "outputId": "32852ca6-d347-4fa4-ef06-cd586efcdf65"
   },
   "outputs": [
    {
     "name": "stderr",
     "output_type": "stream",
     "text": [
      "IOPub data rate exceeded.\n",
      "The notebook server will temporarily stop sending output\n",
      "to the client in order to avoid crashing it.\n",
      "To change this limit, set the config variable\n",
      "`--NotebookApp.iopub_data_rate_limit`.\n",
      "\n",
      "Current values:\n",
      "NotebookApp.iopub_data_rate_limit=1000000.0 (bytes/sec)\n",
      "NotebookApp.rate_limit_window=3.0 (secs)\n",
      "\n"
     ]
    }
   ],
   "source": [
    "# No se puede imprimir la cadena entera: Saturariamos el Notebook ...\n",
    "with open(\"E_coli.txt\", \"r\") as file:\n",
    "    for line in file:\n",
    "        print(line)"
   ]
  },
  {
   "cell_type": "markdown",
   "metadata": {},
   "source": [
    "El problema ocurre al intentar enviar **TODO** el contenido a la pantalla\n",
    "\n",
    "Podemos cambiar los límetes para que este caso no de error, pero el error volvería si pasamos ese límite.\n",
    "\n",
    "Mejor hacer un procesamiento por lotes: dividimos el contenido en partes y lo vamos procesando\n"
   ]
  },
  {
   "cell_type": "markdown",
   "metadata": {
    "colab_type": "text",
    "id": "d6ksannFovMU"
   },
   "source": [
    "## Tarea \"extra\" de la semana\n",
    "\n",
    "Adecuar nuestra función de resaltado en MarkDown para que funcione con todo el ADN de la bacteria E.Coli y de resultados parecidos al siguiente"
   ]
  },
  {
   "cell_type": "markdown",
   "metadata": {
    "colab_type": "text",
    "id": "gW6bJM4PovMX"
   },
   "source": [
    "    >>> resaltar(adn, \"TTTTTTTT\")\n",
    "\n",
    "    Posicion nº 10.500    :  ...AGCTTTTCATTCTGACTGCA**TTTTTTTT**ACGGGCAATATGTCTCTGT...\n",
    "    Posicion nº 2.300.000 :  ...TAAAAAAAGAGTGTCTGATA**TTTTTTTT**GCAGCTTCTGAACTGGTTA... \n",
    "    etc ..."
   ]
  },
  {
   "cell_type": "code",
   "execution_count": 34,
   "metadata": {
    "colab": {},
    "colab_type": "code",
    "id": "m0Xe-wUqovMZ"
   },
   "outputs": [],
   "source": [
    "\"\"\"\n",
    "Convierte un texto en una lista de líneas de la longitud indicada\n",
    "Por defecto se usa una longitud de linea de 80 caracteres\n",
    "\"\"\"\n",
    "def trocea(texto,tamañoLinea=80):\n",
    "    lineas = []\n",
    "    linea=''\n",
    "    for caracter in texto:\n",
    "        linea += caracter\n",
    "        if len(linea) == tamañoLinea:\n",
    "            lineas.append(linea)\n",
    "            # print(linea)\n",
    "            linea=''\n",
    "    print('Longitud del texto: ',len(texto))\n",
    "    print('Dividido en %d líneas' % len(lineas))\n",
    "    return lineas"
   ]
  },
  {
   "cell_type": "code",
   "execution_count": 35,
   "metadata": {},
   "outputs": [],
   "source": [
    "# Herramientas para visualizar el markdown\n",
    "from IPython.display import Markdown, display\n",
    "\n",
    "# visualiza un string en Markdown\n",
    "def printmd(string):\n",
    "    display(Markdown(string))\n",
    "    \n",
    "# visualiza todas los strings de una lista en Markdown\n",
    "def printListmd(lista):\n",
    "    for linea in lista:\n",
    "        printmd(linea)\n",
    "\n",
    "# visualiza todas los strings de una lista en Markdown\n",
    "def printNumberedListmd(lista):\n",
    "    for position,linea in lista:\n",
    "        printmd('Línea %d: '%position + linea)"
   ]
  },
  {
   "cell_type": "code",
   "execution_count": 36,
   "metadata": {},
   "outputs": [],
   "source": [
    "\"\"\"\n",
    "Resalta una secuencia con el resaltado indicado (por defecto **)\n",
    "Esperando que sea un texto largo, lo trocea en líneas de 80 caracteres \n",
    "devuelve una lista con todas las lineas de texto ya resaltadas y\n",
    "una lista que contiene solo las líneas que se han resaltado, \n",
    "con su posición y el texto resaltado\n",
    "\"\"\"\n",
    "\n",
    "def resalta(texto,secuenciaResaltar, resaltado = '**'):\n",
    "    lineas = trocea(texto)\n",
    "    lineasResaltadas = []\n",
    "    sololineasResaltadas = []\n",
    "    secuenciaResaltada = resaltado + secuenciaResaltar + resaltado \n",
    "    totalLineasResaltadas = 0\n",
    "    contador = 1\n",
    "    for linea in lineas:\n",
    "        lineaResaltada=linea.replace(secuenciaResaltar, secuenciaResaltada)\n",
    "        if linea != lineaResaltada:\n",
    "            totalLineasResaltadas += 1\n",
    "            sololineasResaltadas.append([contador,lineaResaltada])\n",
    "        lineasResaltadas.append(lineaResaltada)\n",
    "        contador += 1\n",
    "        \n",
    "    print('Se han resaltado %d'%totalLineasResaltadas)\n",
    "    return lineasResaltadas,sololineasResaltadas"
   ]
  },
  {
   "cell_type": "code",
   "execution_count": 37,
   "metadata": {},
   "outputs": [
    {
     "name": "stdout",
     "output_type": "stream",
     "text": [
      "Longitud del texto:  4639675\n",
      "Dividido en 57995 líneas\n",
      "Se han resaltado 8\n"
     ]
    },
    {
     "data": {
      "text/markdown": [
       "Línea 520: GTAAGCCAGCCCCAACTCTTTCGCCCCTGTCGAGTTCGGTTCTAAGCCAAACGGCGGGGTGGAGAT**GTAGTAGTA**GATCT"
      ],
      "text/plain": [
       "<IPython.core.display.Markdown object>"
      ]
     },
     "metadata": {},
     "output_type": "display_data"
    },
    {
     "data": {
      "text/markdown": [
       "Línea 688: ACATAGAGTCGGCTTGCTTGTTAGCATTGGTGTC**GTAGTAGTA**GGCCCCAACAATGGACCAACGATCGGCAATTGGCCAG"
      ],
      "text/plain": [
       "<IPython.core.display.Markdown object>"
      ]
     },
     "metadata": {},
     "output_type": "display_data"
    },
    {
     "data": {
      "text/markdown": [
       "Línea 1046: TTTGTTTGACTGCGTGCTGGCTTAATGCTGGATGCCGCTCACTCGTCTACCGCGCAAAGAAGATGCGTTTA**GTAGTAGTA**"
      ],
      "text/plain": [
       "<IPython.core.display.Markdown object>"
      ]
     },
     "metadata": {},
     "output_type": "display_data"
    },
    {
     "data": {
      "text/markdown": [
       "Línea 1929: AACCCGTCAGATAGTTATTCAGGCC**GTAGTAGTA**GCTTGCTTGAAATAAATTAGGCTCATCCTGAATATCATCTTTTAAG"
      ],
      "text/plain": [
       "<IPython.core.display.Markdown object>"
      ]
     },
     "metadata": {},
     "output_type": "display_data"
    },
    {
     "data": {
      "text/markdown": [
       "Línea 2920: AATGATCTGCCAGATGCCTGCGGCATTGGCGCCAGACGTTGCGTGAGGATCAAAAGCGCTCTCCACTATGG**GTAGTAGTA**"
      ],
      "text/plain": [
       "<IPython.core.display.Markdown object>"
      ]
     },
     "metadata": {},
     "output_type": "display_data"
    },
    {
     "data": {
      "text/markdown": [
       "Línea 25507: CTGGTTTCCTAAAG**GTAGTAGTA**CTTATCTGCTGATGCGAGAAACACATTACAATGCGGGTATATTCGTTTGGGTGTTAA"
      ],
      "text/plain": [
       "<IPython.core.display.Markdown object>"
      ]
     },
     "metadata": {},
     "output_type": "display_data"
    },
    {
     "data": {
      "text/markdown": [
       "Línea 29854: CGCCACGCGCAG**GTAGTAGTA**GAGGCCGATTGCCGAACCGACAACCACGGCACCCACCAGCCACCACAAGTGTGCCTGGA"
      ],
      "text/plain": [
       "<IPython.core.display.Markdown object>"
      ]
     },
     "metadata": {},
     "output_type": "display_data"
    },
    {
     "data": {
      "text/markdown": [
       "Línea 29870: TTGTCATGGCGATTTACGGCCTT**GTAGTAGTA**ACGGAATTAACAAACCACTGCTGGATATTGCCAATCGCGGAGTGCGAG"
      ],
      "text/plain": [
       "<IPython.core.display.Markdown object>"
      ]
     },
     "metadata": {},
     "output_type": "display_data"
    }
   ],
   "source": [
    "# cargamos el adn del fichero\n",
    "with open(\"E_coli.txt\", \"r\") as file:\n",
    "    adn = file.read()\n",
    "\n",
    "todas,resaltadas = resalta(adn, 'GTAGTAGTA')\n",
    "resaltadas\n",
    "printNumberedListmd(resaltadas)\n",
    "# printListmd(todas)\n"
   ]
  }
 ],
 "metadata": {
  "colab": {
   "name": "Enunciado de la Tarea Extra Resaltando partes del ADN.ipynb",
   "provenance": []
  },
  "kernelspec": {
   "display_name": "Python 3",
   "language": "python",
   "name": "python3"
  },
  "language_info": {
   "codemirror_mode": {
    "name": "ipython",
    "version": 3
   },
   "file_extension": ".py",
   "mimetype": "text/x-python",
   "name": "python",
   "nbconvert_exporter": "python",
   "pygments_lexer": "ipython3",
   "version": "3.6.9"
  }
 },
 "nbformat": 4,
 "nbformat_minor": 1
}
