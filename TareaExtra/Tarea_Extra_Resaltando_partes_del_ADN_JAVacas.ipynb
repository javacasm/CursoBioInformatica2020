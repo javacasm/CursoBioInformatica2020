{
 "cells": [
  {
   "cell_type": "code",
   "execution_count": 2,
   "metadata": {
    "colab": {},
    "colab_type": "code",
    "id": "XBl6Qy46ovLR"
   },
   "outputs": [],
   "source": [
    "with open(\"E_coli.txt\", \"r\") as file:\n",
    "    adn = file.read()\n"
   ]
  },
  {
   "cell_type": "code",
   "execution_count": 30,
   "metadata": {
    "colab": {},
    "colab_type": "code",
    "id": "xOvFcGc3ovLh",
    "outputId": "f7cd3b3e-fc84-4462-b339-126e176ae127"
   },
   "outputs": [
    {
     "data": {
      "text/plain": [
       "str"
      ]
     },
     "execution_count": 30,
     "metadata": {},
     "output_type": "execute_result"
    }
   ],
   "source": [
    "# Confirmamos que la variable adn guarda una cadena\n",
    "type(adn)"
   ]
  },
  {
   "cell_type": "code",
   "execution_count": 3,
   "metadata": {
    "colab": {},
    "colab_type": "code",
    "id": "IcOTPwfZovLs",
    "outputId": "0ee3ca21-4481-4bfd-ff9c-7e805be7ae8e"
   },
   "outputs": [
    {
     "data": {
      "text/plain": [
       "4639675"
      ]
     },
     "execution_count": 3,
     "metadata": {},
     "output_type": "execute_result"
    }
   ],
   "source": [
    "# Longitud , en letras , de la cadena de ADN de la bacteria E.Coli\n",
    "len(adn)"
   ]
  },
  {
   "cell_type": "markdown",
   "metadata": {},
   "source": [
    "No hay problema en leer el fichero completo y en almacenar su contenido"
   ]
  },
  {
   "cell_type": "code",
   "execution_count": 32,
   "metadata": {
    "colab": {},
    "colab_type": "code",
    "id": "JO923-CRovL4",
    "outputId": "b3d84645-c60d-445d-f9d8-753713d4f0cc"
   },
   "outputs": [
    {
     "name": "stdout",
     "output_type": "stream",
     "text": [
      "AGCTTTTCATTCTGACTGCAACGGGCAATATGTCTCTGTGTGGATTAAAAAAAGAGTGTCTGATAGCAGCTTCTGAACTGGTTACCTGCCGTGAGTAAAT\n"
     ]
    }
   ],
   "source": [
    "# Visionado de las 100 primeras letras\n",
    "print(adn[:100])"
   ]
  },
  {
   "cell_type": "code",
   "execution_count": 33,
   "metadata": {
    "colab": {},
    "colab_type": "code",
    "id": "SZR5r7APovMK",
    "outputId": "32852ca6-d347-4fa4-ef06-cd586efcdf65"
   },
   "outputs": [
    {
     "name": "stderr",
     "output_type": "stream",
     "text": [
      "IOPub data rate exceeded.\n",
      "The notebook server will temporarily stop sending output\n",
      "to the client in order to avoid crashing it.\n",
      "To change this limit, set the config variable\n",
      "`--NotebookApp.iopub_data_rate_limit`.\n",
      "\n",
      "Current values:\n",
      "NotebookApp.iopub_data_rate_limit=1000000.0 (bytes/sec)\n",
      "NotebookApp.rate_limit_window=3.0 (secs)\n",
      "\n"
     ]
    }
   ],
   "source": [
    "# No se puede imprimir la cadena entera: Saturariamos el Notebook ...\n",
    "with open(\"E_coli.txt\", \"r\") as file:\n",
    "    for line in file:\n",
    "        print(line)"
   ]
  },
  {
   "cell_type": "markdown",
   "metadata": {},
   "source": [
    "El problema ocurre al intentar enviar **TODO** el contenido a la pantalla\n",
    "\n",
    "Podemos cambiar los límetes para que este caso no de error, pero el error volvería si pasamos ese límite.\n",
    "\n",
    "Mejor hacer un procesamiento por lotes: dividimos el contenido en partes y lo vamos procesando\n"
   ]
  },
  {
   "cell_type": "markdown",
   "metadata": {
    "colab_type": "text",
    "id": "d6ksannFovMU"
   },
   "source": [
    "## Tarea \"extra\" de la semana\n",
    "\n",
    "Adecuar nuestra función de resaltado en MarkDown para que funcione con todo el ADN de la bacteria E.Coli y de resultados parecidos al siguiente"
   ]
  },
  {
   "cell_type": "markdown",
   "metadata": {
    "colab_type": "text",
    "id": "gW6bJM4PovMX"
   },
   "source": [
    "    >>> resaltar(adn, \"TTTTTTTT\")\n",
    "\n",
    "    Posicion nº 10.500    :  ...AGCTTTTCATTCTGACTGCA**TTTTTTTT**ACGGGCAATATGTCTCTGT...\n",
    "    Posicion nº 2.300.000 :  ...TAAAAAAAGAGTGTCTGATA**TTTTTTTT**GCAGCTTCTGAACTGGTTA... \n",
    "    etc ..."
   ]
  },
  {
   "cell_type": "code",
   "execution_count": 4,
   "metadata": {
    "colab": {},
    "colab_type": "code",
    "id": "m0Xe-wUqovMZ"
   },
   "outputs": [],
   "source": [
    "\"\"\"\n",
    "Convierte un texto en una lista de líneas de la longitud indicada\n",
    "Por defecto se usa una longitud de linea de 80 caracteres\n",
    "\"\"\"\n",
    "def trocea(texto,tamañoLinea=80):\n",
    "    lineas = []\n",
    "    linea=''\n",
    "    for caracter in texto:\n",
    "        linea += caracter\n",
    "        if len(linea) == tamañoLinea:\n",
    "            lineas.append(linea)\n",
    "            # print(linea)\n",
    "            linea=''\n",
    "    print('Longitud del texto: ',len(texto))\n",
    "    print('Dividido en %d líneas' % len(lineas))\n",
    "    return lineas"
   ]
  },
  {
   "cell_type": "code",
   "execution_count": 3,
   "metadata": {},
   "outputs": [],
   "source": [
    "# Herramientas para visualizar el markdown\n",
    "from IPython.display import Markdown, display\n",
    "\n",
    "# visualiza un string en Markdown\n",
    "def printmd(string):\n",
    "    display(Markdown(string))\n",
    "    \n",
    "# visualiza todas los strings de una lista en Markdown\n",
    "def printListmd(lista):\n",
    "    for linea in lista:\n",
    "        printmd(linea)\n",
    "\n",
    "# visualiza todas los strings de una lista en Markdown\n",
    "def printNumberedListmd(lista):\n",
    "    for position,linea in lista:\n",
    "        printmd('Línea %d: '%position + linea)"
   ]
  },
  {
   "cell_type": "code",
   "execution_count": 2,
   "metadata": {},
   "outputs": [],
   "source": [
    "\"\"\"\n",
    "Resalta una secuencia con el resaltado indicado (por defecto **)\n",
    "Esperando que sea un texto largo, lo trocea en líneas de 80 caracteres \n",
    "devuelve una lista con todas las lineas de texto ya resaltadas y\n",
    "una lista que contiene solo las líneas que se han resaltado, \n",
    "con su posición y el texto resaltado\n",
    "\"\"\"\n",
    "\n",
    "def resalta(texto,secuenciaResaltar, resaltado = '**'):\n",
    "    lineas = trocea(texto)\n",
    "    lineasResaltadas = []\n",
    "    sololineasResaltadas = []\n",
    "    secuenciaResaltada = resaltado + secuenciaResaltar + resaltado \n",
    "    totalLineasResaltadas = 0\n",
    "    contador = 1\n",
    "    for linea in lineas:\n",
    "        lineaResaltada=linea.replace(secuenciaResaltar, secuenciaResaltada)\n",
    "        if linea != lineaResaltada:\n",
    "            totalLineasResaltadas += 1\n",
    "            sololineasResaltadas.append([contador,lineaResaltada])\n",
    "        lineasResaltadas.append(lineaResaltada)\n",
    "        contador += 1\n",
    "        \n",
    "    print('Se han resaltado %d'%totalLineasResaltadas)\n",
    "    return lineasResaltadas,sololineasResaltadas"
   ]
  },
  {
   "cell_type": "code",
   "execution_count": 7,
   "metadata": {},
   "outputs": [
    {
     "name": "stdout",
     "output_type": "stream",
     "text": [
      "Longitud del texto:  4639675\n",
      "Dividido en 57995 líneas\n",
      "Se han resaltado 209\n"
     ]
    },
    {
     "data": {
      "text/markdown": [
       "Línea 291: GTGATTCTGGCGAAAGATCTGGTTGAAAGCGTAATGCAGCGTATCGGCGTGACC**GATTACA**CCATTCTCGGCACGGTAAA"
      ],
      "text/plain": [
       "<IPython.core.display.Markdown object>"
      ]
     },
     "metadata": {},
     "output_type": "display_data"
    },
    {
     "data": {
      "text/markdown": [
       "Línea 1011: TTTCGTTTTCGGCTTCGTACACAACGTGAGCGTCGAACAATTTTTCGTATAACGTCTTAGCCAT**GATTACA**CCCCTTCTG"
      ],
      "text/plain": [
       "<IPython.core.display.Markdown object>"
      ]
     },
     "metadata": {},
     "output_type": "display_data"
    },
    {
     "data": {
      "text/markdown": [
       "Línea 1944: GGAATTATATCCTTGCCT**GATTACA**GCCTGGCATTACCTTCAATTGCGCCACCAAAGTCATTAATGGCGTAAAAATGCAC"
      ],
      "text/plain": [
       "<IPython.core.display.Markdown object>"
      ]
     },
     "metadata": {},
     "output_type": "display_data"
    },
    {
     "data": {
      "text/markdown": [
       "Línea 2269: GGGT**GATTACA**CCGTAGCGATTGGTAACCCGTTTGGTCTGGGCGAGACGGTAACTTCCGGGATTGTCTCTGCGCTGGGGC"
      ],
      "text/plain": [
       "<IPython.core.display.Markdown object>"
      ]
     },
     "metadata": {},
     "output_type": "display_data"
    },
    {
     "data": {
      "text/markdown": [
       "Línea 3275: CTGGAAGCACTGACCACTTACAAGTGGATCGGCATTGGT**GATTACA**CCATTCGTGCGTAAATAAAACCGGGTGATGCAAA"
      ],
      "text/plain": [
       "<IPython.core.display.Markdown object>"
      ]
     },
     "metadata": {},
     "output_type": "display_data"
    },
    {
     "data": {
      "text/markdown": [
       "Línea 3911: ATACATACTG**GATTACA**CTGCAGGCACGCCTTATGAGAGAACGTGCCGCAGTGACGGGTTAATTATCTGAAAGAATTTGT"
      ],
      "text/plain": [
       "<IPython.core.display.Markdown object>"
      ]
     },
     "metadata": {},
     "output_type": "display_data"
    },
    {
     "data": {
      "text/markdown": [
       "Línea 4019: TATTTAATTGGTGCTGACGTGAGTTGCCTGCTAAACATCAGTGGGC**GATTACA**ACGGGAAGGGCAGAAAGTCAAAGTGAT"
      ],
      "text/plain": [
       "<IPython.core.display.Markdown object>"
      ]
     },
     "metadata": {},
     "output_type": "display_data"
    },
    {
     "data": {
      "text/markdown": [
       "Línea 4459: ATCTGGAGCAGCCAGAAGCCATC**GATTACA**AACGTTGAACGACTGGGTTACAGCGAGCTTAGTTTATGCCGGATGCGGCG"
      ],
      "text/plain": [
       "<IPython.core.display.Markdown object>"
      ]
     },
     "metadata": {},
     "output_type": "display_data"
    },
    {
     "data": {
      "text/markdown": [
       "Línea 4818: GGTCCCGGCTGTAGCGAAT**GATTACA**GCCAGTACGTTACCTCGCGCTTCGTGCAATAAAAGGAGGCGCAGATGCTGCAAA"
      ],
      "text/plain": [
       "<IPython.core.display.Markdown object>"
      ]
     },
     "metadata": {},
     "output_type": "display_data"
    },
    {
     "data": {
      "text/markdown": [
       "Línea 4903: CCGCGTGTCCACTATTGCTGGGTAAGATCA**GATTACA**ACCTGTACGCCAATACTATCACCGTAACTAACGGCGGTGTATT"
      ],
      "text/plain": [
       "<IPython.core.display.Markdown object>"
      ]
     },
     "metadata": {},
     "output_type": "display_data"
    },
    {
     "data": {
      "text/markdown": [
       "Línea 4908: GTATCGACAACGCAACTGGCGCTGGCGCTATCGCT**GATTACA**AAGATAAAGAAATTATCTACGTAAACGACGTCAACAGC"
      ],
      "text/plain": [
       "<IPython.core.display.Markdown object>"
      ]
     },
     "metadata": {},
     "output_type": "display_data"
    },
    {
     "data": {
      "text/markdown": [
       "Línea 5983: CAATTTTGCATAACAGTTGCGAAAAACC**GATTACA**ATTTTTTAATTATTCTGGCTGGATTACCGCCCACGACAACGTTGT"
      ],
      "text/plain": [
       "<IPython.core.display.Markdown object>"
      ]
     },
     "metadata": {},
     "output_type": "display_data"
    },
    {
     "data": {
      "text/markdown": [
       "Línea 6006: GGTTCAATTACTCCTTAATGTTCGTAGGTTATGCATAAAAAAGGCCGCTTACGCGGCCTTAGT**GATTACA**CGTTGTATCA"
      ],
      "text/plain": [
       "<IPython.core.display.Markdown object>"
      ]
     },
     "metadata": {},
     "output_type": "display_data"
    },
    {
     "data": {
      "text/markdown": [
       "Línea 6223: TTACGCCGATAACCAC**GATTACA**TTAATGCACTGGCGAACAGCGTACGCGCTTCTTTTGCCAAACATGGCGAACCGGATC"
      ],
      "text/plain": [
       "<IPython.core.display.Markdown object>"
      ]
     },
     "metadata": {},
     "output_type": "display_data"
    },
    {
     "data": {
      "text/markdown": [
       "Línea 6387: AATTACAGCAGGCAGTGGATCAGGCTTACACCCAATTTCACTCACTTAACGGCGGACAAAATGCC**GATTACA**TTCCCTTT"
      ],
      "text/plain": [
       "<IPython.core.display.Markdown object>"
      ]
     },
     "metadata": {},
     "output_type": "display_data"
    },
    {
     "data": {
      "text/markdown": [
       "Línea 6448: GT**GATTACA**CTGCAACCGCATGCCGGAGAAATGCAGGAAGCACGCTATGAACTCGCATAATATTACTAACGAATCATTAG"
      ],
      "text/plain": [
       "<IPython.core.display.Markdown object>"
      ]
     },
     "metadata": {},
     "output_type": "display_data"
    },
    {
     "data": {
      "text/markdown": [
       "Línea 6757: CGGCAGTGGCGGTGCTTTGTCGCCGGGAATTATTCTGACGGCGGT**GATTACA**GGTCTGGTAAATATCAGCAATACCTACG"
      ],
      "text/plain": [
       "<IPython.core.display.Markdown object>"
      ]
     },
     "metadata": {},
     "output_type": "display_data"
    },
    {
     "data": {
      "text/markdown": [
       "Línea 6760: GACTGGC**GATTACA**CGCGGCGTTCGTTTATTTATGGCAGCGTTATTTGCCTGCTGGTGGCGCTGGTTCCTGCACTCACGC"
      ],
      "text/plain": [
       "<IPython.core.display.Markdown object>"
      ]
     },
     "metadata": {},
     "output_type": "display_data"
    },
    {
     "data": {
      "text/markdown": [
       "Línea 7050: **GATTACA**CCGCATTGCGGTATCAACGCGCCCTTAGCTCAGTTGGATAGAGCAACGACCTTCTAAGTCGTGGGCCGCAGGT"
      ],
      "text/plain": [
       "<IPython.core.display.Markdown object>"
      ]
     },
     "metadata": {},
     "output_type": "display_data"
    },
    {
     "data": {
      "text/markdown": [
       "Línea 7090: GGGCAACGGTGTTTAATTATATCGAATGT**GATTACA**ATCGGTGGCGGCGGCACAGTTGGTGTGGCGGCCTCAGTCCGGAA"
      ],
      "text/plain": [
       "<IPython.core.display.Markdown object>"
      ]
     },
     "metadata": {},
     "output_type": "display_data"
    },
    {
     "data": {
      "text/markdown": [
       "Línea 7115: ATGAGAA**GATTACA**TCGATGTGACAGGCCATCAATAAAAAGAGATTTGGTTGATTATAATATCATTAATGAATTGCTTTT"
      ],
      "text/plain": [
       "<IPython.core.display.Markdown object>"
      ]
     },
     "metadata": {},
     "output_type": "display_data"
    },
    {
     "data": {
      "text/markdown": [
       "Línea 7516: TATCGGAAGATACTGCGTCGAATCAAGAGCCGACGCTTCATCGCG**GATTACA**TAACCGTCATATTCAACTGATTGCGTTG"
      ],
      "text/plain": [
       "<IPython.core.display.Markdown object>"
      ]
     },
     "metadata": {},
     "output_type": "display_data"
    },
    {
     "data": {
      "text/markdown": [
       "Línea 7559: TATCCATAAAGACTCCATGTGAAAGTAATTTTGCGTGCCAGCA**GATTACA**AGGTTCAACGAGAAATGGTAAGCGAGAAAA"
      ],
      "text/plain": [
       "<IPython.core.display.Markdown object>"
      ]
     },
     "metadata": {},
     "output_type": "display_data"
    },
    {
     "data": {
      "text/markdown": [
       "Línea 7923: GTACATACTTTTTGCTGGTG**GATTACA**GCGCGGTTTCTACCCTGGATGATGTTGAGTTTTGCCAGTGGCTGACGCAGGAG"
      ],
      "text/plain": [
       "<IPython.core.display.Markdown object>"
      ]
     },
     "metadata": {},
     "output_type": "display_data"
    },
    {
     "data": {
      "text/markdown": [
       "Línea 7975: TGCATTTGTAAGGGCAACACCTCAGCCTGCAGGCAGGCACTGAAGATACCAAAGGGTAGTTCA**GATTACA**CGGTCACCTG"
      ],
      "text/plain": [
       "<IPython.core.display.Markdown object>"
      ]
     },
     "metadata": {},
     "output_type": "display_data"
    },
    {
     "data": {
      "text/markdown": [
       "Línea 8789: AAATTTTCACACACTCTGTAGCAGATGATCTAACAATCT**GATTACA**GAACATCGGCAGTACAATTTGCAGCAAAATAAAA"
      ],
      "text/plain": [
       "<IPython.core.display.Markdown object>"
      ]
     },
     "metadata": {},
     "output_type": "display_data"
    },
    {
     "data": {
      "text/markdown": [
       "Línea 8916: ATCGT**GATTACA**CCGTCCCATAACCCGCCGGAAGATGGTGGAATCAAATACAATCCGCCAAATGGTGGCCCGGCTGATAC"
      ],
      "text/plain": [
       "<IPython.core.display.Markdown object>"
      ]
     },
     "metadata": {},
     "output_type": "display_data"
    },
    {
     "data": {
      "text/markdown": [
       "Línea 9143: GTCTGACCGC**GATTACA**CCTGGAACGACAACGGCGAACTCATCCGCATCAGCAGCCCGCGCCAGACCCGGAGTTACAGCT"
      ],
      "text/plain": [
       "<IPython.core.display.Markdown object>"
      ]
     },
     "metadata": {},
     "output_type": "display_data"
    },
    {
     "data": {
      "text/markdown": [
       "Línea 9197: AATTGATGGAACATATTTCTATTACACCC**GATTACA**GACAAGCCTGGAAAGTGGTGCATAAATTGTCAGATATTCTACTG"
      ],
      "text/plain": [
       "<IPython.core.display.Markdown object>"
      ]
     },
     "metadata": {},
     "output_type": "display_data"
    },
    {
     "data": {
      "text/markdown": [
       "Línea 9202: ATTATTCCC**GATTACA**GATAAGCCTGGAAAGTAGAGCATAAATTGTCAGGCATCCTACTATTGACTATTTTTGCCGTTAT"
      ],
      "text/plain": [
       "<IPython.core.display.Markdown object>"
      ]
     },
     "metadata": {},
     "output_type": "display_data"
    },
    {
     "data": {
      "text/markdown": [
       "Línea 9248: ACGGAT**GATTACA**GCCAGTTTTCTGGTGAAAGATTTATTGATCGACTGGCGCGAAGGCGAGCGATATTTCATGTCGCAGC"
      ],
      "text/plain": [
       "<IPython.core.display.Markdown object>"
      ]
     },
     "metadata": {},
     "output_type": "display_data"
    },
    {
     "data": {
      "text/markdown": [
       "Línea 9463: CTCCGCGTATGCAG**GATTACA**CCCTGGAAGCGGATGAAGGTCGCGACATGATGCTGCTGGATGCGCTTATCCAGCTAAAA"
      ],
      "text/plain": [
       "<IPython.core.display.Markdown object>"
      ]
     },
     "metadata": {},
     "output_type": "display_data"
    },
    {
     "data": {
      "text/markdown": [
       "Línea 9741: TGCTGGTACTGCGAATGCTGGCGCGCCGGTGAAAAGCGGTAATGCAAACACG**GATTACA**ATGCAGCTATTGCGCTGGTGC"
      ],
      "text/plain": [
       "<IPython.core.display.Markdown object>"
      ]
     },
     "metadata": {},
     "output_type": "display_data"
    },
    {
     "data": {
      "text/markdown": [
       "Línea 9786: CAGTCATGATCATGCAAGCATTAG**GATTACA**GGTTGTGATGCCTGAACTGCAACCGGACGCTTTCCCGTTCTGGGATTCA"
      ],
      "text/plain": [
       "<IPython.core.display.Markdown object>"
      ]
     },
     "metadata": {},
     "output_type": "display_data"
    },
    {
     "data": {
      "text/markdown": [
       "Línea 10380: TACGTGCGCTCATTCTTACCCCGACCCGTGAACTGGCGGCGCAGATTGGCGAAAACGTCCGT**GATTACA**GCAAATACCTG"
      ],
      "text/plain": [
       "<IPython.core.display.Markdown object>"
      ]
     },
     "metadata": {},
     "output_type": "display_data"
    },
    {
     "data": {
      "text/markdown": [
       "Línea 10513: TT**GATTACA**AAACAGACGAAAACTGCATCCAGAGGCGAATGCAGTTACGTTGGTGGGGTTATTTGTAGATGGTTGCAGTA"
      ],
      "text/plain": [
       "<IPython.core.display.Markdown object>"
      ]
     },
     "metadata": {},
     "output_type": "display_data"
    },
    {
     "data": {
      "text/markdown": [
       "Línea 10743: ATTTAGCCCGGCGACGACGCCGCCGGGCCGAGGA**GATTACA**GCATATGTTCAGTACGGGCGATGATATCGTCCTGAGCGT"
      ],
      "text/plain": [
       "<IPython.core.display.Markdown object>"
      ]
     },
     "metadata": {},
     "output_type": "display_data"
    },
    {
     "data": {
      "text/markdown": [
       "Línea 10961: CGGT**GATTACA**GCCTTCAGAAATTTTCAGATAGGCATAATGACGCGGCGTCAGTTTCACACCTTGTTCTGGCACCAGGCT"
      ],
      "text/plain": [
       "<IPython.core.display.Markdown object>"
      ]
     },
     "metadata": {},
     "output_type": "display_data"
    },
    {
     "data": {
      "text/markdown": [
       "Línea 11171: AACAGCACTAAAGCGGAT**GATTACA**CCGGACCGGCAACAGATCTGCTGTTAAAGCTGCGCCCGAACATTCGTTATTTCCA"
      ],
      "text/plain": [
       "<IPython.core.display.Markdown object>"
      ]
     },
     "metadata": {},
     "output_type": "display_data"
    },
    {
     "data": {
      "text/markdown": [
       "Línea 11488: GCGCAATCAGGCTTCTCTCGATACGGCTAAAACCAATCTC**GATTACA**CTCGCATCGTTGCCCCGATGGCCGGGGAAGTCA"
      ],
      "text/plain": [
       "<IPython.core.display.Markdown object>"
      ]
     },
     "metadata": {},
     "output_type": "display_data"
    },
    {
     "data": {
      "text/markdown": [
       "Línea 11529: **GATTACA**CTCCGATGGAGTTTGTTATTGACGTGTTACAAAAATTCTTTTCTTATGATGTAGAACGTGCAACGCAATTGAT"
      ],
      "text/plain": [
       "<IPython.core.display.Markdown object>"
      ]
     },
     "metadata": {},
     "output_type": "display_data"
    },
    {
     "data": {
      "text/markdown": [
       "Línea 11655: AGGTGCAAAATCGGCGTATTTT**GATTACA**CTCCTGTTAATCCATACAGCAACAGTACTGGGGTAACCTGGTACTGTTGTC"
      ],
      "text/plain": [
       "<IPython.core.display.Markdown object>"
      ]
     },
     "metadata": {},
     "output_type": "display_data"
    },
    {
     "data": {
      "text/markdown": [
       "Línea 11913: AGAAAAATTTTCCGGTGCAGAACCGACTGCGGTCCAAAATTCCGGGGATGCGAAGTCGCG**GATTACA**ATACCCATCGGGA"
      ],
      "text/plain": [
       "<IPython.core.display.Markdown object>"
      ]
     },
     "metadata": {},
     "output_type": "display_data"
    },
    {
     "data": {
      "text/markdown": [
       "Línea 11990: CAC**GATTACA**TTCGTATCACTCCTCCGGAAAAACTGAACTTTGCCGAGATCGCGACATACAATGATCACCGGATGGCGAT"
      ],
      "text/plain": [
       "<IPython.core.display.Markdown object>"
      ]
     },
     "metadata": {},
     "output_type": "display_data"
    },
    {
     "data": {
      "text/markdown": [
       "Línea 12468: AATGCAACGTTCACCTTTAATGGCACTGCGGATACTACTCA**GATTACA**GCGTTTGCTAACCAGGCCTCATCTGATGCTGC"
      ],
      "text/plain": [
       "<IPython.core.display.Markdown object>"
      ]
     },
     "metadata": {},
     "output_type": "display_data"
    },
    {
     "data": {
      "text/markdown": [
       "Línea 12506: AGCATG**GATTACA**AAGGGGCGTTTGCGGATGCCCGAGTGGGCTACAACTACAGCGATAACGGCAGTCAACAACAACTGAA"
      ],
      "text/plain": [
       "<IPython.core.display.Markdown object>"
      ]
     },
     "metadata": {},
     "output_type": "display_data"
    },
    {
     "data": {
      "text/markdown": [
       "Línea 13728: AAGT**GATTACA**TTGCCCAGGCCAAACAAAAGGGCATTAAACTTTTTGCGATCACCGATCATGGCCCGGATATGGAAGATG"
      ],
      "text/plain": [
       "<IPython.core.display.Markdown object>"
      ]
     },
     "metadata": {},
     "output_type": "display_data"
    },
    {
     "data": {
      "text/markdown": [
       "Línea 13739: TCTCTGCC**GATTACA**ATGCGTTGTTTATCGGCGATGAATGTGCTGTGCCGCCATATCGTAGCGCATGGGTTGAGGGCGCG"
      ],
      "text/plain": [
       "<IPython.core.display.Markdown object>"
      ]
     },
     "metadata": {},
     "output_type": "display_data"
    },
    {
     "data": {
      "text/markdown": [
       "Línea 14031: AATTTCTTGTTCGGTGATGGTGTATTGGGTGAGTT**GATTACA**GCCAACGAGCAGGCCACTGACGATCAATGCAGCGGCAA"
      ],
      "text/plain": [
       "<IPython.core.display.Markdown object>"
      ]
     },
     "metadata": {},
     "output_type": "display_data"
    },
    {
     "data": {
      "text/markdown": [
       "Línea 14166: GTCAACGCCGGGCGCAGATATGACGCCCGGCAAAATG**GATTACA**CCTCGCGCCCGCTGGACGTCGCGTTGCAGCAGGATG"
      ],
      "text/plain": [
       "<IPython.core.display.Markdown object>"
      ]
     },
     "metadata": {},
     "output_type": "display_data"
    },
    {
     "data": {
      "text/markdown": [
       "Línea 14177: CTGCTTTATCAAACCATTCGCCAGCCGGGGGCACAGTCTTCCGAACAAACCACCTTACCCTCCG**GATTACA**AATCGGCAC"
      ],
      "text/plain": [
       "<IPython.core.display.Markdown object>"
      ]
     },
     "metadata": {},
     "output_type": "display_data"
    },
    {
     "data": {
      "text/markdown": [
       "Línea 14234: CGGTGCCACGGTAACTGATGCCTCCGCGGTACTGGCGACA**GATTACA**AAATCTCGTTCGATAATAATCAGTGGCAGGTCA"
      ],
      "text/plain": [
       "<IPython.core.display.Markdown object>"
      ]
     },
     "metadata": {},
     "output_type": "display_data"
    },
    {
     "data": {
      "text/markdown": [
       "Línea 14389: TGCCATT**GATTACA**TCAACGGCCACCAGGCGTAAGTGAACATCTCCAGGCGGTCGTTCGACCGCCTGAGTTTTATCTTTT"
      ],
      "text/plain": [
       "<IPython.core.display.Markdown object>"
      ]
     },
     "metadata": {},
     "output_type": "display_data"
    },
    {
     "data": {
      "text/markdown": [
       "Línea 15001: ACATTATTCTTACGCGGTCTGGCTGCCATTACTCAAAATCCGTTGCAAAAGTAATGAGTCATTTTTCTT**GATTACA**GGTG"
      ],
      "text/plain": [
       "<IPython.core.display.Markdown object>"
      ]
     },
     "metadata": {},
     "output_type": "display_data"
    },
    {
     "data": {
      "text/markdown": [
       "Línea 15077: CGGTGGACAATATCTCCATTGCGAAAAACGAACTGGCGGTACTGGGGACGATTTCATGGACGTGACAAACGAT**GATTACA**"
      ],
      "text/plain": [
       "<IPython.core.display.Markdown object>"
      ]
     },
     "metadata": {},
     "output_type": "display_data"
    },
    {
     "data": {
      "text/markdown": [
       "Línea 15122: AA**GATTACA**ATATCGCTCTTGATTATATCATTGAACGGTTGGTTGATTCTGGTGTATCCCAAGTCGTAGTATATCTGGCG"
      ],
      "text/plain": [
       "<IPython.core.display.Markdown object>"
      ]
     },
     "metadata": {},
     "output_type": "display_data"
    },
    {
     "data": {
      "text/markdown": [
       "Línea 15130: CCATAGAGAATTGCACTATAGTAAAAATGCAAAAGAACTAATCGAGATGCTTTACGTTAATATAAACC**GATTACA**GAAAT"
      ],
      "text/plain": [
       "<IPython.core.display.Markdown object>"
      ]
     },
     "metadata": {},
     "output_type": "display_data"
    },
    {
     "data": {
      "text/markdown": [
       "Línea 15282: TTTTATGTGAGCAGAAGATATTCATCAGCAAC**GATTACA**TTAGTCATTTTATTTTGCCGACGGCCTCATTGTCGAAAGAT"
      ],
      "text/plain": [
       "<IPython.core.display.Markdown object>"
      ]
     },
     "metadata": {},
     "output_type": "display_data"
    },
    {
     "data": {
      "text/markdown": [
       "Línea 15433: TGGCCGATCACGCCGATGCCTTTGCCGAGCTG**GATTACA**ACATATTCCGCGGCCTGGCGTTTGCTTCCGGCAACCCGATT"
      ],
      "text/plain": [
       "<IPython.core.display.Markdown object>"
      ]
     },
     "metadata": {},
     "output_type": "display_data"
    },
    {
     "data": {
      "text/markdown": [
       "Línea 16148: ATTTACCTTGCTCATCCATTGCTTTTTT**GATTACA**GCTGGAGTACGGCCTTGGCCAGTCCAGGTTTTAGTTTCGCCGTTT"
      ],
      "text/plain": [
       "<IPython.core.display.Markdown object>"
      ]
     },
     "metadata": {},
     "output_type": "display_data"
    },
    {
     "data": {
      "text/markdown": [
       "Línea 16240: AGTCTCCGAGCCTGTGCAGGGTCCCAATCCGG**GATTACA**CATGCTGGTTAATACCAGTAATTATAATGAGGGAGTCCAAA"
      ],
      "text/plain": [
       "<IPython.core.display.Markdown object>"
      ]
     },
     "metadata": {},
     "output_type": "display_data"
    },
    {
     "data": {
      "text/markdown": [
       "Línea 16504: CTTCATCGCTCT**GATTACA**TTCACAACGCATATGCGGCACGGAAACCACTGGCAGCGGCGGCGCGGCTTCGGTCAGTTGC"
      ],
      "text/plain": [
       "<IPython.core.display.Markdown object>"
      ]
     },
     "metadata": {},
     "output_type": "display_data"
    },
    {
     "data": {
      "text/markdown": [
       "Línea 16546: ATTGAAACCGATGTCATTCCGCCA**GATTACA**CGCCCGGCATGTTACGTCTCGATGCGAAGCTAGTTTACGACGATAAAGG"
      ],
      "text/plain": [
       "<IPython.core.display.Markdown object>"
      ]
     },
     "metadata": {},
     "output_type": "display_data"
    },
    {
     "data": {
      "text/markdown": [
       "Línea 16686: TCTTCCCAATCGATGCTGTAACCCTC**GATTACA**TGCGTTTAAGCGGGCGCAGCGAAGATCAGGTCGAGTTGGTCGAAAAA"
      ],
      "text/plain": [
       "<IPython.core.display.Markdown object>"
      ]
     },
     "metadata": {},
     "output_type": "display_data"
    },
    {
     "data": {
      "text/markdown": [
       "Línea 16737: GCTGACCTATGAACAGCGTCTGTTGGCGATTCAACAACTGGGGCGT**GATTACA**TGGCCGCCGGGTTATATGACCGCGCGG"
      ],
      "text/plain": [
       "<IPython.core.display.Markdown object>"
      ]
     },
     "metadata": {},
     "output_type": "display_data"
    },
    {
     "data": {
      "text/markdown": [
       "Línea 17161: CCGGTGGGCCTGAACGCGCTGTTCAGTACGCCA**GATTACA**TCTGGGGACGGATGATGGCGGCCTCACTGGTGACCGCATT"
      ],
      "text/plain": [
       "<IPython.core.display.Markdown object>"
      ]
     },
     "metadata": {},
     "output_type": "display_data"
    },
    {
     "data": {
      "text/markdown": [
       "Línea 17201: GGGCTTCGCGCCAGCCATGAAGAA**GATTACA**CGCGCCAGACGCGAGGGATGTATCTGGCGGGGCTGTATCATCGGGCGGG"
      ],
      "text/plain": [
       "<IPython.core.display.Markdown object>"
      ]
     },
     "metadata": {},
     "output_type": "display_data"
    },
    {
     "data": {
      "text/markdown": [
       "Línea 17409: CGGCATATGACAAAGTTCTGGCCCAGGCATCGACGGAAAATACCGTTAAAGCGCGTAATGCC**GATTACA**ACGCGGCAGAA"
      ],
      "text/plain": [
       "<IPython.core.display.Markdown object>"
      ]
     },
     "metadata": {},
     "output_type": "display_data"
    },
    {
     "data": {
      "text/markdown": [
       "Línea 17443: AGAAATTTGTCTGCACAAG**GATTACA**TCATGATTATGGCGAAACTGAAGTCAGCGAAAGGGAAGAAATTTCTCTTTGGTT"
      ],
      "text/plain": [
       "<IPython.core.display.Markdown object>"
      ]
     },
     "metadata": {},
     "output_type": "display_data"
    },
    {
     "data": {
      "text/markdown": [
       "Línea 17542: ATCTTTTGCCGCCCGGGACACCCCGCCATTGGTGCCCGTTCGATCAAACAGTTACTG**GATTACA**GCTGGACAATGCCGAC"
      ],
      "text/plain": [
       "<IPython.core.display.Markdown object>"
      ]
     },
     "metadata": {},
     "output_type": "display_data"
    },
    {
     "data": {
      "text/markdown": [
       "Línea 17580: GTGAAGGCACGCT**GATTACA**TTGCGCTGTATAAACGGCAGCACCGATGAACGCCCCGATCAACTGGTCGCCATGCGTGTA"
      ],
      "text/plain": [
       "<IPython.core.display.Markdown object>"
      ]
     },
     "metadata": {},
     "output_type": "display_data"
    },
    {
     "data": {
      "text/markdown": [
       "Línea 17651: GGCTGAATTATTCCTCTGAATTATC**GATTACA**CTGTATTCCCCGGTTAATACAGAGGAATCTGCAGGATCGATTGTCAGT"
      ],
      "text/plain": [
       "<IPython.core.display.Markdown object>"
      ]
     },
     "metadata": {},
     "output_type": "display_data"
    },
    {
     "data": {
      "text/markdown": [
       "Línea 18368: ATCGGGGAATGAGTACAATAATACAGATGATTTCACCTCACTGATCTATACCGGTGGCGATAC**GATTACA**CGAAGCGGAG"
      ],
      "text/plain": [
       "<IPython.core.display.Markdown object>"
      ]
     },
     "metadata": {},
     "output_type": "display_data"
    },
    {
     "data": {
      "text/markdown": [
       "Línea 18583: AGTCGAAGTGGCTTTTACTGCCGACTATATC**GATTACA**TGGCGGAGTGGGCACGGCGTTACGAGGGCGAGATTATTCAAA"
      ],
      "text/plain": [
       "<IPython.core.display.Markdown object>"
      ]
     },
     "metadata": {},
     "output_type": "display_data"
    },
    {
     "data": {
      "text/markdown": [
       "Línea 18772: GTGAAAC**GATTACA**GGCATTTAAATTCCAGTTAAGACCCGGTGGTCAACAGGAGTGTGAAATGAGGCGCTTCGCAGGCGC"
      ],
      "text/plain": [
       "<IPython.core.display.Markdown object>"
      ]
     },
     "metadata": {},
     "output_type": "display_data"
    },
    {
     "data": {
      "text/markdown": [
       "Línea 18885: CGACAAAATCGCCTTCTGGAAAACGCCTATAGCAGAAGGGGGCAAGTTTGTTCCCTACAGTCGCTGGACGCAG**GATTACA**"
      ],
      "text/plain": [
       "<IPython.core.display.Markdown object>"
      ]
     },
     "metadata": {},
     "output_type": "display_data"
    },
    {
     "data": {
      "text/markdown": [
       "Línea 18938: AAGGATATGTCACTTTATGGGCTGGAG**GATTACA**CCGTCGTCCGCCACGTCATGGTTAAACATTAAGGATAATATTGCAG"
      ],
      "text/plain": [
       "<IPython.core.display.Markdown object>"
      ]
     },
     "metadata": {},
     "output_type": "display_data"
    },
    {
     "data": {
      "text/markdown": [
       "Línea 19114: AACGGAAGCCAAAAGTAATGA**GATTACA**GCCATTCCAGAGTTGCTTAACCTACTGTATTTAAAGAAAAATTTGATAACCA"
      ],
      "text/plain": [
       "<IPython.core.display.Markdown object>"
      ]
     },
     "metadata": {},
     "output_type": "display_data"
    },
    {
     "data": {
      "text/markdown": [
       "Línea 19124: TGGAACTTAAAAAATTGATGGGACATATTTCTATTATCCCC**GATTACA**GACAAGCCTGGAAAATGGAACATAAGTTATCG"
      ],
      "text/plain": [
       "<IPython.core.display.Markdown object>"
      ]
     },
     "metadata": {},
     "output_type": "display_data"
    },
    {
     "data": {
      "text/markdown": [
       "Línea 19129: AATGCACAGTCTGGTCATCGGACAGATCAAGACGGATGAGAAATCTAATGA**GATTACA**GCTATCCCAGAACTTCTTAACA"
      ],
      "text/plain": [
       "<IPython.core.display.Markdown object>"
      ]
     },
     "metadata": {},
     "output_type": "display_data"
    },
    {
     "data": {
      "text/markdown": [
       "Línea 19735: TTTCATGAGTAAACTGCGACTCTTTTTCAAGGTAAAAACAGTAATCACATTTGA**GATTACA**TTGAAAACTGGAGGGCTTG"
      ],
      "text/plain": [
       "<IPython.core.display.Markdown object>"
      ]
     },
     "metadata": {},
     "output_type": "display_data"
    },
    {
     "data": {
      "text/markdown": [
       "Línea 20391: AATACCAGAACATTGCTT**GATTACA**TTGAAGGAAACATAAAGAAAAAATCATGGCTGGATAACAAAGAATTATTACAAAC"
      ],
      "text/plain": [
       "<IPython.core.display.Markdown object>"
      ]
     },
     "metadata": {},
     "output_type": "display_data"
    },
    {
     "data": {
      "text/markdown": [
       "Línea 20511: GCCCTTACCATGGCAATGCTGACATAGTTCCTTCACCCATTCTTCCTT**GATTACA**GATTCCCCGCGTCTGTAGTGTTTCA"
      ],
      "text/plain": [
       "<IPython.core.display.Markdown object>"
      ]
     },
     "metadata": {},
     "output_type": "display_data"
    },
    {
     "data": {
      "text/markdown": [
       "Línea 20589: CAGAAT**GATTACA**TACCCGCGTTAGTAGCTAATCAACAAAGCTAAGGTTAGTAATTAAGGAGTTCTCCACGGGTGAGGTG"
      ],
      "text/plain": [
       "<IPython.core.display.Markdown object>"
      ]
     },
     "metadata": {},
     "output_type": "display_data"
    },
    {
     "data": {
      "text/markdown": [
       "Línea 22324: AAATATGATGCGCGCATTGCGGCGATT**GATTACA**CCCTCGCCCACGATGACGGCATTTCGTTGCGCAATCTGGACCAGGC"
      ],
      "text/plain": [
       "<IPython.core.display.Markdown object>"
      ]
     },
     "metadata": {},
     "output_type": "display_data"
    },
    {
     "data": {
      "text/markdown": [
       "Línea 22356: CGACGGCAGGTTGATTATCAAAGCTGTAACGCCCTTGATGATCCGAGT**GATTACA**AATAAAACCGGGTTCGTAATCATCA"
      ],
      "text/plain": [
       "<IPython.core.display.Markdown object>"
      ]
     },
     "metadata": {},
     "output_type": "display_data"
    },
    {
     "data": {
      "text/markdown": [
       "Línea 23262: CGTTGCAATCAACGACCTGTTAGACGCT**GATTACA**TGGCATACATGCTGAAATATGACTCCACTCACGGCCGTTTCGACG"
      ],
      "text/plain": [
       "<IPython.core.display.Markdown object>"
      ]
     },
     "metadata": {},
     "output_type": "display_data"
    },
    {
     "data": {
      "text/markdown": [
       "Línea 23920: ACTTCTTTACTGCTATTCAACTTAGGTTGATTTTCCATGAAATTTCCT**GATTACA**ACGGACGTAGCCAACAAGCGCAGGC"
      ],
      "text/plain": [
       "<IPython.core.display.Markdown object>"
      ]
     },
     "metadata": {},
     "output_type": "display_data"
    },
    {
     "data": {
      "text/markdown": [
       "Línea 24176: GTGATACGATTTTTTTGATCCAGCATCGCGCCGAGACGGCTGAATGCAGCAGTGTCATTGACATCGA**GATTACA**AAAATC"
      ],
      "text/plain": [
       "<IPython.core.display.Markdown object>"
      ]
     },
     "metadata": {},
     "output_type": "display_data"
    },
    {
     "data": {
      "text/markdown": [
       "Línea 24775: CGGCGTTTTGATGTTGAGCGAACGAATGTGGTGATCGGCATTGTTTTCTTCCCAACCGTTGTT**GATTACA**CAACCGCCGA"
      ],
      "text/plain": [
       "<IPython.core.display.Markdown object>"
      ]
     },
     "metadata": {},
     "output_type": "display_data"
    },
    {
     "data": {
      "text/markdown": [
       "Línea 24822: GGGCGC**GATTACA**TCGAGAACATCCAGAATTTGTTTGATAACCAACTGGCAAGCAACCACATCAGAAACCAATTCCTGAT"
      ],
      "text/plain": [
       "<IPython.core.display.Markdown object>"
      ]
     },
     "metadata": {},
     "output_type": "display_data"
    },
    {
     "data": {
      "text/markdown": [
       "Línea 25184: TTGCCTGCGGTACGTCGCTACGGGCGATTAACCCGCGCTACCGGGCTGGTGCTGGAAGCCACCG**GATTACA**ATTGCCGCT"
      ],
      "text/plain": [
       "<IPython.core.display.Markdown object>"
      ]
     },
     "metadata": {},
     "output_type": "display_data"
    },
    {
     "data": {
      "text/markdown": [
       "Línea 25396: ATTTTATTTATCTTTGATATCGGCTTTATTAATTCATTTAATCAATATATTAGCACT**GATTACA**ATTATACCTTTTTATT"
      ],
      "text/plain": [
       "<IPython.core.display.Markdown object>"
      ]
     },
     "metadata": {},
     "output_type": "display_data"
    },
    {
     "data": {
      "text/markdown": [
       "Línea 25415: ATTGGTGCGACCTACTACTTCAACAAAAACATGTCCACCTATGTT**GATTACA**AAATCAACCTGCTGGACAACGACGATGA"
      ],
      "text/plain": [
       "<IPython.core.display.Markdown object>"
      ]
     },
     "metadata": {},
     "output_type": "display_data"
    },
    {
     "data": {
      "text/markdown": [
       "Línea 25617: ACGTGCCCTATATAAAAATTAGCGCAATT**GATTACA**GTCTAAATATCAACGGT**GATTACA**AAGCCACTGTTACAGGAGGC"
      ],
      "text/plain": [
       "<IPython.core.display.Markdown object>"
      ]
     },
     "metadata": {},
     "output_type": "display_data"
    },
    {
     "data": {
      "text/markdown": [
       "Línea 25697: CATATTGATTATACCCCCCCGTTCCCAGAGAAATAATATTTATTAAAATTCCAGTTCTTCTTTTTCT**GATTACA**GAAGGC"
      ],
      "text/plain": [
       "<IPython.core.display.Markdown object>"
      ]
     },
     "metadata": {},
     "output_type": "display_data"
    },
    {
     "data": {
      "text/markdown": [
       "Línea 25919: GCTGACCAGTTTGCAAAAC**GATTACA**GCCTTCCTGACTCACTGACGGAGCGCATCTGGCTGACGCTCATTTCTCAACGGA"
      ],
      "text/plain": [
       "<IPython.core.display.Markdown object>"
      ]
     },
     "metadata": {},
     "output_type": "display_data"
    },
    {
     "data": {
      "text/markdown": [
       "Línea 26058: AAACAACCATGCCCAGAATCACCGCGATCAGCACTACCTGCAACACGAC**GATTACA**GTGTTGAAGTTCGCTACGGATTTC"
      ],
      "text/plain": [
       "<IPython.core.display.Markdown object>"
      ]
     },
     "metadata": {},
     "output_type": "display_data"
    },
    {
     "data": {
      "text/markdown": [
       "Línea 27013: TTGTCTTGCTGATCAGTATGCACTGGGCGGTGCGTATCAGTTTTGAGCGTGGCTTTATT**GATTACA**TCAAGCATGGTAAT"
      ],
      "text/plain": [
       "<IPython.core.display.Markdown object>"
      ]
     },
     "metadata": {},
     "output_type": "display_data"
    },
    {
     "data": {
      "text/markdown": [
       "Línea 27014: GAACAGC**GATTACA**ACTGTTAAGTGATGCGCTTGGCGAGCAGTATGCGCAGCATGGCAACTGGCGCTTCCTGCGCAACAA"
      ],
      "text/plain": [
       "<IPython.core.display.Markdown object>"
      ]
     },
     "metadata": {},
     "output_type": "display_data"
    },
    {
     "data": {
      "text/markdown": [
       "Línea 27117: CCATGGAGAACACTTTATCAGCCGGGAAATAATGCGGGCAACGGTGTTTAATTATATCGAATGT**GATTACA**ATCGGTGGC"
      ],
      "text/plain": [
       "<IPython.core.display.Markdown object>"
      ]
     },
     "metadata": {},
     "output_type": "display_data"
    },
    {
     "data": {
      "text/markdown": [
       "Línea 27240: AGCGGCGCTC**GATTACA**CACGCTGCTGCCTGAATTAACCACGCGTCAGTCGGTGATGGTCGTCGGCGCGGCGGTCATTGA"
      ],
      "text/plain": [
       "<IPython.core.display.Markdown object>"
      ]
     },
     "metadata": {},
     "output_type": "display_data"
    },
    {
     "data": {
      "text/markdown": [
       "Línea 27772: GCTATGTCTTCCATCAG**GATTACA**TAGTGAAAAAAGGCGTGGATGTGCATGCGTTAAAAGAACAGATGCTGGAACTGCTA"
      ],
      "text/plain": [
       "<IPython.core.display.Markdown object>"
      ]
     },
     "metadata": {},
     "output_type": "display_data"
    },
    {
     "data": {
      "text/markdown": [
       "Línea 29336: GTGCCAGATACAACGCTTATGCGTCTTATCTGGCCTACAAC**GATTACA**TGGCGTAGTAATACGCTTTCACCTGCTCCCAG"
      ],
      "text/plain": [
       "<IPython.core.display.Markdown object>"
      ]
     },
     "metadata": {},
     "output_type": "display_data"
    },
    {
     "data": {
      "text/markdown": [
       "Línea 29394: TGCCTGGCGATACCATTTCGCTGATTGGTACCACCTCTTTACGTATT**GATTACA**ACGAGATTGACGATAATCGAGTGACG"
      ],
      "text/plain": [
       "<IPython.core.display.Markdown object>"
      ]
     },
     "metadata": {},
     "output_type": "display_data"
    },
    {
     "data": {
      "text/markdown": [
       "Línea 29851: CTACTATCCCTTCTTTTTCAGAAAAACCGCCGAGCATGTCGGCGGCTTTCTGACTTACAAAGTAACA**GATTACA**TCAGCG"
      ],
      "text/plain": [
       "<IPython.core.display.Markdown object>"
      ]
     },
     "metadata": {},
     "output_type": "display_data"
    },
    {
     "data": {
      "text/markdown": [
       "Línea 30217: ATGATACTTTGATCATTGAGTGC**GATTACA**CTAAGTACGTCATTATCCAGCATGCCATAACTCGCCGGATTACCGCCTTT"
      ],
      "text/plain": [
       "<IPython.core.display.Markdown object>"
      ]
     },
     "metadata": {},
     "output_type": "display_data"
    },
    {
     "data": {
      "text/markdown": [
       "Línea 30299: ATTAAACCGAT**GATTACA**GCGAGCACTACAGAGCTGATAGCCAGCTCCAGCGTGACGAGCGCACCCTGTAAAATAACACC"
      ],
      "text/plain": [
       "<IPython.core.display.Markdown object>"
      ]
     },
     "metadata": {},
     "output_type": "display_data"
    },
    {
     "data": {
      "text/markdown": [
       "Línea 30680: TACCTCATTGGGCATAATTTGGAACTCATCAGATAGCTTTTGCCATCTTCA**GATTACA**CGGGCTCATCTGCCAGTTGAAT"
      ],
      "text/plain": [
       "<IPython.core.display.Markdown object>"
      ]
     },
     "metadata": {},
     "output_type": "display_data"
    },
    {
     "data": {
      "text/markdown": [
       "Línea 30864: ACTGTGCTG**GATTACA**TTGACGCGGTGACGGCAACAGATACCAGCACCGCGCCGGATGTCATCTGGCCTGAACTGCCGGA"
      ],
      "text/plain": [
       "<IPython.core.display.Markdown object>"
      ]
     },
     "metadata": {},
     "output_type": "display_data"
    },
    {
     "data": {
      "text/markdown": [
       "Línea 30978: TGTTAGGCGTCCATACAG**GATTACA**CGATCAGATTTCTGTTCAGGATATTGGTATCGACAACCTTACCGCAGCGGATGGC"
      ],
      "text/plain": [
       "<IPython.core.display.Markdown object>"
      ]
     },
     "metadata": {},
     "output_type": "display_data"
    },
    {
     "data": {
      "text/markdown": [
       "Línea 31031: GTTTTTACCCTATATTTTTCTTCTCTGTTGTGGTCTTTGGTCGACCATAAGTTTCGCAGACGAA**GATTACA**TCGAATATC"
      ],
      "text/plain": [
       "<IPython.core.display.Markdown object>"
      ]
     },
     "metadata": {},
     "output_type": "display_data"
    },
    {
     "data": {
      "text/markdown": [
       "Línea 31181: G**GATTACA**GCGGATATCGTTTGTTCATCACCCCAGAGATGGAAGGCTACCCGACAGATGAAAATCAAGCCGCTGCCTATA"
      ],
      "text/plain": [
       "<IPython.core.display.Markdown object>"
      ]
     },
     "metadata": {},
     "output_type": "display_data"
    },
    {
     "data": {
      "text/markdown": [
       "Línea 31906: GACATGCAGTT**GATTACA**CAAATCCAGCACCGTCACCGGTTCGGACATGTTTTCCAGCACATATTCACGGGCGCGGGAAA"
      ],
      "text/plain": [
       "<IPython.core.display.Markdown object>"
      ]
     },
     "metadata": {},
     "output_type": "display_data"
    },
    {
     "data": {
      "text/markdown": [
       "Línea 32010: TGACCTTC**GATTACA**CGGAGTGCTGGGAAATTGGTGTTCGTGACGACTGCCTGGTAATGACACGCGTTAAGCCGGTGCAT"
      ],
      "text/plain": [
       "<IPython.core.display.Markdown object>"
      ]
     },
     "metadata": {},
     "output_type": "display_data"
    },
    {
     "data": {
      "text/markdown": [
       "Línea 32128: CGACGTCACACAGGGT**GATTACA**GGTTGCTGCTATCGCCTTTCAGGCCGATCGGGAAGACTTCTTCCAGGTCGCCGTGCG"
      ],
      "text/plain": [
       "<IPython.core.display.Markdown object>"
      ]
     },
     "metadata": {},
     "output_type": "display_data"
    },
    {
     "data": {
      "text/markdown": [
       "Línea 32758: GCGTTTGCTGAACATTCACCCTTCTCTGCTGCCGAAATATCCCG**GATTACA**CACCCATCGTCAGGCGCTGGAAAATGGCG"
      ],
      "text/plain": [
       "<IPython.core.display.Markdown object>"
      ]
     },
     "metadata": {},
     "output_type": "display_data"
    },
    {
     "data": {
      "text/markdown": [
       "Línea 32770: T**GATTACA**CCTATCTGGCGGTGGAAATTATCCGTGGCGATACCATCCGTTACGCGCTGCTGGAGATCCCATCAGATAAAG"
      ],
      "text/plain": [
       "<IPython.core.display.Markdown object>"
      ]
     },
     "metadata": {},
     "output_type": "display_data"
    },
    {
     "data": {
      "text/markdown": [
       "Línea 32915: GCCAACCGCACACGTCGCTTTACGCAAATTCATCACC**GATTACA**GCAACAGCATCCGCAGCTCCGGCTGGCACGCCAGCA"
      ],
      "text/plain": [
       "<IPython.core.display.Markdown object>"
      ]
     },
     "metadata": {},
     "output_type": "display_data"
    },
    {
     "data": {
      "text/markdown": [
       "Línea 33681: CGAAGGAAAACTC**GATTACA**CCATTGCTGATTCTGTCGCCATCAGCCTGTTTCAGCGCGTTCACCCGGAGCTCGCCGTAG"
      ],
      "text/plain": [
       "<IPython.core.display.Markdown object>"
      ]
     },
     "metadata": {},
     "output_type": "display_data"
    },
    {
     "data": {
      "text/markdown": [
       "Línea 34371: TGCCGATTCAGGAAGGTGAAGATGTCCTGATTCGTCGCTGTGATTACCATCTGAATCTGATTCATCCGAAA**GATTACA**GT"
      ],
      "text/plain": [
       "<IPython.core.display.Markdown object>"
      ]
     },
     "metadata": {},
     "output_type": "display_data"
    },
    {
     "data": {
      "text/markdown": [
       "Línea 34451: ATAATTTTTTTT**GATTACA**AACAGAGATGTTAAACCAAGTCATACCTATGCACTTATCAAATAACTCCGCAGCCCGATGA"
      ],
      "text/plain": [
       "<IPython.core.display.Markdown object>"
      ]
     },
     "metadata": {},
     "output_type": "display_data"
    },
    {
     "data": {
      "text/markdown": [
       "Línea 34490: GTG**GATTACA**TGACCAAAGTAAGGACTAAAATAGTCGGTGACGGAGACCGTAATTTCGGCTGCAGTCGCGGGTAATTTAT"
      ],
      "text/plain": [
       "<IPython.core.display.Markdown object>"
      ]
     },
     "metadata": {},
     "output_type": "display_data"
    },
    {
     "data": {
      "text/markdown": [
       "Línea 34700: AATGGGACCAAAATGAAAATTGAACTGAA**GATTACA**ATCAATTTAACAACAAGTTACACAACCAATTCAGACTCCGCCAG"
      ],
      "text/plain": [
       "<IPython.core.display.Markdown object>"
      ]
     },
     "metadata": {},
     "output_type": "display_data"
    },
    {
     "data": {
      "text/markdown": [
       "Línea 34800: ATAACAGATTTTTATGCGTTCCCATTCACCTTGGGTCGT**GATTACA**CGCGACATAAAACCCGACACCGCCTCCATTCGCA"
      ],
      "text/plain": [
       "<IPython.core.display.Markdown object>"
      ]
     },
     "metadata": {},
     "output_type": "display_data"
    },
    {
     "data": {
      "text/markdown": [
       "Línea 35067: TCCAGACGCTGCTGGTCAGTCGTGCGCTGGAGAAATTAGGTTATACCGTCAACAAACCCAGCGAAGTA**GATTACA**ACGTT"
      ],
      "text/plain": [
       "<IPython.core.display.Markdown object>"
      ]
     },
     "metadata": {},
     "output_type": "display_data"
    },
    {
     "data": {
      "text/markdown": [
       "Línea 35384: CGACACCGTCGACCATAAATTCAGCCGCGAATTTGTGCAGAACCTGCGTAATGAAATCGATCTGGCGGATATC**GATTACA**"
      ],
      "text/plain": [
       "<IPython.core.display.Markdown object>"
      ]
     },
     "metadata": {},
     "output_type": "display_data"
    },
    {
     "data": {
      "text/markdown": [
       "Línea 35689: TGCGCCTTATGT**GATTACA**ACGAAAATAAAAACCATCACACCCCATTTAATATCAGGGAACCGGACATAACCCCATGAGT"
      ],
      "text/plain": [
       "<IPython.core.display.Markdown object>"
      ]
     },
     "metadata": {},
     "output_type": "display_data"
    },
    {
     "data": {
      "text/markdown": [
       "Línea 35752: TGACGTCGTGACCAATGCCGCCGGAAATTCCTGGATGTTCGAAAACCGGATGCGTCATGTGGTGGATGGC**GATTACA**CCC"
      ],
      "text/plain": [
       "<IPython.core.display.Markdown object>"
      ]
     },
     "metadata": {},
     "output_type": "display_data"
    },
    {
     "data": {
      "text/markdown": [
       "Línea 36429: TAGAACTGACGCTCAATATTAAAAGCGACGTGCCTGATAACGTGATCGGCGACCCGCTGC**GATTACA**GCAAATCATCACT"
      ],
      "text/plain": [
       "<IPython.core.display.Markdown object>"
      ]
     },
     "metadata": {},
     "output_type": "display_data"
    },
    {
     "data": {
      "text/markdown": [
       "Línea 36432: TCCGACAGGCTGATGCCAGTATTTCCCGCCGTCATGGTGGCACCGGGCTGGGGCTGGT**GATTACA**CAAAAACTGGTTAAT"
      ],
      "text/plain": [
       "<IPython.core.display.Markdown object>"
      ]
     },
     "metadata": {},
     "output_type": "display_data"
    },
    {
     "data": {
      "text/markdown": [
       "Línea 36535: GTAAGAGATCTCTCACAACCAGATGGGGTATTTG**GATTACA**GAAGAGGCTTAAGTTGATTAAGGAATTCCGCAAGATTTG"
      ],
      "text/plain": [
       "<IPython.core.display.Markdown object>"
      ]
     },
     "metadata": {},
     "output_type": "display_data"
    },
    {
     "data": {
      "text/markdown": [
       "Línea 36536: AGGCTAAATGCGTCCGTTTACGTGTTCCCAGCGTCTCTTTGCACACTTCACCGGAGA**GATTACA**CACCGAGATGACCTCT"
      ],
      "text/plain": [
       "<IPython.core.display.Markdown object>"
      ]
     },
     "metadata": {},
     "output_type": "display_data"
    },
    {
     "data": {
      "text/markdown": [
       "Línea 36546: GTTGAACTT**GATTACA**CCAGCGTAAATCTGATTGAGTCGAAGAGTTTTAAGCTCTATCTCAACAGTTTTAACCAGACGCG"
      ],
      "text/plain": [
       "<IPython.core.display.Markdown object>"
      ]
     },
     "metadata": {},
     "output_type": "display_data"
    },
    {
     "data": {
      "text/markdown": [
       "Línea 36555: GAGTTTTTCTT**GATTACA**CATATTAGCCCGCTTGGCTCCATGGATATGTTGTCGCAGCTGGAAGTGGATATGCTTAAACG"
      ],
      "text/plain": [
       "<IPython.core.display.Markdown object>"
      ]
     },
     "metadata": {},
     "output_type": "display_data"
    },
    {
     "data": {
      "text/markdown": [
       "Línea 36616: CAACCCACGCGGTCGCCGTTTTTGATGATGAAAACCGCAGTAGCGGCTGGCGTCATCAGCGTTTACCA**GATTACA**AAGCG"
      ],
      "text/plain": [
       "<IPython.core.display.Markdown object>"
      ]
     },
     "metadata": {},
     "output_type": "display_data"
    },
    {
     "data": {
      "text/markdown": [
       "Línea 36725: AGCAGCGGCGCACTGTGGGACTCCAATGCGATCAACGCT**GATTACA**AATCGATGCTATTAAAACGTGCCGCGCAATCGTT"
      ],
      "text/plain": [
       "<IPython.core.display.Markdown object>"
      ]
     },
     "metadata": {},
     "output_type": "display_data"
    },
    {
     "data": {
      "text/markdown": [
       "Línea 36850: GATATTGTCTCCGAACTTTTCCCTAACGAAGCGCAAGCGCGGGTAGAAGCCCAGGAAGAGAAAGGC**GATTACA**ACTCCGG"
      ],
      "text/plain": [
       "<IPython.core.display.Markdown object>"
      ]
     },
     "metadata": {},
     "output_type": "display_data"
    },
    {
     "data": {
      "text/markdown": [
       "Línea 37087: ATTCCGCCTTGCGGAAATTGCCAGGAGTGCTGACCAAATCGCCGGGCCCACATTACCTGCCCCTGGC**GATTACA**AATCAC"
      ],
      "text/plain": [
       "<IPython.core.display.Markdown object>"
      ]
     },
     "metadata": {},
     "output_type": "display_data"
    },
    {
     "data": {
      "text/markdown": [
       "Línea 37216: CGTACGTGGGC**GATTACA**TCCTACCGTGCAAGGACTGCGTCTGTTTGAAGAAGTGCAACGATCCTGGTACGGACTGGATC"
      ],
      "text/plain": [
       "<IPython.core.display.Markdown object>"
      ]
     },
     "metadata": {},
     "output_type": "display_data"
    },
    {
     "data": {
      "text/markdown": [
       "Línea 37339: TATGGAATAATAATCAACCGAAGCCATTTTTCAAG**GATTACA**AGACTGTTGCGGAAATTAATGGCTGCCATTTTAATGTA"
      ],
      "text/plain": [
       "<IPython.core.display.Markdown object>"
      ]
     },
     "metadata": {},
     "output_type": "display_data"
    },
    {
     "data": {
      "text/markdown": [
       "Línea 37375: ACAATCTACTTTATCAAAATTGAATAAGGCTATTTCA**GATTACA**TCACTGAATTCCTAAGATAAATTAGTGAACACAACC"
      ],
      "text/plain": [
       "<IPython.core.display.Markdown object>"
      ]
     },
     "metadata": {},
     "output_type": "display_data"
    },
    {
     "data": {
      "text/markdown": [
       "Línea 37388: TA**GATTACA**AAATAAAAGTGATATACAGACGCTAAAAACAGAATGTTATTGCCTTCTAGCGGAATGCCATATGTCTTTGG"
      ],
      "text/plain": [
       "<IPython.core.display.Markdown object>"
      ]
     },
     "metadata": {},
     "output_type": "display_data"
    },
    {
     "data": {
      "text/markdown": [
       "Línea 37606: GCGGTCATC**GATTACA**GCTTTCACGGTGTGATCCAGCACATTAATCACGCAATCCTCGACGAAATCCCGATGATAGTCGA"
      ],
      "text/plain": [
       "<IPython.core.display.Markdown object>"
      ]
     },
     "metadata": {},
     "output_type": "display_data"
    },
    {
     "data": {
      "text/markdown": [
       "Línea 37729: CCGCAACTTTGGCGCGAAATTTGGGCTTCTGGAAGCCGGTTACAAAGCTGATTTAACCATTTGC**GATTACA**ACTCGCCGA"
      ],
      "text/plain": [
       "<IPython.core.display.Markdown object>"
      ]
     },
     "metadata": {},
     "output_type": "display_data"
    },
    {
     "data": {
      "text/markdown": [
       "Línea 38156: CCGCGAACCTTTACGCAGTTTTTCCAGCGCACTGTTCAC**GATTACA**TCAGCATATGCATATTCGCCCTGGGCATGGTAAA"
      ],
      "text/plain": [
       "<IPython.core.display.Markdown object>"
      ]
     },
     "metadata": {},
     "output_type": "display_data"
    },
    {
     "data": {
      "text/markdown": [
       "Línea 38576: GTTTCACCGCAGATTATCATCACAACTGAAACC**GATTACA**CCAACCACAACAGACAAAGATTTGTAATATTTTCATATTA"
      ],
      "text/plain": [
       "<IPython.core.display.Markdown object>"
      ]
     },
     "metadata": {},
     "output_type": "display_data"
    },
    {
     "data": {
      "text/markdown": [
       "Línea 38578: AACTCAATTATTTTCATGCACTTAAATCATAACTAAGATAAATGTTAGTGTAAGC**GATTACA**CTGATGTGATTTGCTTCA"
      ],
      "text/plain": [
       "<IPython.core.display.Markdown object>"
      ]
     },
     "metadata": {},
     "output_type": "display_data"
    },
    {
     "data": {
      "text/markdown": [
       "Línea 39705: CACAGCTAGGTTTAGGTGCA**GATTACA**CCTATAGCAACGGCTACCGCGACGCGAACGGCATCAACTCTAACGCGACCAGT"
      ],
      "text/plain": [
       "<IPython.core.display.Markdown object>"
      ]
     },
     "metadata": {},
     "output_type": "display_data"
    },
    {
     "data": {
      "text/markdown": [
       "Línea 40842: CGAAAATCATCAATTGCTTGAACAGAATTAAATTAACAGAGATGAAAGAATTCTCATCAGAAAAAATATAT**GATTACA**TC"
      ],
      "text/plain": [
       "<IPython.core.display.Markdown object>"
      ]
     },
     "metadata": {},
     "output_type": "display_data"
    },
    {
     "data": {
      "text/markdown": [
       "Línea 41028: TATTATTCAACTTTATGGTGAG**GATTACA**CAATGACCAGTCCAAATATTCTCTTAACCCGTATTGATAACCGTCTGGTTC"
      ],
      "text/plain": [
       "<IPython.core.display.Markdown object>"
      ]
     },
     "metadata": {},
     "output_type": "display_data"
    },
    {
     "data": {
      "text/markdown": [
       "Línea 41344: CAGTTTCTTCGGTCAGAGCACG**GATTACA**GAACCGCCTTTACCGATAACATCTTTGATCTTGTCCGGGTTGATCTTGATG"
      ],
      "text/plain": [
       "<IPython.core.display.Markdown object>"
      ]
     },
     "metadata": {},
     "output_type": "display_data"
    },
    {
     "data": {
      "text/markdown": [
       "Línea 41619: ACCGTGTTTGGTCATATCGCCCATGGTTTCACCAGTACCCTGGTC**GATTACA**CGCGTACCTACCGGCACTTTAATCGTCA"
      ],
      "text/plain": [
       "<IPython.core.display.Markdown object>"
      ]
     },
     "metadata": {},
     "output_type": "display_data"
    },
    {
     "data": {
      "text/markdown": [
       "Línea 41655: AGGATTATGGGCGCTATCTCGGCACTGCTTTCCAGTTGATCGACGATTTACTC**GATTACA**ATGCCGATGGCGAACAGTTA"
      ],
      "text/plain": [
       "<IPython.core.display.Markdown object>"
      ]
     },
     "metadata": {},
     "output_type": "display_data"
    },
    {
     "data": {
      "text/markdown": [
       "Línea 42752: TGTTGCGGAAGTCGTGCGAGGTG**GATTACA**GGCGCTGCCTAAAGGGCAATATGAAGCGGCAGAGTCGCTGGCGTTGGGTT"
      ],
      "text/plain": [
       "<IPython.core.display.Markdown object>"
      ]
     },
     "metadata": {},
     "output_type": "display_data"
    },
    {
     "data": {
      "text/markdown": [
       "Línea 42942: GCGCGTCGTCTGGAAAAA**GATTACA**GCGTTAAACTCATCGAACGTAATCAGCAGCGCGCTGCCGAACTGGCGGAAAAGTT"
      ],
      "text/plain": [
       "<IPython.core.display.Markdown object>"
      ]
     },
     "metadata": {},
     "output_type": "display_data"
    },
    {
     "data": {
      "text/markdown": [
       "Línea 43092: CCAGGATCTCGCCTTTGAAGATCCACACTTTAACGCC**GATTACA**CCGTAAGTGGTGTGCGCTTCAGAGGTGTTGTAGTCG"
      ],
      "text/plain": [
       "<IPython.core.display.Markdown object>"
      ]
     },
     "metadata": {},
     "output_type": "display_data"
    },
    {
     "data": {
      "text/markdown": [
       "Línea 43229: AAGAGCGGGCTGCTGGCCCCGGTGTTGGAAAAGCTGGCT**GATTACA**ATGAAAACCGGCAGAAAATCCGCAGCAAGCTCAT"
      ],
      "text/plain": [
       "<IPython.core.display.Markdown object>"
      ]
     },
     "metadata": {},
     "output_type": "display_data"
    },
    {
     "data": {
      "text/markdown": [
       "Línea 43374: GCGGACCTGCTTTCAGCTGTTCCTGGATACCTTTATCAACGGCCGGGATGTATTCGCCAGG**GATTACA**CCACCTTTAATG"
      ],
      "text/plain": [
       "<IPython.core.display.Markdown object>"
      ]
     },
     "metadata": {},
     "output_type": "display_data"
    },
    {
     "data": {
      "text/markdown": [
       "Línea 43739: CTCCATCATCTGGTGTCGTAAACGCGAC**GATTACA**AACCGCTGTGGCGTACTCCGGCTTTCGGGCTGATGACCACCCTCG"
      ],
      "text/plain": [
       "<IPython.core.display.Markdown object>"
      ]
     },
     "metadata": {},
     "output_type": "display_data"
    },
    {
     "data": {
      "text/markdown": [
       "Línea 44190: CGATGGCGTGACTCACCGTTTCCGTATTGTCGGCTACGATGAAATTTTTGGCCGTAAA**GATTACA**TCTCTATCGATTCCC"
      ],
      "text/plain": [
       "<IPython.core.display.Markdown object>"
      ]
     },
     "metadata": {},
     "output_type": "display_data"
    },
    {
     "data": {
      "text/markdown": [
       "Línea 44513: TCGTCTGGACCTACTCCGGTGTGCGTCCGCTGTGTGATGATGAGTCCGACTCGCCGCAGGCTATTACCCGT**GATTACA**CC"
      ],
      "text/plain": [
       "<IPython.core.display.Markdown object>"
      ]
     },
     "metadata": {},
     "output_type": "display_data"
    },
    {
     "data": {
      "text/markdown": [
       "Línea 45131: ATGCGTTTTGCGCTGAATAATCCACAGATTCACATCGCGG**GATTACA**CCGCGCACTTAAAGGCGTTTCGCACTATCTTGC"
      ],
      "text/plain": [
       "<IPython.core.display.Markdown object>"
      ]
     },
     "metadata": {},
     "output_type": "display_data"
    },
    {
     "data": {
      "text/markdown": [
       "Línea 45248: CAGCCTGCTGTCTGACCGC**GATTACA**CCTGGAACGACAACGGCGAACTCATCCGCATCAGCAGCCCGCGCCAGACCCGGA"
      ],
      "text/plain": [
       "<IPython.core.display.Markdown object>"
      ]
     },
     "metadata": {},
     "output_type": "display_data"
    },
    {
     "data": {
      "text/markdown": [
       "Línea 45281: ATGGAACTTAAAAAATTGATGGAACATATTTCTATTATCCCC**GATTACA**GACAAACCTGGAAAGTGGAACATAAATTATC"
      ],
      "text/plain": [
       "<IPython.core.display.Markdown object>"
      ]
     },
     "metadata": {},
     "output_type": "display_data"
    },
    {
     "data": {
      "text/markdown": [
       "Línea 45286: CAATGCACAGTCTGGTCATCGGACAGATCAAGACGGATGAGAAATCTAATGA**GATTACA**GCTATCCCAGAACTTCTTAAC"
      ],
      "text/plain": [
       "<IPython.core.display.Markdown object>"
      ]
     },
     "metadata": {},
     "output_type": "display_data"
    },
    {
     "data": {
      "text/markdown": [
       "Línea 45555: CATGACTAAACACTAT**GATTACA**TCGCCATCGGCGGCGGCAGCGGCGGTATCGCCTCCATCAACCGCGCGGCTATGTACG"
      ],
      "text/plain": [
       "<IPython.core.display.Markdown object>"
      ]
     },
     "metadata": {},
     "output_type": "display_data"
    },
    {
     "data": {
      "text/markdown": [
       "Línea 45567: TCTCTCTGAACGCCTGTTTAATAACAAGCCGGATGAGCATCTG**GATTACA**GCAACATTCCGACCGTGGTCTTCAGCCATC"
      ],
      "text/plain": [
       "<IPython.core.display.Markdown object>"
      ]
     },
     "metadata": {},
     "output_type": "display_data"
    },
    {
     "data": {
      "text/markdown": [
       "Línea 45701: ATGCGTTAAAAGAAAGCTGGCAATCCAATTGCCAGCTTAAGTCGAAACAAGGAGACTCGATATTTAAATCG**GATTACA**TT"
      ],
      "text/plain": [
       "<IPython.core.display.Markdown object>"
      ]
     },
     "metadata": {},
     "output_type": "display_data"
    },
    {
     "data": {
      "text/markdown": [
       "Línea 46219: CGGGGGTCAGCAAAACAGCG**GATTACA**AAGCGCGGGCGCAGAAATTCTTTGATGAACTGGACGCCTTCTTTACTGAACTT"
      ],
      "text/plain": [
       "<IPython.core.display.Markdown object>"
      ]
     },
     "metadata": {},
     "output_type": "display_data"
    },
    {
     "data": {
      "text/markdown": [
       "Línea 46708: AGCGACTGGAAACCTGCCGCCGGGCAAACCTGGCATAGCTTTAAC**GATTACA**TTAATTTCAGCGACAAAACAGGCTGGGA"
      ],
      "text/plain": [
       "<IPython.core.display.Markdown object>"
      ]
     },
     "metadata": {},
     "output_type": "display_data"
    },
    {
     "data": {
      "text/markdown": [
       "Línea 46934: GTTACAGAGATAGTTGAAAAAGCGGCTAACAATTTGCCAGCCGTTGTGGAAATGAT**GATTACA**TCGCTGCGCGATAAATC"
      ],
      "text/plain": [
       "<IPython.core.display.Markdown object>"
      ]
     },
     "metadata": {},
     "output_type": "display_data"
    },
    {
     "data": {
      "text/markdown": [
       "Línea 47035: CTGCCGGGCAGTTACAGAGCCAGCACCTGAACAGCCTGCTGTCTGACCGC**GATTACA**CCTGGAACGACAACGGCGAACTC"
      ],
      "text/plain": [
       "<IPython.core.display.Markdown object>"
      ]
     },
     "metadata": {},
     "output_type": "display_data"
    },
    {
     "data": {
      "text/markdown": [
       "Línea 47218: G**GATTACA**GTTTCGATATTCTGGAAGCCCGCTACGCCATTGAAGCCAGCACCGCATGGCATGCGGCAATGCGCGCCACAC"
      ],
      "text/plain": [
       "<IPython.core.display.Markdown object>"
      ]
     },
     "metadata": {},
     "output_type": "display_data"
    },
    {
     "data": {
      "text/markdown": [
       "Línea 47232: TCGGCAAACCGACCGGACTGGAA**GATTACA**TCGGCTGGCTGGGGAATAACTTCGATCCGTCCATCTCATGGAAAGACCTT"
      ],
      "text/plain": [
       "<IPython.core.display.Markdown object>"
      ]
     },
     "metadata": {},
     "output_type": "display_data"
    },
    {
     "data": {
      "text/markdown": [
       "Línea 47247: GGGGTATCCGGGAGCGGTATTGAGAGATTAGTTACTGTAGGCCGGATAGAT**GATTACA**TCGCATCCGGCACGATCACAGG"
      ],
      "text/plain": [
       "<IPython.core.display.Markdown object>"
      ]
     },
     "metadata": {},
     "output_type": "display_data"
    },
    {
     "data": {
      "text/markdown": [
       "Línea 47400: AAGGGCTGAAGGGATTCGGATGTGATGGTAT**GATTACA**GACATTCGTGTCTGAGATTGTCTCTGACTCCATAATTCGAAG"
      ],
      "text/plain": [
       "<IPython.core.display.Markdown object>"
      ]
     },
     "metadata": {},
     "output_type": "display_data"
    },
    {
     "data": {
      "text/markdown": [
       "Línea 47620: **GATTACA**CGCATACCTTTAGCAGATACGCGCAGGGTGACAAAACGCTTCTCGCTCTCAACCCAGAAACGGTGAGAGTGCA"
      ],
      "text/plain": [
       "<IPython.core.display.Markdown object>"
      ]
     },
     "metadata": {},
     "output_type": "display_data"
    },
    {
     "data": {
      "text/markdown": [
       "Línea 47786: CCAGGGCATGCAGATTCTGGCAACCCATCTTTCTGATAACGCTGTCGATTTCCGCGAAATT**GATTACA**CTCGCCCGACCT"
      ],
      "text/plain": [
       "<IPython.core.display.Markdown object>"
      ]
     },
     "metadata": {},
     "output_type": "display_data"
    },
    {
     "data": {
      "text/markdown": [
       "Línea 47920: ACGCTGAGTCGGGTCATTGGT**GATTACA**CCACCCAATGCGCAGTAAGGGATATTGACGACGGTATAAAGTAAGGTAAGTA"
      ],
      "text/plain": [
       "<IPython.core.display.Markdown object>"
      ]
     },
     "metadata": {},
     "output_type": "display_data"
    },
    {
     "data": {
      "text/markdown": [
       "Línea 48331: ATTTGTGTACCCTGCG**GATTACA**GCGCACCCAGTGGCGCGGGACGTTGACTAACCCCGGATAAGCCCGATGGTGGGTAAA"
      ],
      "text/plain": [
       "<IPython.core.display.Markdown object>"
      ]
     },
     "metadata": {},
     "output_type": "display_data"
    },
    {
     "data": {
      "text/markdown": [
       "Línea 49382: CGCCTGAGCGCAAAAGGAATATAAAAATGACCACGAAGAAAGCT**GATTACA**TTTGGTTCAATGGGGAGATGGTTCGCTGG"
      ],
      "text/plain": [
       "<IPython.core.display.Markdown object>"
      ]
     },
     "metadata": {},
     "output_type": "display_data"
    },
    {
     "data": {
      "text/markdown": [
       "Línea 49802: GATAATTGAGATCCCTCTCCCTGACAGGAT**GATTACA**TAAATAATAGTGACAAAAATAAATTATTTATTTATCCAGAAAA"
      ],
      "text/plain": [
       "<IPython.core.display.Markdown object>"
      ]
     },
     "metadata": {},
     "output_type": "display_data"
    },
    {
     "data": {
      "text/markdown": [
       "Línea 49805: TATGTGTAGGATCAAGCTCAGGTTAAATATTCACTCAGGAAGTTATTACTCAGGAAGCAAAGAG**GATTACA**GAATTATCT"
      ],
      "text/plain": [
       "<IPython.core.display.Markdown object>"
      ]
     },
     "metadata": {},
     "output_type": "display_data"
    },
    {
     "data": {
      "text/markdown": [
       "Línea 50714: GTTCCAGATGCAGATTTCTCAGCTC**GATTACA**ACAGCTATGTTGGCGTTATCGGCATTGGCCGCATCAAGCGCGGTAAAG"
      ],
      "text/plain": [
       "<IPython.core.display.Markdown object>"
      ]
     },
     "metadata": {},
     "output_type": "display_data"
    },
    {
     "data": {
      "text/markdown": [
       "Línea 52032: CTGCGCTATAACGGCGAACTGATTAAATCACAACTCATTACCAGCTATAGCCATAGCAAA**GATTACA**ACTACGATCCCCA"
      ],
      "text/plain": [
       "<IPython.core.display.Markdown object>"
      ]
     },
     "metadata": {},
     "output_type": "display_data"
    },
    {
     "data": {
      "text/markdown": [
       "Línea 52662: CTATGCTGACTTTCCGGCAGCGTTGATTCGT**GATTACA**CCGATCTGGAAATTCTGGCAGAGACGGAAGAAGGGGATGCAT"
      ],
      "text/plain": [
       "<IPython.core.display.Markdown object>"
      ]
     },
     "metadata": {},
     "output_type": "display_data"
    },
    {
     "data": {
      "text/markdown": [
       "Línea 52680: GCGGTCGTTGG**GATTACA**TCTTCAGCTATATCAAAACGTTGAAAAACTATCCCGATCGCGTCCTGCCAGACAGACAGGCA"
      ],
      "text/plain": [
       "<IPython.core.display.Markdown object>"
      ]
     },
     "metadata": {},
     "output_type": "display_data"
    },
    {
     "data": {
      "text/markdown": [
       "Línea 52758: TGAAAAAATTTAATAT**GATTACA**ACTAAAGAAATATCATAAATCGCTCAATCTCATAATGCAGCCGTAAAAGTTTCGGTG"
      ],
      "text/plain": [
       "<IPython.core.display.Markdown object>"
      ]
     },
     "metadata": {},
     "output_type": "display_data"
    },
    {
     "data": {
      "text/markdown": [
       "Línea 52813: CTTCGCTAACTACTGTCTCGCTGACTTCGTTGCGCCGAAGCTTTCTGGTAAAGCA**GATTACA**TCGGCGCATTTGCCGTGA"
      ],
      "text/plain": [
       "<IPython.core.display.Markdown object>"
      ]
     },
     "metadata": {},
     "output_type": "display_data"
    },
    {
     "data": {
      "text/markdown": [
       "Línea 52814: CTGGCGGGCTGGAAGAGGACGCACTGGCTGATGCCTTTGAAGCGCAGCACGAT**GATTACA**ACAAAATCATGGTGAAAGCG"
      ],
      "text/plain": [
       "<IPython.core.display.Markdown object>"
      ]
     },
     "metadata": {},
     "output_type": "display_data"
    },
    {
     "data": {
      "text/markdown": [
       "Línea 53364: GAAAAGGCCGCTCAGAAAGCGGCCTTAAC**GATTACA**GCATCGGCTTAAGGAAGCGTGCCGTGTGTGATGCTTCGCACTCC"
      ],
      "text/plain": [
       "<IPython.core.display.Markdown object>"
      ]
     },
     "metadata": {},
     "output_type": "display_data"
    },
    {
     "data": {
      "text/markdown": [
       "Línea 53576: ATCCACGGCTGGTGATCCTGTGGGCGGGGTATCCCTTCTCGCGC**GATTACA**ACAAGCCGCGTGGACATGCTTTTGCTGTG"
      ],
      "text/plain": [
       "<IPython.core.display.Markdown object>"
      ]
     },
     "metadata": {},
     "output_type": "display_data"
    },
    {
     "data": {
      "text/markdown": [
       "Línea 53648: ATCCGCGCTAATCCACAAAACAGCGAACAGTGGGCGTTACTGGGCGAGTACTATCTGTGGCAAAAC**GATTACA**GCAATTC"
      ],
      "text/plain": [
       "<IPython.core.display.Markdown object>"
      ]
     },
     "metadata": {},
     "output_type": "display_data"
    },
    {
     "data": {
      "text/markdown": [
       "Línea 54089: AAATGAGAAATCACCGACAGAAACGGTT**GATTACA**GTGTGTTGCAACGAGCATTAAGCGCAGAAGTCGATCTCTATTGCC"
      ],
      "text/plain": [
       "<IPython.core.display.Markdown object>"
      ]
     },
     "metadata": {},
     "output_type": "display_data"
    },
    {
     "data": {
      "text/markdown": [
       "Línea 54502: AACTTCTT**GATTACA**TAGTATTACGAAAGGATTTTACTGAGAACCAGAAGTAATATTCCTTACCATCAAAATTCATCATC"
      ],
      "text/plain": [
       "<IPython.core.display.Markdown object>"
      ]
     },
     "metadata": {},
     "output_type": "display_data"
    },
    {
     "data": {
      "text/markdown": [
       "Línea 55208: CGCTACCCGGTATAAACGACA**GATTACA**GGAATGACTTGAACGGCAGATCCGGTTCAATAGTGAAGCAATCATCGAAACC"
      ],
      "text/plain": [
       "<IPython.core.display.Markdown object>"
      ]
     },
     "metadata": {},
     "output_type": "display_data"
    },
    {
     "data": {
      "text/markdown": [
       "Línea 55363: GTGGTGATGTTGTATGTGAATCCTAGTGTGATTGGCGCGTTCACGAT**GATTACA**ACCGTTTCCGCGATTCTGTTTATGTT"
      ],
      "text/plain": [
       "<IPython.core.display.Markdown object>"
      ]
     },
     "metadata": {},
     "output_type": "display_data"
    },
    {
     "data": {
      "text/markdown": [
       "Línea 55444: GACTGGCAGGGTAAACCGCTG**GATTACA**CTCCGCGTGAGTCGTTCCTGAATCCGGGGTTCAGAGTGTCTATTTACTAAAT"
      ],
      "text/plain": [
       "<IPython.core.display.Markdown object>"
      ]
     },
     "metadata": {},
     "output_type": "display_data"
    },
    {
     "data": {
      "text/markdown": [
       "Línea 55542: AAAATGACC**GATTACA**CGCTCTCTATGCGTACGGCAGTGAAGGGACAGGAGATCCCGCCCGCGACTATTACCCTCGACGC"
      ],
      "text/plain": [
       "<IPython.core.display.Markdown object>"
      ]
     },
     "metadata": {},
     "output_type": "display_data"
    },
    {
     "data": {
      "text/markdown": [
       "Línea 55599: TGAAAGC**GATTACA**AACTTGTGATTAACGTTTTATTTACTTTTTTGAAGTGTGATGTAACGCAATCTGTTACATAACGAA"
      ],
      "text/plain": [
       "<IPython.core.display.Markdown object>"
      ]
     },
     "metadata": {},
     "output_type": "display_data"
    },
    {
     "data": {
      "text/markdown": [
       "Línea 55988: GGCCGGAGCATGCTCCGGCCTTCGTTTTCATCACTGTGTTTT**GATTACA**GCGCGGCGATAACAGCCTGCTGTTCAATCAG"
      ],
      "text/plain": [
       "<IPython.core.display.Markdown object>"
      ]
     },
     "metadata": {},
     "output_type": "display_data"
    },
    {
     "data": {
      "text/markdown": [
       "Línea 56653: GTCCGGCCTGAAAAGGTCGGGGAACTGATTATCGGAT**GATTACA**TTCTCCAGCATCAAAGCCTCGGGTTGAGTTGAAAGG"
      ],
      "text/plain": [
       "<IPython.core.display.Markdown object>"
      ]
     },
     "metadata": {},
     "output_type": "display_data"
    },
    {
     "data": {
      "text/markdown": [
       "Línea 56860: AGGAACTTCGGCAGGATCAGACCTGCGCA**GATTACA**CTTGGGATCGTCACCAGTACGCCATAGATATAAACCATCCCCAT"
      ],
      "text/plain": [
       "<IPython.core.display.Markdown object>"
      ]
     },
     "metadata": {},
     "output_type": "display_data"
    },
    {
     "data": {
      "text/markdown": [
       "Línea 56877: GAAACGCCCAGGCGCGGAAGCG**GATTACA**CCGAAGAAGAAATTGCTCAGGCAGCTGAACGCTTCGCCACTATGAGCGATG"
      ],
      "text/plain": [
       "<IPython.core.display.Markdown object>"
      ]
     },
     "metadata": {},
     "output_type": "display_data"
    },
    {
     "data": {
      "text/markdown": [
       "Línea 57085: TGTATAAC**GATTACA**AATAGTCATCAGCACATTACACCTCTTGAATTGATGGGTTGCATAGAAAATATACACCTTAAGTG"
      ],
      "text/plain": [
       "<IPython.core.display.Markdown object>"
      ]
     },
     "metadata": {},
     "output_type": "display_data"
    },
    {
     "data": {
      "text/markdown": [
       "Línea 57585: ACTCATTCACCGGCCTGCAGCGGATGTTTCTT**GATTACA**GCGTCACCTTTACCGCTGAAGATTTTCAGGACTATCAGGCC"
      ],
      "text/plain": [
       "<IPython.core.display.Markdown object>"
      ]
     },
     "metadata": {},
     "output_type": "display_data"
    },
    {
     "data": {
      "text/markdown": [
       "Línea 57687: GCGGTTTGTACGGCGCATGACCTTCAAACATATCGCA**GATTACA**CCTTCATCCAGCGCGCGGCGGGCTTCGGCAGGAAGC"
      ],
      "text/plain": [
       "<IPython.core.display.Markdown object>"
      ]
     },
     "metadata": {},
     "output_type": "display_data"
    },
    {
     "data": {
      "text/markdown": [
       "Línea 57718: CCGTCAGGCATCTGACACCATC**GATTACA**GCGTCGGCTTTACTGATATGGCGCGTCTGGGCGACCAGGTAGACGGTCAGC"
      ],
      "text/plain": [
       "<IPython.core.display.Markdown object>"
      ]
     },
     "metadata": {},
     "output_type": "display_data"
    }
   ],
   "source": [
    "# cargamos el adn del fichero\n",
    "with open(\"E_coli.txt\", \"r\") as file:\n",
    "    adn = file.read()\n",
    "\n",
    "# Para cargar el adn desde la web    \n",
    "# import requests\n",
    "\n",
    "# cargamos el adn desde la web\n",
    "# URL_adn_e_coli = 'https://raw.githubusercontent.com/javacasm/CursoBioInformatica2020/master/TareaExtra/E_coli.txt'\n",
    "\n",
    "# adnWeb = requests.get(URL_adn_e_coli)\n",
    "\n",
    "# adn = adnWeb.content.decode()\n",
    "    \n",
    "todas,resaltadas = resalta(adn, 'GATTACA')\n",
    "resaltadas\n",
    "printNumberedListmd(resaltadas)\n",
    "# printListmd(todas)\n"
   ]
  },
  {
   "cell_type": "code",
   "execution_count": 43,
   "metadata": {},
   "outputs": [
    {
     "name": "stdout",
     "output_type": "stream",
     "text": [
      "Se han encontrado 231 fragmentos\n",
      "Fragmento   1: longitud 23254 -> ...TATCGGCGTGACC**GATTACA**CCATTCTCGGCACGGTAAAA...\n",
      "Fragmento   2: longitud 57603 -> ...ACGTCTTAGCCAT**GATTACA**CCCCTTCTGCTACATAGCGG...\n",
      "Fragmento   3: longitud 74587 -> ...TATATCCTTGCCT**GATTACA**GCCTGGCATTACCTTCAATT...\n",
      "Fragmento   4: longitud 25979 -> ...ACTGCGCGTGGGT**GATTACA**CCGTAGCGATTGGTAACCCG...\n",
      "Fragmento   5: longitud 80508 -> ...GATCGGCATTGGT**GATTACA**CCATTCGTGCGTAAATAAAA...\n",
      "Fragmento   6: longitud 50844 -> ...CGGATACATACTG**GATTACA**CTGCAGGCACGCCTTATGAG...\n",
      "Fragmento   7: longitud  2782 -> ...TTATATCGAATGT**GATTACA**ATCGGTGGCGGCGGCACAGT...\n",
      "Fragmento   8: longitud  5880 -> ...AACATCAGTGGGC**GATTACA**ACGGGAAGGGCAGAAAGTCA...\n",
      "Fragmento   9: longitud 35170 -> ...GCCAGAAGCCATC**GATTACA**AACGTTGAACGACTGGGTTA...\n",
      "Fragmento  10: longitud 28709 -> ...GGCTGTAGCGAAT**GATTACA**GCCAGTACGTTACCTCGCGC...\n",
      "Fragmento  11: longitud  6804 -> ...CTGGGTAAGATCA**GATTACA**ACCTGTACGCCAATACTATC...\n",
      "Fragmento  12: longitud   398 -> ...TGGCGCTATCGCT**GATTACA**AAGATAAAGAAATTATCTAC...\n",
      "Fragmento  13: longitud 85986 -> ...GTTGCGAAAAACC**GATTACA**ATTTTTTAATTATTCTGGCT...\n",
      "Fragmento  14: longitud  1868 -> ...ACGCGGCCTTAGT**GATTACA**CGTTGTATCAATGATGATCG...\n",
      "Fragmento  15: longitud 17306 -> ...CGCCGATAACCAC**GATTACA**TTAATGCACTGGCGAACAGC...\n",
      "Fragmento  16: longitud 13162 -> ...CGGACAAAATGCC**GATTACA**TTCCCTTTCTGGCGAATGTA...\n",
      "Fragmento  17: longitud  4810 -> ...ATGCGGATAAAGT**GATTACA**CTGCAACCGCATGCCGGAGA...\n",
      "Fragmento  18: longitud 24756 -> ...TTCTGACGGCGGT**GATTACA**GGTCTGGTAAATATCAGCAA...\n",
      "Fragmento  19: longitud   195 -> ...AACCCAGACTGGC**GATTACA**CGCGGCGTTCGTTTATTTAT...\n",
      "Fragmento  20: longitud 23186 -> ...GTATAATTCACGC**GATTACA**CCGCATTGCGGTATCAACGC...\n",
      "Fragmento  21: longitud  3222 -> ...TTATATCGAATGT**GATTACA**ATCGGTGGCGGCGGCACAGT...\n",
      "Fragmento  22: longitud  1971 -> ...TGTCCGATGAGAA**GATTACA**TCGATGTGACAGGCCATCAA...\n",
      "Fragmento  23: longitud 32111 -> ...ACGCTTCATCGCG**GATTACA**TAACCGTCATATTCAACTGA...\n",
      "Fragmento  24: longitud  3431 -> ...TTGCGTGCCAGCA**GATTACA**AGGTTCAACGAGAAATGGTA...\n",
      "Fragmento  25: longitud 29090 -> ...CTTTTTGCTGGTG**GATTACA**GCGCGGTTTCTACCCTGGAT...\n",
      "Fragmento  26: longitud  4196 -> ...AAAGGGTAGTTCA**GATTACA**CGGTCACCTGGAAAGGGGGC...\n",
      "Fragmento  27: longitud 65089 -> ...GATCTAACAATCT**GATTACA**GAACATCGGCAGTACAATTT...\n",
      "Fragmento  28: longitud 10119 -> ...CAGACGGTATCGT**GATTACA**CCGTCCCATAACCCGCCGGA...\n",
      "Fragmento  29: longitud 18158 -> ...GCTGTCTGACCGC**GATTACA**CCTGGAACGACAACGGCGAA...\n",
      "Fragmento  30: longitud  4332 -> ...TTCTATTACACCC**GATTACA**GACAAGCCTGGAAAGTGGTG...\n",
      "Fragmento  31: longitud   373 -> ...TTCTATTATTCCC**GATTACA**GATAAGCCTGGAAAGTAGAG...\n",
      "Fragmento  32: longitud  1260 -> ...TTCTATTATCCCC**GATTACA**GACAAGCCTGGAAAGTGGAA...\n",
      "Fragmento  33: longitud  2403 -> ...ACAGGCTACGGAT**GATTACA**GCCAGTTTTCTGGTGAAAGA...\n",
      "Fragmento  34: longitud 17201 -> ...TCCGCGTATGCAG**GATTACA**CCCTGGAAGCGGATGAAGGT...\n",
      "Fragmento  35: longitud 22271 -> ...TAATGCAAACACG**GATTACA**ATGCAGCTATTGCGCTGGTG...\n",
      "Fragmento  36: longitud  3565 -> ...ATGCAAGCATTAG**GATTACA**GGTTGTGATGCCTGAACTGC...\n",
      "Fragmento  37: longitud 21967 -> ...CTTTGAAGTGGGG**GATTACA**TTTACATCCCTGGCATTAAA...\n",
      "Fragmento  38: longitud 11274 -> ...ACGCTATATACAT**GATTACA**TAGCGAAAGTGTGGATGGTA...\n",
      "Fragmento  39: longitud 14296 -> ...CGAAAACGTCCGT**GATTACA**GCAAATACCTGAACATTCGT...\n",
      "Fragmento  40: longitud 10573 -> ...TTTGATGTTTTTT**GATTACA**AAACAGACGAAAACTGCATC...\n",
      "Fragmento  41: longitud 18425 -> ...GCCGGGCCGAGGA**GATTACA**GCATATGTTCAGTACGGGCG...\n",
      "Fragmento  42: longitud 17403 -> ...AAGGTGCAGCGGT**GATTACA**GCCTTCAGAAATTTTCAGAT...\n",
      "Fragmento  43: longitud 16807 -> ...CACTAAAGCGGAT**GATTACA**CCGGACCGGCAACAGATCTG...\n",
      "Fragmento  44: longitud 25375 -> ...TAAAACCAATCTC**GATTACA**CTCGCATCGTTGCCCCGATG...\n",
      "Fragmento  45: longitud  3233 -> ...ATTAGTCAATGAT**GATTACA**CTCCGATGGAGTTTGTTATT...\n",
      "Fragmento  46: longitud 10095 -> ...ATCGGCGTATTTT**GATTACA**CTCCTGTTAATCCATACAGC...\n",
      "Fragmento  47: longitud 20671 -> ...ATGCGAAGTCGCG**GATTACA**ATACCCATCGGGATCATAAA...\n",
      "Fragmento  48: longitud  6096 -> ...GGAAGAGGGGCAC**GATTACA**TTCGTATCACTCCTCCGGAA...\n",
      "Fragmento  49: longitud 38271 -> ...CGGATACTACTCA**GATTACA**GCGTTTGCTAACCAGGCCTC...\n",
      "Fragmento  50: longitud  2998 -> ...TAGCGCCAGCATG**GATTACA**AAGGGGCGTTTGCGGATGCC...\n",
      "Fragmento  51: longitud 97751 -> ...TAGCACATTAAGT**GATTACA**TTGCCCAGGCCAAACAAAAG...\n",
      "Fragmento  52: longitud   877 -> ...GCAAGTCTCTGCC**GATTACA**ATGCGTTGTTTATCGGCGAT...\n",
      "Fragmento  53: longitud  3501 -> ...TATAAAACTAATG**GATTACA**TCTGATTTCAATCTAGCCAT...\n",
      "Fragmento  54: longitud 19872 -> ...TATTGGGTGAGTT**GATTACA**GCCAACGAGCAGGCCACTGA...\n",
      "Fragmento  55: longitud 10795 -> ...GCCCGGCAAAATG**GATTACA**CCTCGCGCCCGCTGGACGTC...\n",
      "Fragmento  56: longitud   900 -> ...ACCTTACCCTCCG**GATTACA**AATCGGCACGGGGGTACGCC...\n",
      "Fragmento  57: longitud  4529 -> ...GGTACTGGCGACA**GATTACA**AAATCTCGTTCGATAATAAT...\n",
      "Fragmento  58: longitud 12360 -> ...TCAGGCTGCCATT**GATTACA**TCAACGGCCACCAGGCGTAA...\n",
      "Fragmento  59: longitud 49015 -> ...AGTCATTTTTCTT**GATTACA**GGTGTTACCAACTCCCCAAC...\n",
      "Fragmento  60: longitud  6077 -> ...CGTGACAAACGAT**GATTACA**TCCGCCTGTTATCGGCACTG...\n",
      "Fragmento  61: longitud  3522 -> ...TGACAGAAACAAA**GATTACA**ATATCGCTCTTGATTATATC...\n",
      "Fragmento  62: longitud   699 -> ...GTTAATATAAACC**GATTACA**GAAATAAAATTATTTATTAA...\n",
      "Fragmento  63: longitud 12117 -> ...ATTCATCAGCAAC**GATTACA**TTAGTCATTTTATTTTGCCG...\n",
      "Fragmento  64: longitud 12073 -> ...CTTTGCCGAGCTG**GATTACA**ACATATTCCGCGGCCTGGCG...\n",
      "Fragmento  65: longitud 57189 -> ...CCATTGCTTTTTT**GATTACA**GCTGGAGTACGGCCTTGGCC...\n",
      "Fragmento  66: longitud  7357 -> ...GGTCCCAATCCGG**GATTACA**CATGCTGGTTAATACCAGTA...\n",
      "Fragmento  67: longitud 21093 -> ...TCTTCATCGCTCT**GATTACA**TTCACAACGCATATGCGGCA...\n",
      "Fragmento  68: longitud  3365 -> ...TGTCATTCCGCCA**GATTACA**CGCCCGGCATGTTACGTCTC...\n",
      "Fragmento  69: longitud 11195 -> ...TGCTGTAACCCTC**GATTACA**TGCGTTTAAGCGGGCGCAGC...\n",
      "Fragmento  70: longitud  4093 -> ...ACAACTGGGGCGT**GATTACA**TGGCCGCCGGGTTATATGAC...\n",
      "Fragmento  71: longitud 33900 -> ...GTTCAGTACGCCA**GATTACA**TCTGGGGACGGATGATGGCG...\n",
      "Fragmento  72: longitud  3184 -> ...CAGCCATGAAGAA**GATTACA**CGCGCCAGACGCGAGGGATG...\n",
      "Fragmento  73: longitud 16671 -> ...AGCGCGTAATGCC**GATTACA**ACGCGGCAGAAAAAATCCTC...\n",
      "Fragmento  74: longitud  2670 -> ...TTGTCTGCACAAG**GATTACA**TCATGATTATGGCGAAACTG...\n",
      "Fragmento  75: longitud  7951 -> ...CAAACAGTTACTG**GATTACA**GCTGGACAATGCCGACGCCA...\n",
      "Fragmento  76: longitud  2989 -> ...GTGAAGGCACGCT**GATTACA**TTGCGCTGTATAAACGGCAG...\n",
      "Fragmento  77: longitud  5685 -> ...CCTCTGAATTATC**GATTACA**CTGTATTCCCCGGTTAATAC...\n",
      "Fragmento  78: longitud 57391 -> ...CCGGTGGCGATAC**GATTACA**CGAAGCGGAGAAACTGTAAC...\n",
      "Fragmento  79: longitud  9045 -> ...TATTTTGTTACGT**GATTACA**GCGAGTTAAATGTTGCACAG...\n",
      "Fragmento  80: longitud  8109 -> ...TGCCGACTATATC**GATTACA**TGGCGGAGTGGGCACGGCGT...\n",
      "Fragmento  81: longitud 15089 -> ...TGACCTGTGAAAC**GATTACA**GGCATTTAAATTCCAGTTAA...\n",
      "Fragmento  82: longitud  9099 -> ...TCGCTGGACGCAG**GATTACA**TTGCCATTATGGGCGGTCGC...\n",
      "Fragmento  83: longitud  4187 -> ...TTATGGGCTGGAG**GATTACA**CCGTCGTCCGCCACGTCATG...\n",
      "Fragmento  84: longitud 14067 -> ...CCAAAAGTAATGA**GATTACA**GCCATTCCAGAGTTGCTTAA...\n",
      "Fragmento  85: longitud   813 -> ...TTCTATTATCCCC**GATTACA**GACAAGCCTGGAAAATGGAA...\n",
      "Fragmento  86: longitud   403 -> ...AGAAATCTAATGA**GATTACA**GCTATCCCAGAACTTCTTAA...\n",
      "Fragmento  87: longitud 18258 -> ...TTCTCAGGTGCGT**GATTACA**AAGCAGAAGTCGCAAAACTT...\n",
      "Fragmento  88: longitud 30211 -> ...TAATCACATTTGA**GATTACA**TTGAAAACTGGAGGGCTTGG...\n",
      "Fragmento  89: longitud 52437 -> ...CAGAACATTGCTT**GATTACA**TTGAAGGAAACATAAAGAAA...\n",
      "Fragmento  90: longitud  9623 -> ...CCCATTCTTCCTT**GATTACA**GATTCCCCGCGTCTGTAGTG...\n",
      "Fragmento  91: longitud  6191 -> ...GCATTGCCAGAAT**GATTACA**TACCCGCGTTAGTAGCTAAT...\n",
      "Fragmento  92: longitud 31586 -> ...GCTGACCGGTTCC**GATTACA**ACACGTTGCTGACCATCGCC...\n",
      "Fragmento  93: longitud 107221 -> ...CATTGCGGCGATT**GATTACA**CCCTCGCCCACGATGACGGC...\n",
      "Fragmento  94: longitud  2574 -> ...TGATGATCCGAGT**GATTACA**AATAAAACCGGGTTCGTAAT...\n",
      "Fragmento  95: longitud 64423 -> ...CTTTTGCCGCCAC**GATTACA**CCCCTGTATCTTTTTACATC...\n",
      "Fragmento  96: longitud  8023 -> ...CCTGTTAGACGCT**GATTACA**TGGCATACATGCTGAAATAT...\n",
      "Fragmento  97: longitud 52653 -> ...CATGAAATTTCCT**GATTACA**ACGGACGTAGCCAACAAGCG...\n",
      "Fragmento  98: longitud 17223 -> ...TTTTCTCTCGCCT**GATTACA**AATTTGTCGTCTTAAAAAGT...\n",
      "Fragmento  99: longitud  3262 -> ...TCATTGACATCGA**GATTACA**AAAATCCAGACGTGCACTCA...\n",
      "Fragmento 100: longitud 47909 -> ...CCCAACCGTTGTT**GATTACA**CAACCGCCGAGCACATGTTT...\n",
      "Fragmento 101: longitud  3696 -> ...CTTCAACGGGCGC**GATTACA**TCGAGAACATCCAGAATTTG...\n",
      "Fragmento 102: longitud 29011 -> ...CTGGAAGCCACCG**GATTACA**ATTGCCGCTCGGCGCAACCT...\n",
      "Fragmento 103: longitud 16946 -> ...ATATATTAGCACT**GATTACA**ATTATACCTTTTTATTATTC...\n",
      "Fragmento 104: longitud  1501 -> ...GTCCACCTATGTT**GATTACA**AAATCAACCTGCTGGACAAC...\n",
      "Fragmento 105: longitud 16137 -> ...AATTAGCGCAATT**GATTACA**GTCTAAATATCAACGGTGAT...\n",
      "Fragmento 106: longitud    17 -> ...AAATATCAACGGT**GATTACA**AAGCCACTGTTACAGGAGGC...\n",
      "Fragmento 107: longitud  6407 -> ...TTCTTCTTTTTCT**GATTACA**GAAGGCAAAGTGGCAATTAC...\n",
      "Fragmento 108: longitud 17705 -> ...CAGTTTGCAAAAC**GATTACA**GCCTTCCTGACTCACTGACG...\n",
      "Fragmento 109: longitud 11143 -> ...CCTGCAACACGAC**GATTACA**GTGTTGAAGTTCGCTACGGA...\n",
      "Fragmento 110: longitud 76403 -> ...GCGTGGCTTTATT**GATTACA**TCAAGCATGGTAATGAACAG...\n",
      "Fragmento 111: longitud    21 -> ...GGTAATGAACAGC**GATTACA**ACTGTTAAGTGATGCGCTTG...\n",
      "Fragmento 112: longitud  8290 -> ...TTATATCGAATGT**GATTACA**ATCGGTGGCGGCGGCACAGT...\n",
      "Fragmento 113: longitud  9779 -> ...ATGAGCGGCGCTC**GATTACA**CACGCTGCTGCCTGAATTAA...\n",
      "Fragmento 114: longitud 42560 -> ...TGTCTTCCATCAG**GATTACA**TAGTGAAAAAAGGCGTGGAT...\n",
      "Fragmento 115: longitud 125137 -> ...TCTGGCCTACAAC**GATTACA**TGGCGTAGTAATACGCTTTC...\n",
      "Fragmento 116: longitud  4639 -> ...CTCTTTACGTATT**GATTACA**ACGAGATTGACGATAATCGA...\n",
      "Fragmento 117: longitud 36573 -> ...TTACAAAGTAACA**GATTACA**TCAGCGGCATTGCCAAACGC...\n",
      "Fragmento 118: longitud 29229 -> ...GATCATTGAGTGC**GATTACA**CTAAGTACGTCATTATCCAG...\n",
      "Fragmento 119: longitud  6541 -> ...CAATTAAACCGAT**GATTACA**GCGAGCACTACAGAGCTGAT...\n",
      "Fragmento 120: longitud 30513 -> ...TTTGCCATCTTCA**GATTACA**CGGGCTCATCTGCCAGTTGA...\n",
      "Fragmento 121: longitud 14671 -> ...TAACACTGTGCTG**GATTACA**TTGACGCGGTGACGGCAACA...\n",
      "Fragmento 122: longitud  9122 -> ...GGCGTCCATACAG**GATTACA**CGATCAGATTTCTGTTCAGG...\n",
      "Fragmento 123: longitud  4279 -> ...TTTCGCAGACGAA**GATTACA**TCGAATATCGTGGCATCAGT...\n",
      "Fragmento 124: longitud 11930 -> ...GGTAAGAAAAGCG**GATTACA**GCGGATATCGTTTGTTCATC...\n",
      "Fragmento 125: longitud 58003 -> ...CTGACATGCAGTT**GATTACA**CAAATCCAGCACCGTCACCG...\n",
      "Fragmento 126: longitud  8310 -> ...CGGCATGACCTTC**GATTACA**CGGAGTGCTGGGAAATTGGT...\n",
      "Fragmento 127: longitud   941 -> ...TGCAGATGTTGGT**GATTACA**GGCTGAACGGGGAGGATAAC...\n",
      "Fragmento 128: longitud  8493 -> ...CGTCACACAGGGT**GATTACA**GGTTGCTGCTATCGCCTTTC...\n",
      "Fragmento 129: longitud 50421 -> ...CCGAAATATCCCG**GATTACA**CACCCATCGTCAGGCGCTGG...\n",
      "Fragmento 130: longitud   910 -> ...GTTCCTGAAAGAT**GATTACA**CCTATCTGGCGGTGGAAATT...\n",
      "Fragmento 131: longitud 11629 -> ...CAAATTCATCACC**GATTACA**GCAACAGCATCCGCAGCTCC...\n",
      "Fragmento 132: longitud 61249 -> ...CGAAGGAAAACTC**GATTACA**CCATTGCTGATTCTGTCGCC...\n",
      "Fragmento 133: longitud 55251 -> ...GATTCATCCGAAA**GATTACA**GTTATTTCAACACATTAAGC...\n",
      "Fragmento 134: longitud  6334 -> ...GATAATTTTTTTT**GATTACA**AACAGAGATGTTAAACCAAG...\n",
      "Fragmento 135: longitud  3104 -> ...GATGAATAGGGTG**GATTACA**TGACCAAAGTAAGGACTAAA...\n",
      "Fragmento 136: longitud 12389 -> ...CTCAATGAAACTT**GATTACA**TAAAACAATTTTATTTTTCA...\n",
      "Fragmento 137: longitud  4423 -> ...AAATTGAACTGAA**GATTACA**ATCAATTTAACAACAAGTTA...\n",
      "Fragmento 138: longitud  8003 -> ...CACCTTGGGTCGT**GATTACA**CGCGACATAAAACCCGACAC...\n",
      "Fragmento 139: longitud 21382 -> ...ACCCAGCGAAGTA**GATTACA**ACGTTGGCTACACCTCGCTT...\n",
      "Fragmento 140: longitud 25358 -> ...TCTGGCGGATATC**GATTACA**TCGTGATTAACCATGCAGAA...\n",
      "Fragmento 141: longitud 24332 -> ...GTGCGCCTTATGT**GATTACA**ACGAAAATAAAAACCATCAC...\n",
      "Fragmento 142: longitud  5091 -> ...TGTGGTGGATGGC**GATTACA**CCCCGCATTCAGCCGTCGAT...\n",
      "Fragmento 143: longitud 54143 -> ...GGCGACCCGCTGC**GATTACA**GCAAATCATCACTAACCTGG...\n",
      "Fragmento 144: longitud   231 -> ...GGCTGGGGCTGGT**GATTACA**CAAAAACTGGTTAATGAAAT...\n",
      "Fragmento 145: longitud  8209 -> ...GATGGGGTATTTG**GATTACA**GAAGAGGCTTAAGTTGATTA...\n",
      "Fragmento 146: longitud    96 -> ...ACTTCACCGGAGA**GATTACA**CACCGAGATGACCTCTAACT...\n",
      "Fragmento 147: longitud   745 -> ...TCATGTTGAACTT**GATTACA**CCAGCGTAAATCTGATTGAG...\n",
      "Fragmento 148: longitud   715 -> ...AGGAGTTTTTCTT**GATTACA**CATATTAGCCCGCTTGGCTC...\n",
      "Fragmento 149: longitud  4930 -> ...TCAGCGTTTACCA**GATTACA**AAGCGGGTCGACCGCCAATG...\n",
      "Fragmento 150: longitud  8684 -> ...TGCGATCAACGCT**GATTACA**AATCGATGCTATTAAAACGT...\n",
      "Fragmento 151: longitud 10020 -> ...GGAAGAGAAAGGC**GATTACA**ACTCCGGTACGGTGCGCTTT...\n",
      "Fragmento 152: longitud 18954 -> ...ACCTGCCCCTGGC**GATTACA**AATCACGATACCTACGTTTG...\n",
      "Fragmento 153: longitud  7125 -> ...GCGAATGGAGGGA**GATTACA**CGAGATAAAGAACGCGAGCG...\n",
      "Fragmento 154: longitud  3125 -> ...CGCGTACGTGGGC**GATTACA**TCCTACCGTGCAAGGACTGC...\n",
      "Fragmento 155: longitud  9857 -> ...GCCATTTTTCAAG**GATTACA**AGACTGTTGCGGAAATTAAT...\n",
      "Fragmento 156: longitud  2875 -> ...TAAGGCTATTTCA**GATTACA**TCACTGAATTCCTAAGATAA...\n",
      "Fragmento 157: longitud   998 -> ...ACTATATTTGATA**GATTACA**AAATAAAAGTGATATACAGA...\n",
      "Fragmento 158: longitud  9425 -> ...CCCCAATCTGCTG**GATTACA**AAATGCCGACCATGCCGGAT...\n",
      "Fragmento 159: longitud  8008 -> ...TAAAGCGGTCATC**GATTACA**GCTTTCACGGTGTGATCCAG...\n",
      "Fragmento 160: longitud  9888 -> ...TTTAACCATTTGC**GATTACA**ACTCGCCGACGCCGCTGCTG...\n",
      "Fragmento 161: longitud 34128 -> ...GCGCACTGTTCAC**GATTACA**TCAGCATATGCATATTCGCC...\n",
      "Fragmento 162: longitud 33587 -> ...CACAACTGAAACC**GATTACA**CCAACCACAACAGACAAAGA...\n",
      "Fragmento 163: longitud   175 -> ...TGTTAGTGTAAGC**GATTACA**CTGATGTGATTTGCTTCACA...\n",
      "Fragmento 164: longitud 90118 -> ...AGGTTTAGGTGCA**GATTACA**CCTATAGCAACGGCTACCGC...\n",
      "Fragmento 165: longitud 91004 -> ...AGAAAAAATATAT**GATTACA**TCGATATAATCATTGAAGAT...\n",
      "Fragmento 166: longitud 14824 -> ...ACTTTATGGTGAG**GATTACA**CAATGACCAGTCCAAATATT...\n",
      "Fragmento 167: longitud 25273 -> ...CGGTCAGAGCACG**GATTACA**GAACCGCCTTTACCGATAAC...\n",
      "Fragmento 168: longitud 22016 -> ...CAGTACCCTGGTC**GATTACA**CGCGTACCTACCGGCACTTT...\n",
      "Fragmento 169: longitud  2881 -> ...CGACGATTTACTC**GATTACA**ATGCCGATGGCGAACAGTTA...\n",
      "Fragmento 170: longitud 87723 -> ...GTCGTGCGAGGTG**GATTACA**GGCGCTGCCTAAAGGGCAAT...\n",
      "Fragmento 171: longitud 15188 -> ...TCGTCTGGAAAAA**GATTACA**GCGTTAAACTCATCGAACGT...\n",
      "Fragmento 172: longitud 12012 -> ...ACACTTTAACGCC**GATTACA**CCGTAAGTGGTGTGCGCTTC...\n",
      "Fragmento 173: longitud 10955 -> ...GGAAAAGCTGGCT**GATTACA**ATGAAAACCGGCAGAAAATC...\n",
      "Fragmento 174: longitud 11615 -> ...TGTATTCGCCAGG**GATTACA**CCACCTTTAATGTCGTTGAT...\n",
      "Fragmento 175: longitud 29160 -> ...TCGTAAACGCGAC**GATTACA**AACCGCTGTGGCGTACTCCG...\n",
      "Fragmento 176: longitud 36103 -> ...TTTTGGCCGTAAA**GATTACA**TCTCTATCGATTCCCCGATG...\n",
      "Fragmento 177: longitud 25846 -> ...GGCTATTACCCGT**GATTACA**CCCTTGATATTCATGATGAA...\n",
      "Fragmento 178: longitud 49402 -> ...ATTCACATCGCGG**GATTACA**CCGCGCACTTAAAGGCGTTT...\n",
      "Fragmento 179: longitud  9332 -> ...GCTGTCTGACCGC**GATTACA**CCTGGAACGACAACGGCGAA...\n",
      "Fragmento 180: longitud  2656 -> ...TTCTATTATCCCC**GATTACA**GACAAACCTGGAAAGTGGAA...\n",
      "Fragmento 181: longitud   403 -> ...AGAAATCTAATGA**GATTACA**GCTATCCCAGAACTTCTTAA...\n",
      "Fragmento 182: longitud 21477 -> ...GACTAAACACTAT**GATTACA**TCGCCATCGGCGGCGGCAGC...\n",
      "Fragmento 183: longitud   980 -> ...GGATGAGCATCTG**GATTACA**GCAACATTCCGACCGTGGTC...\n",
      "Fragmento 184: longitud 10586 -> ...TGCAACTGGCGTT**GATTACA**TTGCATAAATATCCGTGTCT...\n",
      "Fragmento 185: longitud   148 -> ...GATATTTAAATCG**GATTACA**TTTTAACTTTAGTAATATTC...\n",
      "Fragmento 186: longitud 41382 -> ...CAGCAAAACAGCG**GATTACA**AAGCGCGGGCGCAGAAATTC...\n",
      "Fragmento 187: longitud 39138 -> ...GCATAGCTTTAAC**GATTACA**TTAATTTCAGCGACAAAACA...\n",
      "Fragmento 188: longitud 18084 -> ...TTGTGGAAATGAT**GATTACA**TCGCTGCGCGATAAATCGCC...\n",
      "Fragmento 189: longitud  8067 -> ...GCTGTCTGACCGC**GATTACA**CCTGGAACGACAACGGCGAA...\n",
      "Fragmento 190: longitud 14584 -> ...GGCCGATGATCCG**GATTACA**GTTTCGATATTCTGGAAGCC...\n",
      "Fragmento 191: longitud  1135 -> ...GACCGGACTGGAA**GATTACA**TCGGCTGGCTGGGGAATAAC...\n",
      "Fragmento 192: longitud  1221 -> ...AGGCCGGATAGAT**GATTACA**TCGCATCCGGCACGATCACA...\n",
      "Fragmento 193: longitud 12213 -> ...GATGTGATGGTAT**GATTACA**GACATTCGTGTCTGAGATTG...\n",
      "Fragmento 194: longitud 17562 -> ...TGCCTTTTTTATC**GATTACA**CGCATACCTTTAGCAGATAC...\n",
      "Fragmento 195: longitud 13334 -> ...TTTCCGCGAAATT**GATTACA**CTCGCCCGACCTGCATTTTG...\n",
      "Fragmento 196: longitud  7371 -> ...CATTCCATCAATA**GATTACA**ACGTAATTGTCAGCGCATTC...\n",
      "Fragmento 197: longitud  3295 -> ...TCGGGTCATTGGT**GATTACA**CCACCCAATGCGCAGTAAGG...\n",
      "Fragmento 198: longitud 32868 -> ...TGTGTACCCTGCG**GATTACA**GCGCACCCAGTGGCGCGGGA...\n",
      "Fragmento 199: longitud 68291 -> ...CAAAATCGCTGGT**GATTACA**TCGCGAAGAAAGCGGGTGAA...\n",
      "Fragmento 200: longitud  2477 -> ...CTTCAGCAACAAC**GATTACA**ACTTACTCCGATTCTGATGG...\n",
      "Fragmento 201: longitud 13319 -> ...CACGAAGAAAGCT**GATTACA**TTTGGTTCAATGGGGAGATG...\n",
      "Fragmento 202: longitud 33579 -> ...TCCCTGACAGGAT**GATTACA**TAAATAATAGTGACAAAAAT...\n",
      "Fragmento 203: longitud   267 -> ...AGGAAGCAAAGAG**GATTACA**GAATTATCTCATAACAAGTG...\n",
      "Fragmento 204: longitud 72674 -> ...GATTTCTCAGCTC**GATTACA**ACAGCTATGTTGGCGTTATC...\n",
      "Fragmento 205: longitud 105468 -> ...TAGCCATAGCAAA**GATTACA**ACTACGATCCCCATTATGGT...\n",
      "Fragmento 206: longitud 50364 -> ...AGCGTTGATTCGT**GATTACA**CCGATCTGGAAATTCTGGCA...\n",
      "Fragmento 207: longitud  1413 -> ...CTGCGGTCGTTGG**GATTACA**TCTTCAGCTATATCAAAACG...\n",
      "Fragmento 208: longitud  6238 -> ...AAAAATTTAATAT**GATTACA**ACTAAAGAAATATCATAAAT...\n",
      "Fragmento 209: longitud  4432 -> ...TTCTGGTAAAGCA**GATTACA**TCGGCGCATTTGCCGTGACT...\n",
      "Fragmento 210: longitud    71 -> ...AGCGCAGCACGAT**GATTACA**ACAAAATCATGGTGAAAGCG...\n",
      "Fragmento 211: longitud 13699 -> ...TGCTGGACAGGAA**GATTACA**GCGTAGCAGTTTGTTGTGTT...\n",
      "Fragmento 212: longitud   631 -> ...AGAGCATTACGCC**GATTACA**ATCACGCCCACGCCAAACAT...\n",
      "Fragmento 213: longitud 29625 -> ...AAGCGGCCTTAAC**GATTACA**GCATCGGCTTAAGGAAGCGT...\n",
      "Fragmento 214: longitud 16968 -> ...TCCCTTCTCGCGC**GATTACA**ACAAGCCGCGTGGACATGCT...\n",
      "Fragmento 215: longitud  5775 -> ...TCTGTGGCAAAAC**GATTACA**GCAATTCGTTGCTGGCGTAC...\n",
      "Fragmento 216: longitud 35235 -> ...GACAGAAACGGTT**GATTACA**GTGTGTTGCAACGAGCATTA...\n",
      "Fragmento 217: longitud 33013 -> ...CCATAAACTTCTT**GATTACA**TAGTATTACGAAAGGATTTT...\n",
      "Fragmento 218: longitud 56486 -> ...GGTATAAACGACA**GATTACA**GGAATGACTTGAACGGCAGA...\n",
      "Fragmento 219: longitud 12419 -> ...GCGCGTTCACGAT**GATTACA**ACCGTTTCCGCGATTCTGTT...\n",
      "Fragmento 220: longitud  6447 -> ...GGGTAAACCGCTG**GATTACA**CTCCGCGTGAGTCGTTCCTG...\n",
      "Fragmento 221: longitud  7821 -> ...CGGCAAAATGACC**GATTACA**CGCTCTCTATGCGTACGGCA...\n",
      "Fragmento 222: longitud  4551 -> ...GTGAGATGAAAGC**GATTACA**AACTTGTGATTAACGTTTTA...\n",
      "Fragmento 223: longitud 31148 -> ...ATCACTGTGTTTT**GATTACA**GCGCGGCGATAACAGCCTGC...\n",
      "Fragmento 224: longitud 53188 -> ...CTGATTATCGGAT**GATTACA**TTCTCCAGCATCAAAGCCTC...\n",
      "Fragmento 225: longitud 16545 -> ...TCAGACCTGCGCA**GATTACA**CTTGGGATCGTCACCAGTAC...\n",
      "Fragmento 226: longitud  1346 -> ...AGGCGCGGAAGCG**GATTACA**CCGAAGAAGAAATTGCTCAG...\n",
      "Fragmento 227: longitud 16619 -> ...CAGAATGTATAAC**GATTACA**AATAGTCATCAGCACATTAC...\n",
      "Fragmento 228: longitud 40017 -> ...GCGGATGTTTCTT**GATTACA**GCGTCACCTTTACCGCTGAA...\n",
      "Fragmento 229: longitud  8158 -> ...CAAACATATCGCA**GATTACA**CCTTCATCCAGCGCGCGGCG...\n",
      "Fragmento 230: longitud  2458 -> ...ATCTGACACCATC**GATTACA**GCGTCGGCTTTACTGATATG...\n",
      "Fragmento 231: longitud 22286 (No contiene 'GATTACA')\n"
     ]
    }
   ],
   "source": [
    "# cargamos el adn del fichero\n",
    "with open(\"E_coli.txt\", \"r\") as file:\n",
    "    adn = file.read()\n",
    "\n",
    "    \n",
    "# Para cargar el adn desde la web    \n",
    "# import requests\n",
    "\n",
    "# cargamos el adn desde la web\n",
    "# URL_adn_e_coli = 'https://raw.githubusercontent.com/javacasm/CursoBioInformatica2020/master/TareaExtra/E_coli.txt'\n",
    "\n",
    "# adnWeb = requests.get(URL_adn_e_coli)\n",
    "\n",
    "# adn = adnWeb.content.decode()\n",
    "    \n",
    "secuencia_a_buscar = 'GATTACA'\n",
    "\n",
    "secuenciaResaltada = '**'+secuencia_a_buscar+'**'\n",
    "\n",
    "longitud_secuencia_buscar = len(secuencia_a_buscar)\n",
    "\n",
    "fragmentos = adn.split(secuencia_a_buscar)\n",
    "\n",
    "print('Se han encontrado {} fragmentos'.format(len(fragmentos)))\n",
    "\n",
    "contador = 1\n",
    "anchoAMostrar = 20\n",
    "posicionADN = 0\n",
    "for fragmento in fragmentos:\n",
    "    longitudFragmento = len(fragmento)\n",
    "    posicionADN += longitudFragmento + longitud_secuencia_buscar\n",
    "    \n",
    "    contexto = adn[posicionADN - anchoAMostrar:posicionADN + anchoAMostrar]\n",
    "    \n",
    "    contextoResaltado = contexto.replace(secuencia_a_buscar,secuenciaResaltada)\n",
    "    \n",
    "    if contador < len(fragmentos):\n",
    "        print('Fragmento {:3d}: longitud {:5d} -> ...{}...'.format(contador, longitudFragmento, contextoResaltado))\n",
    "    else:\n",
    "        print('Fragmento {:3d}: longitud {:5d} (No contiene \\'{}\\')'.format(contador, longitudFragmento,secuencia_a_buscar))\n",
    "    contador += 1\n",
    "\n",
    "adnResaltado = ('**'+secuencia_a_buscar + '**').join(fragmentos)\n",
    "\n"
   ]
  }
 ],
 "metadata": {
  "colab": {
   "name": "Enunciado de la Tarea Extra Resaltando partes del ADN.ipynb",
   "provenance": []
  },
  "kernelspec": {
   "display_name": "Python 3",
   "language": "python",
   "name": "python3"
  },
  "language_info": {
   "codemirror_mode": {
    "name": "ipython",
    "version": 3
   },
   "file_extension": ".py",
   "mimetype": "text/x-python",
   "name": "python",
   "nbconvert_exporter": "python",
   "pygments_lexer": "ipython3",
   "version": "3.6.9"
  }
 },
 "nbformat": 4,
 "nbformat_minor": 1
}
