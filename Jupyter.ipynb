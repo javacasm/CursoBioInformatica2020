{
 "cells": [
  {
   "cell_type": "markdown",
   "metadata": {},
   "source": [
    "A medida que el cursor está junto a un paréntesis, llave o corchete nos indica cuál es su correspondiente"
   ]
  },
  {
   "cell_type": "markdown",
   "metadata": {},
   "source": [
    "## Teclas\n",
    "\n",
    "Esc + p : despliega un buscado\n",
    "\n",
    "Esc + b: nueva celda tras la actual\n",
    "\n",
    "Esc + a: nueva celda anterior a la actual\n",
    "\n",
    "Esc + m: celda a tipo markdown\n",
    "\n",
    "Esc + y: celda a tipo codigo\n",
    "\n",
    "Esc + x: borra la celda actual\n",
    "\n",
    "Esc + c: copia la celda actual\n",
    "\n",
    "Esc + V: pega tras la celda actual\n",
    "\n",
    "Ctrl + Enter: ejecuta/renderiza la celda"
   ]
  },
  {
   "cell_type": "markdown",
   "metadata": {},
   "source": [
    "## Recursos\n",
    "\n",
    "[Make beautifull plots in jupyter](https://towardsdatascience.com/making-plots-in-jupyter-notebook-beautiful-more-meaningful-23c8a35c0d5d)\n",
    "\n",
    "[Histogramas](https://www.tutorialspoint.com/numpy/numpy_histogram_using_matplotlib.htm)\n",
    "\n",
    "[Matplotlib in jupyter](https://medium.com/@1522933668924/using-matplotlib-in-jupyter-notebooks-comparing-methods-and-some-tips-python-c38e85b40ba1)\n"
   ]
  }
 ],
 "metadata": {
  "kernelspec": {
   "display_name": "Python 3",
   "language": "python",
   "name": "python3"
  },
  "language_info": {
   "codemirror_mode": {
    "name": "ipython",
    "version": 3
   },
   "file_extension": ".py",
   "mimetype": "text/x-python",
   "name": "python",
   "nbconvert_exporter": "python",
   "pygments_lexer": "ipython3",
   "version": "3.6.9"
  }
 },
 "nbformat": 4,
 "nbformat_minor": 4
}
