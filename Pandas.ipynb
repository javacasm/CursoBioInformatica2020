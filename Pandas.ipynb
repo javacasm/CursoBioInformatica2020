{
 "cells": [
  {
   "cell_type": "markdown",
   "metadata": {},
   "source": [
    "# Pandas\n",
    "\n",
    "Módulo para trabajo con ficheros de datos y tablas (estilo excel)\n",
    "\n",
    "[Documentación](https://colab.research.google.com/github/ageron/handson-ml2/blob/master/tools_pandas.ipynb)\n",
    "\n",
    "Se instala con: \n",
    "\n",
    "```sh\n",
    "pip3 install pandas\n",
    "```"
   ]
  },
  {
   "cell_type": "code",
   "execution_count": null,
   "metadata": {},
   "outputs": [],
   "source": [
    "# Para leer un fichero csv\n",
    "\n",
    "import pandas \n",
    "\n",
    "datos = pandas.read_csv('company_sales_data.csv',sep = ',') # sep\n",
    "\n",
    "datos # Es un dataFrame (tabla)"
   ]
  },
  {
   "cell_type": "markdown",
   "metadata": {},
   "source": [
    "TODO:\n",
    "¿Formatos que lee?\n",
    "¿Separadores? sep = ','\n",
    "¿separador decimal?"
   ]
  },
  {
   "cell_type": "markdown",
   "metadata": {},
   "source": [
    "describe da una descripción estadística de los datos\n",
    "\n",
    "mean ace la media\n",
    "\n",
    "groupby agrupaciones por un valor"
   ]
  }
 ],
 "metadata": {
  "kernelspec": {
   "display_name": "Python 3",
   "language": "python",
   "name": "python3"
  },
  "language_info": {
   "codemirror_mode": {
    "name": "ipython",
    "version": 3
   },
   "file_extension": ".py",
   "mimetype": "text/x-python",
   "name": "python",
   "nbconvert_exporter": "python",
   "pygments_lexer": "ipython3",
   "version": "3.6.9"
  }
 },
 "nbformat": 4,
 "nbformat_minor": 4
}
